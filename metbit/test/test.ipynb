{
 "cells": [
  {
   "cell_type": "code",
   "execution_count": null,
   "metadata": {},
   "outputs": [],
   "source": [
    "from glob import glob\n",
    "import os"
   ]
  },
  {
   "cell_type": "code",
   "execution_count": null,
   "metadata": {},
   "outputs": [],
   "source": [
    "from utility import project_name_generator"
   ]
  },
  {
   "cell_type": "code",
   "execution_count": null,
   "metadata": {},
   "outputs": [],
   "source": [
    "project_name_generator()"
   ]
  },
  {
   "cell_type": "code",
   "execution_count": null,
   "metadata": {},
   "outputs": [],
   "source": [
    "working_dir = 'PLS_results'\n",
    "\n",
    "\n",
    "#Create path to store the PLS plots and data\n",
    "os.makedirs(working_dir, exist_ok=True)\n",
    "os.makedirs(working_dir+'/element', exist_ok=True)\n",
    "os.makedirs(working_dir+'/element/plots/hist_plot', exist_ok=True)\n",
    "os.makedirs(working_dir+'/element/plots/Lingress', exist_ok=True)\n",
    "os.makedirs(working_dir+'/element/plots/loading_plot', exist_ok=True)\n",
    "os.makedirs(working_dir+'/element/plots/s_plot', exist_ok=True)\n",
    "os.makedirs(working_dir+'/element/plots/score_plot', exist_ok=True)\n",
    "os.makedirs(working_dir+'/element/plots/VIP_score_plot', exist_ok=True)\n",
    "os.makedirs(working_dir+'/element/data/Permutation_scores', exist_ok=True)\n",
    "os.makedirs(working_dir+'/element/data/OPLS_scores', exist_ok=True)\n",
    "os.makedirs(working_dir+'/element/data/Loading_scores', exist_ok=True)\n",
    "os.makedirs(working_dir+'/element/data/VIP_scores', exist_ok=True)\n",
    "os.mkdir(working_dir+'/main')"
   ]
  },
  {
   "cell_type": "code",
   "execution_count": null,
   "metadata": {},
   "outputs": [],
   "source": [
    "dir = glob(working_dir + '/element/*/*/')\n",
    "\n",
    "#Create dictionary to store the path\n",
    "path = {}\n",
    "for i in dir:\n",
    "    path[i.split('/')[-2]] = i\n",
    "\n"
   ]
  },
  {
   "cell_type": "code",
   "execution_count": null,
   "metadata": {},
   "outputs": [],
   "source": [
    "def project_name_generator():\n",
    "    #random project name\n",
    "    #get random time\n",
    "    import random\n",
    "    import time\n",
    "    # Get local time\n",
    "    current_time = time.localtime()\n",
    "    # Set format for time\n",
    "    time_format = time.strftime('%Y-%m-%d %H:%M:%S', current_time)\n",
    "    project_names = [\n",
    "                    \"QuantumQuest\",\n",
    "                    \"NebulaNet\",\n",
    "                    \"StellarSync\",\n",
    "                    \"AeroPulse\",\n",
    "                    \"CyberCircuit\",\n",
    "                    \"TerraTrack\",\n",
    "                    \"HoloHive\",\n",
    "                    \"PyroPixel\",\n",
    "                    \"LunarLoom\",\n",
    "                    \"ZenithZero\",\n",
    "                    \"BlazeBeacon\",\n",
    "                    \"AquaArise\",\n",
    "                    \"EchoEclipse\",\n",
    "                    \"FusionForge\",\n",
    "                    \"OrbitOpus\",\n",
    "                    \"PrismPortal\",\n",
    "                    \"NimbusNexus\",\n",
    "                    \"AstroArc\",\n",
    "                    \"VoltVoyage\",\n",
    "                    \"OmniOrbit\",\n",
    "                    \"PulsePioneer\",\n",
    "                    \"VortexVoyage\",\n",
    "                    \"GalacticGrid\",\n",
    "                    \"SolarSpectrum\",\n",
    "                    \"Satternlite\",\n",
    "                    \"StarSpectrum\",\n",
    "                    \"SpaceSpectrum\",\n",
    "                    \"GalacticSpectrum\"\n",
    "                    ]\n",
    "\n",
    "    project_name = time_format + '_' + random.choice(project_names)\n",
    "    return project_name\n"
   ]
  },
  {
   "cell_type": "code",
   "execution_count": null,
   "metadata": {},
   "outputs": [],
   "source": [
    "\n",
    "class lazypair:\n",
    "\n",
    "\n",
    "    def __init__(self, dataset, column_name):\n",
    "        \n",
    "        meta = dataset\n",
    "        self.meta = meta\n",
    "        self.column_name = column_name\n",
    "        \n",
    "\n",
    "        \"\"\"\n",
    "        This function takes in a dataframe and a column name and returns the index of the dataframe and the names of the pairs\n",
    "        of the unique values in the column.\n",
    "        Parameters\n",
    "        ----------\n",
    "        meta: pandas dataframe\n",
    "            The dataframe to be used.\n",
    "        column_name: str\n",
    "        Unipair(meta, column_name).indexing()\n",
    "        \n",
    "        \"\"\"\n",
    "        import pandas as pd\n",
    "        import numpy as np\n",
    "        \n",
    "        #check unique values in the column\n",
    "        if meta[column_name].nunique() < 3:\n",
    "            raise ValueError(\"Group should contain at least 3 groups\")\n",
    "        else:\n",
    "            pass\n",
    "        #check meta is a dataframe\n",
    "        if not isinstance(meta, pd.DataFrame):\n",
    "            raise ValueError(\"meta should be a pandas dataframe\")\n",
    "        #check column_name is a string\n",
    "        if not isinstance(column_name, str):\n",
    "            raise ValueError(\"column_name should be a string\")\n",
    "        \n",
    "\n",
    "        df = meta\n",
    "        y = df[column_name].unique()\n",
    "        pairs = []\n",
    "        for i in range(len(y)):\n",
    "            for j in range(i+1, len(y)):\n",
    "                pairs.append([y[i], y[j]])\n",
    "        \n",
    "        index_ = []\n",
    "        for i in range(len(pairs)):\n",
    "            inside_index = []\n",
    "            for j in range(2):\n",
    "                inside_index.append(list((df.loc[df[column_name] == pairs[i][j]]).index))\n",
    "            index_list = [inside_index[0] + inside_index[1]]\n",
    "            index_.append(index_list[0])\n",
    "        pairs\n",
    "        index_\n",
    "        names = []\n",
    "        for i in range(len(pairs)):\n",
    "            \n",
    "            names.append(str(pairs[i][0]) + \"_vs_\" + str(pairs[i][1]))\n",
    "            #check names if contain / replace with _ \n",
    "            names[i] = names[i].replace('/', '_')\n",
    "            \n",
    "        del df\n",
    "        del y\n",
    "        \n",
    "        self.index_ = index_\n",
    "        self.names = names\n",
    "        \n",
    "        \n",
    "        \n",
    "\n",
    "    def get_index(self):\n",
    "        index_ = self.index_\n",
    "        return index_\n",
    "    \n",
    "    def get_name(self):\n",
    "        names = self.names\n",
    "        return names\n",
    "    \n",
    "    def get_meta(self):\n",
    "        meta = self.meta\n",
    "        column_name = self.column_name\n",
    "        return meta[column_name]\n",
    "    \n",
    "    def get_column_name(self):\n",
    "        column_name = self.column_name\n",
    "        return column_name\n",
    "    \n",
    "    def get_dataset(self):\n",
    "        df = self.meta\n",
    "        index_ = self.index_\n",
    "        list_of_df = []\n",
    "        for i in range(len(index_)):\n",
    "            list_of_df.append(df.loc[index_[i]])\n",
    "        \n",
    "        #Create object attribute\n",
    "        self.list_of_df = list_of_df\n",
    "        return list_of_df"
   ]
  },
  {
   "cell_type": "code",
   "execution_count": null,
   "metadata": {},
   "outputs": [],
   "source": [
    "project_name_generator()"
   ]
  },
  {
   "cell_type": "code",
   "execution_count": null,
   "metadata": {},
   "outputs": [],
   "source": [
    "class lazy_opls_da:\n",
    "\n",
    "    \n",
    "    import os\n",
    "    from glob import glob\n",
    "    import pandas as pd\n",
    "    import numpy as np\n",
    "    import random\n",
    "    from metbit import opls_da\n",
    "\n",
    "    from metbit import project_name_generator\n",
    "    \n",
    "\n",
    "    def __init__(self, data: pd.DataFrame, groups: list, working_dir: str, n_components: int = 2, scaling: str = 'pareto', \n",
    "                    estimator: str = 'opls', kfold: int = 3, random_state: int = 94, auto_ncomp: bool = True,  \n",
    "                    permutation: bool = True, \n",
    "                    VIP: bool = True, \n",
    "                    linear_regression: bool = True) -> None:\n",
    "\n",
    "        self.groups = groups\n",
    "        self.n_components = n_components\n",
    "        self.working_dir = working_dir\n",
    "\n",
    "        self.random_state = random_state        \n",
    "        self.estimator = estimator\n",
    "        self.scale = scaling\n",
    "        self.kfold = kfold\n",
    "        self.auto_ncomp = auto_ncomp\n",
    "        \n",
    "\n",
    "        data['Class'] = groups\n",
    "        self.data = data\n",
    "\n",
    "        self.permutation = permutation\n",
    "        if permutation == True:\n",
    "            self.n_permutataion = int(input('Enter the number of permutation: '))\n",
    "            self.n_jobs = int(input('Enter the number of jobs: '))\n",
    "        else:\n",
    "            pass\n",
    "        \n",
    "        self.VIP = VIP\n",
    "        if VIP == True:\n",
    "            self.VIP_threshold = float(input('Enter the VIP threshold: '))\n",
    "\n",
    "        self.linear_regression = linear_regression\n",
    "        if linear_regression == True:\n",
    "            self.FC_threshold = float(input('Enter the fold change threshold: '))\n",
    "            self.p_val_threshold = float(input('Enter the p-value threshold: '))\n",
    "\n",
    "        \"\"\"\n",
    "        This function takes in a dataframe and a list of y values and returns the project_name model.\n",
    "        Parameters\n",
    "        ----------\n",
    "        data: pandas dataframe\n",
    "            The dataframe to be used.\n",
    "        y: list\n",
    "            The list of y values.\n",
    "        n_components: int\n",
    "            The number of components to use.\n",
    "        lazy_opls_da(data, y, n_components).fit()\n",
    "        \"\"\"\n",
    "        \n",
    "        project_name = project_name_generator()\n",
    "        \n",
    "\n",
    "        #Remove last / from working_dir\n",
    "        if working_dir[-1] == '/':\n",
    "            working_dir = working_dir[:-1]\n",
    "        else:\n",
    "            working_dir = working_dir\n",
    "\n",
    "        #Replace \\ with / for windows\n",
    "        working_dir = working_dir.replace('\\\\', '/')\n",
    "\n",
    "\n",
    "        if os.path.exists(working_dir + '/' + project_name + '/element'):\n",
    "            print('Directory already exist')\n",
    "        else:\n",
    "            folder_name_plot = ['loading_plot', 's_plot', 'score_plot']\n",
    "            folder_name_data = []\n",
    "            if permutation == True:\n",
    "                folder_name_plot.append('hist_plot')\n",
    "            else:\n",
    "                pass\n",
    "            if VIP == True:\n",
    "                folder_name_plot.append('VIP_score_plot')\n",
    "                folder_name_data.append('VIP_scores')\n",
    "            else:\n",
    "                pass\n",
    "            if linear_regression == True:\n",
    "                folder_name_plot.append('Volcano_plot')\n",
    "                folder_name_data.append('Lingress_data')\n",
    "            else:\n",
    "                pass\n",
    "\n",
    "\n",
    "\n",
    "            os.makedirs(working_dir+'/' + project_name + '/element', exist_ok=True)\n",
    "            for i in folder_name_plot:\n",
    "                os.makedirs(working_dir+'/' + project_name + '/element/plots/' + i, exist_ok=True)\n",
    "            for i in folder_name_data:\n",
    "                os.makedirs(working_dir+'/' + project_name + '/element/data/' + i, exist_ok=True)\n",
    "\n",
    "            os.makedirs(working_dir+'/' + project_name + '/main')\n",
    "\n",
    "        #Create dictionary to store the path\n",
    "        dir = glob(working_dir + '/' + project_name + '/element/*/*/')\n",
    "\n",
    "        #Create dictionary to store the path\n",
    "        path = {}\n",
    "        for i in dir:\n",
    "            path[i.split('/')[-2]] = i\n",
    "\n",
    "        self.color_map = color_map\n",
    "        self.path = path\n",
    "\n",
    "        #Print summary model as table text format\n",
    "        Summary = f\"\"\"\n",
    "        Project Name: {project_name}\n",
    "        Number of groups: {len(data['Class'].unique())}\n",
    "        Number of samples: {len(data)}\n",
    "        Number of features: {len(data.columns) - 1}\n",
    "        Number of components: {n_components}\n",
    "        Estimator: {estimator}\n",
    "        Scaling: {scaling}\n",
    "        Kfold: {kfold}\n",
    "        Random state: {random_state}\n",
    "        Auto ncomp: {auto_ncomp}\n",
    "        Working directory: {working_dir}\n",
    "        Permutation: {permutation}\n",
    "        VIP: {VIP}\n",
    "        Linear regression: {linear_regression}\n",
    "        \"\"\"\n",
    "\n",
    "        return print(Summary)\n",
    "\n",
    "\n",
    "\n",
    "    def fit(self, marker_color: dict = None) -> None:\n",
    "\n",
    "        from metbit import opls_da\n",
    "        from lingress import lin_regression\n",
    "        from metbit import lazypair\n",
    "\n",
    "     \n",
    "        data = self.data\n",
    "        n_components = self.n_components\n",
    "        path = self.path\n",
    "        color_map = self.color_map\n",
    "        scale = self.scale\n",
    "\n",
    "        marker_color = marker_color\n",
    "\n",
    "\n",
    "        #Create object attribute\n",
    "        lazy = lazypair(data, 'Class')\n",
    "        data_list = lazy.get_dataset()\n",
    "        name_save = lazy.get_name()\n",
    "\n",
    "        for i in range(len(data_list)):\n",
    "            \n",
    "            df = data_list[i]\n",
    "            name = name_save[i]\n",
    "\n",
    "            X = df.drop('Class', axis=1)\n",
    "            y = df['Class']\n",
    "            feature_names = X.columns\n",
    "            # Check if feature names can be converted to float\n",
    "            try:\n",
    "                feature_names = feature_names(float).tolist()\n",
    "            except:\n",
    "                feature_names = feature_names.tolist()\n",
    "\n",
    "            #PLS\n",
    "            pls_mod = opls_da(X=X, y=y, features_name = feature_names, n_components=n_components, scale=scale, estimator=self.estimator, kfold=self.kfold, random_state=self.random_state, auto_ncomp = self.auto_ncomp)\n",
    "            pls_mod.fit()\n",
    "\n",
    "            #Score plot\n",
    "            pls_mod.plot_pls_scores(color_dict=marker_color).write_html(path['score_plot'] + name + '_score_plot.html')\n",
    "            pls_mod.plot_pls_scores(color_dict=marker_color).write_image(path['score_plot'] + name + '_score_plot.png')\n",
    "\n",
    "            #Loading plot\n",
    "            pls_mod.plot_loading().write_html(path['loading_plot'] + name + '_loading_plot.html')\n",
    "            pls_mod.plot_loading().write_image(path['loading_plot'] + name + '_loading_plot.png')\n",
    "\n",
    "            #S plot\n",
    "            pls_mod.plot_s_scores().write_html(path['s_plot'] + name + '_s_plot.html')\n",
    "            pls_mod.plot_s_scores().write_image(path['s_plot'] + name + '_s_plot.png')\n",
    "\n",
    "            #VIP score plot\n",
    "            if self.VIP == True:\n",
    "                pls_mod.vip_scores()\n",
    "                pls_mod.get_vip_scores().to_csv(path['VIP_scores'] + name + '_VIP_scores.csv')\n",
    "                pls_mod.vip_plot(threshold=self.VIP_threshold).write_html(path['VIP_score_plot'] + name + '_VIP_score_plot.html')\n",
    "                pls_mod.vip_plot(threshold=self.VIP_threshold).write_image(path['VIP_score_plot'] + name + '_VIP_score_plot.png')\n",
    "            else:\n",
    "                pass\n",
    "\n",
    "            #Permutation test\n",
    "            if self.permutation == True:\n",
    "                pls_mod.permutation_test(n_permutations=self.n_permutataion, n_jobs=self.n_jobs)\n",
    "                pls_mod.plot_hist().write_html(path['hist_plot'] + name + '_hist_plot.html')\n",
    "                pls_mod.plot_hist().write_image(path['hist_plot'] + name + '_hist_plot.png')\n",
    "            else:\n",
    "                pass\n",
    "\n",
    "            #Linear regression\n",
    "            if self.linear_regression == True:\n",
    "                lin_ = lin_regression(x=X, target=y, label=y, features_name=feature_names)\n",
    "                lin_.create_dataset()\n",
    "                lin_.fit_model(adj_method='fdr_bh')\n",
    "                lin_.volcano_plot(fc_cut_off=self.FC_threshold, p_val_cut_off=self.p_val_threshold).write_html(path['Volcano_plot'] + name + '_Volcano_plot.html')\n",
    "                lin_.volcano_plot(fc_cut_off=self.FC_threshold, p_val_cut_off=self.p_val_threshold).write_image(path['Volcano_plot'] + name + '_Volcano_plot.png')\n",
    "                lin_.report().to_csv(path['Lingress_data'] + name + '_Lingress_data.csv', index=False)\n",
    "            else:\n",
    "                pass\n",
    "        \n",
    "        return print('Model has been fitted successfully')\n",
    "\n"
   ]
  },
  {
   "cell_type": "code",
   "execution_count": null,
   "metadata": {},
   "outputs": [],
   "source": [
    "df = pd.read_csv('https://raw.githubusercontent.com/plotly/datasets/master/iris.csv')\n",
    "df"
   ]
  },
  {
   "cell_type": "code",
   "execution_count": null,
   "metadata": {},
   "outputs": [],
   "source": [
    "data = df.drop('Name', axis=1)\n",
    "groups = df['Name']"
   ]
  },
  {
   "cell_type": "code",
   "execution_count": null,
   "metadata": {},
   "outputs": [],
   "source": [
    "lazy_opls_da(data=data, groups=groups, working_dir='/Users/aeiwz/Github/metbit/metbit/test').fit()"
   ]
  },
  {
   "cell_type": "code",
   "execution_count": null,
   "metadata": {},
   "outputs": [],
   "source": []
  },
  {
   "cell_type": "code",
   "execution_count": null,
   "metadata": {},
   "outputs": [],
   "source": [
    "import matplotlib.pyplot as plt\n",
    "import numpy as np\n",
    "import matplotlib.colors as mcolors\n",
    "\n",
    "# List of 32 different color codes in HEX format\n",
    "colors = [\n",
    "     \"#FFB6C1\", \"#FFD700\", \"#FFA07A\", \"#FA8072\", \"#F08080\", \"#E9967A\", \"#FF8C00\",\n",
    "    \"#FFA500\", \"#FFD700\", \"#DAA520\", \"#BDB76B\", \"#9ACD32\", \"#7FFF00\", \"#32CD32\",\n",
    "    \"#00FF7F\", \"#20B2AA\", \"#00CED1\", \"#AFEEEE\", \"#87CEEB\", \"#ADD8E6\", \"#B0E0E6\",\n",
    "    \"#87CEFA\", \"#4682B4\", \"#6495ED\", \"#4169E1\", \"#0000FF\", \"#191970\", \"#7B68EE\",\n",
    "    \"#8A2BE2\", \"#9932CC\", \"#BA55D3\", \"#FF69B4\"\n",
    "]\n",
    "\n",
    "# Convert HEX colors to RGB\n",
    "rgb_colors = [mcolors.to_rgb(c) for c in colors]\n",
    "\n",
    "# Create an image with the colors\n",
    "image = np.array([rgb_colors])\n",
    "\n",
    "# Plotting the colors\n",
    "fig, ax = plt.subplots(figsize=(12, 2))\n",
    "ax.imshow(image.reshape(1, len(colors), 3), aspect='auto')\n",
    "ax.axis('off')  # Turn off axis\n",
    "plt.show()\n"
   ]
  },
  {
   "cell_type": "code",
   "execution_count": null,
   "metadata": {},
   "outputs": [],
   "source": [
    "colors = [\n",
    "     \"#FFB6C1\", \"#FFD700\", \"#FFA07A\", \"#FA8072\", \"#F08080\", \"#E9967A\", \"#FF8C00\",\n",
    "    \"#FFA500\", \"#FFD700\", \"#DAA520\", \"#BDB76B\", \"#9ACD32\", \"#7FFF00\", \"#32CD32\",\n",
    "    \"#00FF7F\", \"#20B2AA\", \"#00CED1\", \"#AFEEEE\", \"#87CEEB\", \"#ADD8E6\", \"#B0E0E6\",\n",
    "    \"#87CEFA\", \"#4682B4\", \"#6495ED\", \"#4169E1\", \"#0000FF\", \"#191970\", \"#7B68EE\",\n",
    "    \"#8A2BE2\", \"#9932CC\", \"#BA55D3\", \"#FF69B4\"\n",
    "]\n",
    "\n",
    "import random\n",
    "\n",
    "color_map = {}\n",
    "for i in range(23):\n",
    "    color_map[i] = str(random.sample(colors, 1)).removeprefix(\"['\").removesuffix(\"']\")"
   ]
  },
  {
   "cell_type": "code",
   "execution_count": null,
   "metadata": {},
   "outputs": [],
   "source": [
    "color_map\n"
   ]
  },
  {
   "cell_type": "code",
   "execution_count": null,
   "metadata": {},
   "outputs": [],
   "source": [
    "import matplotlib.pyplot as plt\n",
    "import matplotlib.patches as mpatches\n",
    "import random\n",
    "\n",
    "# Define the colors and their corresponding names\n",
    "colors = [\n",
    "    \"#FFB6C1\", \"#FFD700\", \"#FFA07A\", \"#FA8072\", \"#F08080\", \"#E9967A\", \"#FF8C00\",\n",
    "    \"#FFA500\", \"#FFD700\", \"#DAA520\", \"#BDB76B\", \"#9ACD32\", \"#7FFF00\", \"#32CD32\",\n",
    "    \"#00FF7F\", \"#20B2AA\", \"#00CED1\", \"#AFEEEE\", \"#87CEEB\", \"#ADD8E6\", \"#B0E0E6\",\n",
    "    \"#87CEFA\", \"#4682B4\", \"#6495ED\", \"#4169E1\", \"#0000FF\", \"#191970\", \"#7B68EE\",\n",
    "    \"#8A2BE2\", \"#9932CC\", \"#BA55D3\", \"#FF69B4\"\n",
    "]\n",
    "\n",
    "# Generate color map\n",
    "color_map = {}\n",
    "for i in range(23):\n",
    "    color_map[i] = str(random.sample(colors, 1)).removeprefix(\"['\").removesuffix(\"']\")\n",
    "\n",
    "# Plot the color map using rectangles and texts directly\n",
    "fig, ax = plt.subplots(figsize=(10, 6))\n",
    "\n",
    "# Plot the color blocks and labels\n",
    "for i, (index, color) in enumerate(color_map.items()):\n",
    "    ax.add_patch(mpatches.Rectangle((0, i), 1, 1, color=color))\n",
    "    plt.text(0.5, i + 0.5, f\"{index}: {color}\", ha='center', va='center', fontsize=12, color=\"black\" if color not in [\"#000000\", \"#191970\"] else \"white\")\n",
    "\n",
    "# Set limits and remove axes\n",
    "ax.set_xlim(0, 1)\n",
    "ax.set_ylim(0, len(color_map))\n",
    "ax.axis('off')\n",
    "plt.gca().invert_yaxis()\n",
    "\n",
    "plt.show()\n",
    "\n"
   ]
  },
  {
   "cell_type": "code",
   "execution_count": null,
   "metadata": {},
   "outputs": [],
   "source": [
    "len(unique_color)"
   ]
  },
  {
   "cell_type": "code",
   "execution_count": null,
   "metadata": {},
   "outputs": [],
   "source": [
    "import pandas as pd\n",
    "import numpy as np"
   ]
  },
  {
   "cell_type": "code",
   "execution_count": null,
   "metadata": {},
   "outputs": [],
   "source": [
    "data = pd.DataFrame(np.random.rand(100, 10))\n",
    "y = np.random.randint(0, 2, 100)\n",
    "n_components = 2\n",
    "\n",
    "lazy_opls_da(data, y, n_components, working_dir, permutation=False, VIP=False, linear_regression=False)"
   ]
  },
  {
   "cell_type": "code",
   "execution_count": null,
   "metadata": {},
   "outputs": [],
   "source": [
    "\n",
    "dir = glob('/Users/aeiwz/Github/metbit/metbit/test/QuantumQuest 2024-06-25 11:29:53' + '/element/*/*/')\n",
    "\n",
    "#Create dictionary to store the path\n",
    "path = {}\n",
    "for i in dir:\n",
    "    path[i.split('/')[-2]] = i"
   ]
  },
  {
   "cell_type": "code",
   "execution_count": null,
   "metadata": {},
   "outputs": [],
   "source": [
    "path"
   ]
  },
  {
   "cell_type": "code",
   "execution_count": null,
   "metadata": {},
   "outputs": [],
   "source": []
  },
  {
   "cell_type": "markdown",
   "metadata": {},
   "source": [
    "# **PLS**"
   ]
  },
  {
   "cell_type": "code",
   "execution_count": null,
   "metadata": {},
   "outputs": [],
   "source": [
    "import numpy as np\n",
    "\n",
    "# let's create two data arrays with 80 observations\n",
    "X = np.random.rand(80, 10000)  # a 10000-feature (e.g., neural) data array\n",
    "Y = np.random.rand(80, 10)     # a 10-feature (e.g., behavioral) data array\n",
    "\n",
    "# we're going to pretend that this data is from 2 groups of 20 subjects each,\n",
    "# and that each subject participated in 2 task conditions\n",
    "groups = [20, 20]  # a list with the number of subjects in each group\n",
    "n_cond = 2         # the number of tasks or conditions\n",
    "\n",
    "# run the analysis and look at the results structure\n",
    "from pyls import behavioral_pls\n",
    "bpls = behavioral_pls(X, Y, groups=groups, n_cond=n_cond)\n",
    "bpls\n",
    "PLSResults(x_weights, y_weights, x_scores, y_scores, y_loadings, singvals, varexp, permres, \n",
    "bootres, splitres, cvres, inputs)"
   ]
  },
  {
   "cell_type": "code",
   "execution_count": null,
   "metadata": {},
   "outputs": [],
   "source": [
    "#Create dataset for testing\n",
    "import pandas as pd\n",
    "import numpy as np\n",
    "\n",
    "data = pd.DataFrame(np.random.rand(500, 50000))\n",
    "class_ = pd.Series(np.random.choice(['A', 'B', 'C', 'D'], 500), name='Group')\n",
    "\n",
    "datasets = pd.concat([class_, data], axis=1)\n"
   ]
  },
  {
   "cell_type": "code",
   "execution_count": null,
   "metadata": {},
   "outputs": [],
   "source": [
    "datasets    "
   ]
  },
  {
   "cell_type": "code",
   "execution_count": null,
   "metadata": {},
   "outputs": [],
   "source": [
    "X = datasets.iloc[:, 1:]\n",
    "col = X.columns.astype(float).to_list()\n",
    "y = datasets['Group']"
   ]
  },
  {
   "cell_type": "code",
   "execution_count": null,
   "metadata": {},
   "outputs": [],
   "source": [
    "from metbit import lazy_opls_da"
   ]
  },
  {
   "cell_type": "code",
   "execution_count": null,
   "metadata": {},
   "outputs": [],
   "source": [
    "laz = lazy_opls_da(data=X, groups=y, feature_names=col, working_dir='.')"
   ]
  },
  {
   "cell_type": "code",
   "execution_count": null,
   "metadata": {},
   "outputs": [],
   "source": [
    "laz.fit()"
   ]
  },
  {
   "cell_type": "code",
   "execution_count": null,
   "metadata": {},
   "outputs": [],
   "source": [
    "mod = PLS(X=datasets.iloc[:, 1:], y=datasets['Group'], n_components=2, scale='pareto', kfold=3, estimator='opls', random_state=42)\n",
    "mod.fit()"
   ]
  },
  {
   "cell_type": "code",
   "execution_count": null,
   "metadata": {},
   "outputs": [],
   "source": [
    "import pandas as pd\n",
    "# Load your NMR spectra data\n",
    "df = pd.read_csv(\"https://raw.githubusercontent.com/aeiwz/example_data/main/dataset/Example_NMR_data.csv\")\n",
    "spectra = df.iloc[:,1:]\n",
    "ppm = spectra.columns.astype(float).to_list()\n",
    "\n"
   ]
  },
  {
   "cell_type": "code",
   "execution_count": null,
   "metadata": {},
   "outputs": [],
   "source": [
    "from dynamic_STOCSY import dynamic_STOCSY\n",
    "from STOCSY import STOCSY"
   ]
  },
  {
   "cell_type": "code",
   "execution_count": null,
   "metadata": {},
   "outputs": [],
   "source": [
    "import lingress\n",
    "import metbit\n",
    "import time"
   ]
  },
  {
   "cell_type": "code",
   "execution_count": null,
   "metadata": {},
   "outputs": [],
   "source": [
    "lingress.plot_NMR_spec(spectra, ppm, df['Group']).median_spectra_group()"
   ]
  },
  {
   "cell_type": "code",
   "execution_count": null,
   "metadata": {},
   "outputs": [],
   "source": [
    "t1 = time.time()\n",
    "dynamic_STOCSY(spectra=spectra, anchor_ppm_value=1.332, p_value_threshold=0.0001)\n",
    "t2 = time.time()\n",
    "du1 = t2-t1\n",
    "print(du1)\n",
    "\n",
    "t3 = time.time()\n",
    "STOCSY(spectra=spectra, anchor_ppm_value=1.332, p_value_threshold=0.0001)\n",
    "t4 = time.time()\n",
    "du2 = t4-t3\n",
    "print(du2)"
   ]
  },
  {
   "cell_type": "code",
   "execution_count": null,
   "metadata": {},
   "outputs": [],
   "source": [
    "t3 = time.time()\n",
    "STOCSY(spectra=spectra, anchor_ppm_value=1.332, p_value_threshold=0.0001)\n",
    "t4 = time.time()\n",
    "du2 = t4-t3\n",
    "print(du2)"
   ]
  },
  {
   "cell_type": "code",
   "execution_count": null,
   "metadata": {},
   "outputs": [],
   "source": [
    "import pandas as pd"
   ]
  },
  {
   "cell_type": "code",
   "execution_count": null,
   "metadata": {},
   "outputs": [],
   "source": [
    "data = {'PC1': [1,2,3,4], 'PC2': [1,2,3,4], 'Group': ['A', 'A', 'Z', 'Z']}"
   ]
  },
  {
   "cell_type": "code",
   "execution_count": null,
   "metadata": {},
   "outputs": [],
   "source": [
    "df_scores_ = pd.DataFrame(data)"
   ]
  },
  {
   "cell_type": "code",
   "execution_count": null,
   "metadata": {},
   "outputs": [],
   "source": [
    "df_scores_"
   ]
  },
  {
   "cell_type": "code",
   "execution_count": null,
   "metadata": {},
   "outputs": [],
   "source": [
    "color_dict = {'A': 1, 'M': 8, 'Z':6}\n",
    "color_dict"
   ]
  },
  {
   "cell_type": "code",
   "execution_count": null,
   "metadata": {},
   "outputs": [],
   "source": [
    "color_dict = None"
   ]
  },
  {
   "cell_type": "code",
   "execution_count": null,
   "metadata": {},
   "outputs": [],
   "source": [
    "#If user not input color_dict then get unique of label and create color_dict\n",
    "if color_dict is not None:\n",
    "    color_dict_2 = color_dict\n",
    "else:\n",
    "    \n",
    "    import plotly.colors as plotly_colour\n",
    "\n",
    "    name_color_set = ['Plotly', 'D3', 'G10', 'T10', 'Alphabet', 'Dark24', 'Light24', 'Set1', 'Pastel1', \n",
    "                        'Dark2', 'Set2', 'Pastel2', 'Set3', 'Antique', 'Safe', 'Bold', 'Pastel', \n",
    "                        'Vivid', 'Prism']\n",
    "\n",
    "    palette = []\n",
    "    for name in name_color_set:\n",
    "        palette += getattr(plotly_colour.qualitative, name) # This is a list of colors\n",
    "\n",
    "    color_dict = {i: palette[i] for i in range(len(df_scores_['Group'].unique()))}\n",
    "\n",
    "    group_unique = df_scores_['Group'].unique()\n",
    "    color_dict_2 = {group_unique[i]: list(color_dict.values())[i] for i in range(len(group_unique))}\n",
    "\n",
    "#new color_dict to match with unique label\n",
    "#group_unique = df_scores_['Group'].unique()\n",
    "#change key of color_dict to match with unique label\n",
    "#color_dict_2 = {group_unique[i]: list(color_dict.values())[i] for i in range(len(group_unique))}"
   ]
  },
  {
   "cell_type": "code",
   "execution_count": null,
   "metadata": {},
   "outputs": [],
   "source": [
    "color_dict_2"
   ]
  },
  {
   "cell_type": "code",
   "execution_count": null,
   "metadata": {},
   "outputs": [],
   "source": [
    "!pip3 install nbformat"
   ]
  },
  {
   "cell_type": "code",
   "execution_count": null,
   "metadata": {},
   "outputs": [],
   "source": []
  },
  {
   "cell_type": "code",
   "execution_count": null,
   "metadata": {},
   "outputs": [],
   "source": [
    "import pandas as pd\n",
    "\n",
    "# Load your NMR spectra data\n",
    "df = pd.read_csv(\"https://raw.githubusercontent.com/aeiwz/example_data/main/dataset/Example_NMR_data.csv\")\n",
    "spectra = df.iloc[:,1:]\n",
    "ppm = spectra.columns.astype(float).to_list()\n",
    "y = df['Group']\n",
    "color_code = {'A': '#88c4ff', 'B': '#88ffa6', 'C': '#ff88eb'}"
   ]
  },
  {
   "cell_type": "code",
   "execution_count": null,
   "metadata": {},
   "outputs": [],
   "source": []
  },
  {
   "cell_type": "code",
   "execution_count": null,
   "metadata": {},
   "outputs": [],
   "source": [
    "y = pd.DataFrame({'Group':['A', 'A', 'A', 'B', 'B', 'B', 'C', 'C', 'C', 'C']})\n"
   ]
  },
  {
   "cell_type": "code",
   "execution_count": null,
   "metadata": {},
   "outputs": [],
   "source": [
    "y = y != 'B'\n"
   ]
  },
  {
   "cell_type": "code",
   "execution_count": null,
   "metadata": {},
   "outputs": [],
   "source": [
    "y"
   ]
  },
  {
   "cell_type": "code",
   "execution_count": null,
   "metadata": {},
   "outputs": [],
   "source": [
    "spectra"
   ]
  },
  {
   "cell_type": "code",
   "execution_count": null,
   "metadata": {},
   "outputs": [],
   "source": []
  },
  {
   "cell_type": "code",
   "execution_count": null,
   "metadata": {},
   "outputs": [],
   "source": [
    "type(y['Group'])"
   ]
  },
  {
   "cell_type": "code",
   "execution_count": null,
   "metadata": {},
   "outputs": [],
   "source": [
    "spectra = spectra.loc[y.loc[y['Group'] != 'A'].index, :]\n",
    "y = y.loc[y.loc[y['Group'] != 'A'].index]\n",
    "\n"
   ]
  },
  {
   "cell_type": "code",
   "execution_count": null,
   "metadata": {},
   "outputs": [],
   "source": [
    "from metbit import pca"
   ]
  },
  {
   "cell_type": "code",
   "execution_count": null,
   "metadata": {},
   "outputs": [],
   "source": [
    "pca_mod = pca(X=spectra, label=y['Group'], features_name=ppm)\n",
    "pca_mod.fit()\n",
    "pca_mod.plot_pca_scores(color_dict=color_code)"
   ]
  },
  {
   "cell_type": "code",
   "execution_count": null,
   "metadata": {},
   "outputs": [],
   "source": [
    "pca_mod.plot_pca_scores(color_dict=color_code)"
   ]
  },
  {
   "cell_type": "code",
   "execution_count": null,
   "metadata": {},
   "outputs": [],
   "source": [
    "pca_mod.plot_pca_scores(color_dict=color_code)"
   ]
  },
  {
   "cell_type": "code",
   "execution_count": 2,
   "metadata": {},
   "outputs": [],
   "source": [
    "import pandas as pd\n",
    "\n",
    "# Load your NMR spectra data\n",
    "df = pd.read_csv(\"https://raw.githubusercontent.com/aeiwz/example_data/main/dataset/Example_NMR_data.csv\")\n",
    "spectra = df.iloc[:,1:]\n",
    "ppm = spectra.columns.astype(float).to_list()\n",
    "y = df['Group']\n",
    "color_code = {'A': '#88c4ff', 'B': '#88ffa6', 'C': '#ff88eb'}"
   ]
  },
  {
   "cell_type": "code",
   "execution_count": 3,
   "metadata": {},
   "outputs": [],
   "source": [
    "from metbit import opls_da"
   ]
  },
  {
   "cell_type": "code",
   "execution_count": 4,
   "metadata": {},
   "outputs": [],
   "source": [
    "opls_da_mod = opls_da(X=spectra, y=y, features_name=ppm)"
   ]
  },
  {
   "cell_type": "code",
   "execution_count": 5,
   "metadata": {},
   "outputs": [
    {
     "name": "stdout",
     "output_type": "stream",
     "text": [
      "\n",
      "            Comparison of A and B\n",
      "            Sample size: A: 5\n",
      "                         B: 5\n",
      "            Number of features: 7211\n",
      "            Number of components: 2\n",
      "            Method of scaling: pareto\n",
      "            OPLS-DA model is fitted in 0.07859086990356445 seconds\n",
      "            R2Xcorr: 0.3760865200001458\n",
      "            R2y: 0.9562818702294802\n",
      "            Q2: -0.4243662367503016        \n",
      "            \n"
     ]
    }
   ],
   "source": [
    "opls_da_mod.fit()\n",
    "fig = opls_da_mod.plot_oplsda_scores(color_dict=color_code, marker_size=16)"
   ]
  },
  {
   "cell_type": "code",
   "execution_count": 15,
   "metadata": {},
   "outputs": [
    {
     "data": {
      "application/vnd.plotly.v1+json": {
       "config": {
        "plotlyServerURL": "https://plot.ly"
       },
       "data": [
        {
         "customdata": [
          [
           -7257.28637379523,
           "A",
           0
          ],
          [
           167266.8274435498,
           "A",
           1
          ],
          [
           -37115.60830727549,
           "A",
           2
          ],
          [
           -101368.1414777151,
           "A",
           3
          ],
          [
           -277818.13600723766,
           "A",
           4
          ]
         ],
         "hovertemplate": "Group=%{customdata[1]}<br>t<sub>scores</sub>=%{x}<br>t<sub>orthogonal</sub>=%{y}<br>t<sub>predict</sub>=%{customdata[0]}<br>Index=%{customdata[2]}<extra></extra>",
         "legendgroup": "A",
         "marker": {
          "color": "#88c4ff",
          "line": {
           "color": "DarkSlateGrey",
           "width": 2
          },
          "opacity": 0.7,
          "size": 16,
          "symbol": "circle"
         },
         "mode": "markers",
         "name": "A",
         "orientation": "v",
         "showlegend": true,
         "textfont": {
          "size": 9.6
         },
         "textposition": "middle center",
         "type": "scatter",
         "x": [
          -7257.28637379523,
          167266.8274435498,
          -37115.60830727549,
          -101368.1414777151,
          -277818.13600723766
         ],
         "xaxis": "x",
         "y": [
          62647.22829263903,
          44422.14385668295,
          -662701.9698624569,
          -150726.6733219874,
          -153231.82422869815
         ],
         "yaxis": "y"
        },
        {
         "customdata": [
          [
           244755.99653572572,
           "B",
           5
          ],
          [
           205916.02425316846,
           "B",
           6
          ],
          [
           16301.937010815811,
           "B",
           7
          ],
          [
           43332.68998786463,
           "B",
           8
          ],
          [
           -542272.0692742168,
           "B",
           9
          ]
         ],
         "hovertemplate": "Group=%{customdata[1]}<br>t<sub>scores</sub>=%{x}<br>t<sub>orthogonal</sub>=%{y}<br>t<sub>predict</sub>=%{customdata[0]}<br>Index=%{customdata[2]}<extra></extra>",
         "legendgroup": "B",
         "marker": {
          "color": "#88ffa6",
          "line": {
           "color": "DarkSlateGrey",
           "width": 2
          },
          "opacity": 0.7,
          "size": 16,
          "symbol": "circle"
         },
         "mode": "markers",
         "name": "B",
         "orientation": "v",
         "showlegend": true,
         "textfont": {
          "size": 9.6
         },
         "textposition": "middle center",
         "type": "scatter",
         "x": [
          244755.99653572572,
          205916.02425316846,
          16301.937010815811,
          43332.68998786463,
          -542272.0692742168
         ],
         "xaxis": "x",
         "y": [
          126599.48458199624,
          187037.92811145738,
          120938.15780196463,
          58446.38303904232,
          -186209.17943621599
         ],
         "yaxis": "y"
        }
       ],
       "layout": {
        "annotations": [
         {
          "align": "left",
          "font": {
           "color": "black",
           "size": 20
          },
          "showarrow": false,
          "text": "<b>R<sup>2</sup>X: 37.61%<b>",
          "textangle": 0,
          "x": 0,
          "xref": "paper",
          "y": 1.09,
          "yref": "paper"
         },
         {
          "align": "left",
          "font": {
           "color": "black",
           "size": 20
          },
          "showarrow": false,
          "text": "<b>R<sup>2</sup>Y: 95.63%<b>",
          "textangle": 0,
          "x": 0,
          "xref": "paper",
          "y": 1.05,
          "yref": "paper"
         },
         {
          "align": "left",
          "font": {
           "color": "black",
           "size": 20
          },
          "showarrow": false,
          "text": "<b>Q<sup>2</sup>: -42.44%<b>",
          "textangle": 0,
          "x": 0,
          "xref": "paper",
          "y": 1.1300000000000001,
          "yref": "paper"
         }
        ],
        "autosize": true,
        "font": {
         "size": 20
        },
        "height": 900,
        "legend": {
         "title": {
          "text": "Group"
         },
         "tracegroupgap": 0
        },
        "paper_bgcolor": "rgba(0,0,0,0)",
        "plot_bgcolor": "rgba(0,0,0,0)",
        "shapes": [
         {
          "line": {
           "color": "#88c4ff",
           "width": 2
          },
          "path": "M 197299.31062390626, 280389.0138921713L184461.17416413297, 301929.6322550003L170673.8778973404, 321562.2325622592L155992.93839945475, 339207.761261715L140477.4706322878, 354795.16603717406L124189.94990845023, 368261.6819110832L107195.960325318, 379553.08397694107L89563.93068101974, 388623.9057438583L71364.85893581799, 395437.6222140696L52672.026328381704, 399966.7969562083L33560.702298102246, 402193.1925821317L14107.841401626727, 402107.8441824467L-5608.226555980626, 399711.0954250357L-25508.111927717935, 395012.5971712271L-45511.68489873374, 388031.2686151834L-65538.39814081026, 378795.22110298346L-85507.6111480252, 367341.64493815345L-105338.91494760785, 353716.65962944063L-124952.45587849237, 337975.12818382983L-144269.2571338272, 320180.4361925769L-163211.53677270171, 300404.23659980483L-181703.02092056972, 278726.1611813875L-199669.25089722185, 255233.49989589318L-217037.88303561107, 230020.84939873024L-233738.97998426663, 203189.7321348026L-249705.29232032428, 174848.18754345676L-264872.5293392172, 145110.33702179036L-279179.61793065205, 114095.92439806505L-292568.948498469, 81929.83376557307L-304986.6069341522, 48741.58661847006L-316382.5917099163, 14664.820314432407L-326711.01521721116, -20163.250035815785L-335930.2885399256, -55602.384085324564L-344003.2889182741, -91509.88094929821L-350897.5092290483, -127741.15381119229L-356585.1888803286, -164150.31212279465L-361043.42559359065, -200590.74905396934L-364254.26762309694, -236915.7318266202L-366204.7860412412, -272978.9925557977L-366887.1267987771, -308635.31721884885L-366298.54235030175, -343741.13038103294L-364441.4027176521, -378155.0733231242L-361323.18594666285, -411738.573243081L-356956.4479957157, -444356.4012398134L-351358.7721773262, -475877.2168322371L-344552.69835635, -506174.09682103724L-336565.63218990306, -535125.0463635937L-327429.73477445217, -562613.4902041559L-317181.7931444315, -588528.7420812531L-305863.072143838, -612766.4504222024L-293519.14826726884, -635229.0185300633L-280199.7261394642, -655825.9975710888L-265958.4383723254, -674474.4507802562L-250852.62960531726, -691099.2874183474L-234943.1255988431, -705633.5651358534L-218293.988310377, -718018.7595261884L-200972.25793957018, -728204.9997828199L-183047.68298102915, -736151.2695114042L-164592.43937174475, -741825.571888331L-145680.83986406864, -745205.058500638L-126389.03479448671, -746276.1213485061L-106794.70545309209, -745034.4476398717L-86976.75128844581, -741485.0371565189L-67014.97220734577, -735642.1821217217L-46989.74724876571, -727529.4096505058L-26981.710925835756, -717179.3870142604L-7071.428539116241, -704633.7901011653L12660.928231431106, -689943.1356021L32135.904149503986, -673166.577597757L51275.08036065161, -654371.6693660378L70001.39015732506, -633634.091368846L88239.42929930684, -611037.3465135777L105915.75963997481, -586672.4239163845L122959.20483579773, -560637.4325211177L139301.13694835, -533037.2060492376L154875.752784797, -503982.88087141933L169620.33886412927, -473591.44850061066L183475.52394221508, -441985.284508502L196385.51807884645, -409291.6557622906L208298.33728413674, -375642.2079659257L219166.01283970167, -341172.4355693199L228944.78445175762, -306021.13618002256L237595.276458379, -270329.8516742432L245082.65638139244, -234242.29825766967L251376.77518447232, -197903.78777103339L256452.2886726685, -161460.64257061266L260288.75954453473, -125059.60633974962L262870.7396859287, -88847.2532038265L264187.83237411466, -52969.39752799734L264234.734141697, -17570.506774202513L263011.2561318115, 17206.880218309292L260522.3248585848, 51222.72718658185L256777.96236980153, 84340.0643205551L251793.24589165451, 116425.53979214872L245588.24711807683, 147349.95671600648L238187.95138911385, 176988.79337975653L229622.1570837777, 205222.70464899708L219925.35563249263, 231938.00252802923L209136.5926322771, 257027.11394129254L197299.31062390626, 280389.0138921712 Z",
          "type": "path"
         },
         {
          "line": {
           "color": "#88ffa6",
           "width": 2
          },
          "path": "M 606227.5380850404, 344199.89161622146L599601.939109467, 346119.9406586749L590536.2120568019, 346893.37221169967L579066.8614101941, 346517.0719394093L565240.0701966616, 344992.5550701877L549111.5140243422, 342325.9602953984L530746.1368964675, 338528.0250510415L510217.8897047868, 333614.04228188837L487609.4324554237, 327603.79886219086L463011.80142620724, 320521.49592092214L436524.04259571154, 312395.651392372L408252.81282005756, 303258.9851844906L378311.9503633976, 293148.2874273678L346822.01651140366, 282104.2703323638L313909.8101135219, 270171.40425840305L279707.8570087583, 257397.73864553473L244353.87639089947, 243834.70853679616L207990.22626192655, 229536.9274674483L170763.33020658512, 214561.96755554457L132823.08779628904, 198970.12767933158L94322.2709964524, 182824.19067494798L55415.909007704766, 166189.17053210258L16260.664018016789, 149132.050605684L-22985.79962063775, 131721.51389743167L-62165.45025098094, 114027.66649372925L-101120.52524813768, 96121.75527313835L-139694.1662740455, 78075.88102036447L-177731.05089061937, 59962.70810184461L-215078.0179883897, 41855.17187199021L-251584.68451223316, 23826.184988256762L-287104.0510008586, 5948.343817606503L-321493.0935017555, -11706.36388343903L-354613.3394781709, -29066.84883808675L-386331.4253891425, -46063.206500699394L-416519.6336974071, -62626.99853772791L-445056.4071428477, -78691.52840472666L-471826.83821067575, -94192.1099097967L-496723.1318234381, -109066.32768205101L-519645.0393937475, -123254.28849628296L-540500.2624899631, -136698.8624418461L-559204.8244893975, -149345.9129646403L-575683.4087225373, -161144.514855908L-589869.6617466896, -172047.15931007586L-601706.4605278755, -182009.9452259476L-611146.1424551273, -190992.75598094298L-618150.6972610014, -198959.42096657894L-622691.9200755083, -205877.86123474292L-624751.5249971705, -211720.21866829554L-624321.2187238927, -216462.96815587545L-621402.7339471637, -220087.01231922006L-616007.8223751185, -222577.75841156737L-608158.2074125572, -223925.1770774969L-597885.4966884612, -224123.84273760393L-585231.0547832274, -223172.9554353929L-570245.8366681018, -221076.34405842022L-552990.1825274946, -217842.450920715L-533533.5747903544, -213484.2977685603L-511954.3583489501, -208019.4333465168L-488339.42509164126, -201469.86273482238L-462783.8640199117, -193861.9587427001L-435390.5783585209, -185226.35571436392L-406269.87120053853, -175597.82617532677L-375539.00135571667, -165015.14081571263L-343321.7111906521, -153520.91237437207L-309747.7283619474, -141161.42405242188L-274952.243448726, -127986.44314713035L-239075.36558788325, -114049.02065657532L-202261.5583040452, -99405.27766200028L-164659.05780593946, -84114.17934802633L-126419.27609150378, -68237.297570666L-87696.19126520888, -51838.56292918998L-48645.72752257983, -34984.007340168755L-9425.127298489839, -17741.49815024869L29807.68189262513, -180.46485830142046L68894.72337512858, 17628.380452663878L107678.60742849705, 35613.32784810047L146003.16504017843, 53701.95829252226L183714.07674308427, 71821.43525539897L220659.49400561873, 89898.79799815785L256690.65067211946, 107861.25536132584L291662.46199166315, 125636.47886883914L325434.10882314935, 143152.89396928754L357869.60466427903, 160339.9682413707L388838.34322120657, 177128.49540306587L418215.6243139866, 193450.873980899L445883.15600018715, 209241.37951721915L471729.53089478996, 224436.42921939172L495650.6747684119, 238974.8379852643L517550.2656174925, 252798.06477397756L537340.121519007, 265850.4483300754L554940.5557079457, 278079.4313117342L570280.6974477936, 289435.77192063065L583298.7774019719, 299873.74218128226L593942.3763571552, 309351.312071466L602168.6362969428, 317830.3187622832L607944.4329759644, 325276.6202864026L611246.5092995253, 331660.2330157123L612061.5689717175, 336955.45239480765L610386.3300349116, 341140.95644416375L606227.5380850404, 344199.89161622146 Z",
          "type": "path"
         }
        ],
        "template": {
         "data": {
          "bar": [
           {
            "error_x": {
             "color": "#2a3f5f"
            },
            "error_y": {
             "color": "#2a3f5f"
            },
            "marker": {
             "line": {
              "color": "#E5ECF6",
              "width": 0.5
             },
             "pattern": {
              "fillmode": "overlay",
              "size": 10,
              "solidity": 0.2
             }
            },
            "type": "bar"
           }
          ],
          "barpolar": [
           {
            "marker": {
             "line": {
              "color": "#E5ECF6",
              "width": 0.5
             },
             "pattern": {
              "fillmode": "overlay",
              "size": 10,
              "solidity": 0.2
             }
            },
            "type": "barpolar"
           }
          ],
          "carpet": [
           {
            "aaxis": {
             "endlinecolor": "#2a3f5f",
             "gridcolor": "white",
             "linecolor": "white",
             "minorgridcolor": "white",
             "startlinecolor": "#2a3f5f"
            },
            "baxis": {
             "endlinecolor": "#2a3f5f",
             "gridcolor": "white",
             "linecolor": "white",
             "minorgridcolor": "white",
             "startlinecolor": "#2a3f5f"
            },
            "type": "carpet"
           }
          ],
          "choropleth": [
           {
            "colorbar": {
             "outlinewidth": 0,
             "ticks": ""
            },
            "type": "choropleth"
           }
          ],
          "contour": [
           {
            "colorbar": {
             "outlinewidth": 0,
             "ticks": ""
            },
            "colorscale": [
             [
              0,
              "#0d0887"
             ],
             [
              0.1111111111111111,
              "#46039f"
             ],
             [
              0.2222222222222222,
              "#7201a8"
             ],
             [
              0.3333333333333333,
              "#9c179e"
             ],
             [
              0.4444444444444444,
              "#bd3786"
             ],
             [
              0.5555555555555556,
              "#d8576b"
             ],
             [
              0.6666666666666666,
              "#ed7953"
             ],
             [
              0.7777777777777778,
              "#fb9f3a"
             ],
             [
              0.8888888888888888,
              "#fdca26"
             ],
             [
              1,
              "#f0f921"
             ]
            ],
            "type": "contour"
           }
          ],
          "contourcarpet": [
           {
            "colorbar": {
             "outlinewidth": 0,
             "ticks": ""
            },
            "type": "contourcarpet"
           }
          ],
          "heatmap": [
           {
            "colorbar": {
             "outlinewidth": 0,
             "ticks": ""
            },
            "colorscale": [
             [
              0,
              "#0d0887"
             ],
             [
              0.1111111111111111,
              "#46039f"
             ],
             [
              0.2222222222222222,
              "#7201a8"
             ],
             [
              0.3333333333333333,
              "#9c179e"
             ],
             [
              0.4444444444444444,
              "#bd3786"
             ],
             [
              0.5555555555555556,
              "#d8576b"
             ],
             [
              0.6666666666666666,
              "#ed7953"
             ],
             [
              0.7777777777777778,
              "#fb9f3a"
             ],
             [
              0.8888888888888888,
              "#fdca26"
             ],
             [
              1,
              "#f0f921"
             ]
            ],
            "type": "heatmap"
           }
          ],
          "heatmapgl": [
           {
            "colorbar": {
             "outlinewidth": 0,
             "ticks": ""
            },
            "colorscale": [
             [
              0,
              "#0d0887"
             ],
             [
              0.1111111111111111,
              "#46039f"
             ],
             [
              0.2222222222222222,
              "#7201a8"
             ],
             [
              0.3333333333333333,
              "#9c179e"
             ],
             [
              0.4444444444444444,
              "#bd3786"
             ],
             [
              0.5555555555555556,
              "#d8576b"
             ],
             [
              0.6666666666666666,
              "#ed7953"
             ],
             [
              0.7777777777777778,
              "#fb9f3a"
             ],
             [
              0.8888888888888888,
              "#fdca26"
             ],
             [
              1,
              "#f0f921"
             ]
            ],
            "type": "heatmapgl"
           }
          ],
          "histogram": [
           {
            "marker": {
             "pattern": {
              "fillmode": "overlay",
              "size": 10,
              "solidity": 0.2
             }
            },
            "type": "histogram"
           }
          ],
          "histogram2d": [
           {
            "colorbar": {
             "outlinewidth": 0,
             "ticks": ""
            },
            "colorscale": [
             [
              0,
              "#0d0887"
             ],
             [
              0.1111111111111111,
              "#46039f"
             ],
             [
              0.2222222222222222,
              "#7201a8"
             ],
             [
              0.3333333333333333,
              "#9c179e"
             ],
             [
              0.4444444444444444,
              "#bd3786"
             ],
             [
              0.5555555555555556,
              "#d8576b"
             ],
             [
              0.6666666666666666,
              "#ed7953"
             ],
             [
              0.7777777777777778,
              "#fb9f3a"
             ],
             [
              0.8888888888888888,
              "#fdca26"
             ],
             [
              1,
              "#f0f921"
             ]
            ],
            "type": "histogram2d"
           }
          ],
          "histogram2dcontour": [
           {
            "colorbar": {
             "outlinewidth": 0,
             "ticks": ""
            },
            "colorscale": [
             [
              0,
              "#0d0887"
             ],
             [
              0.1111111111111111,
              "#46039f"
             ],
             [
              0.2222222222222222,
              "#7201a8"
             ],
             [
              0.3333333333333333,
              "#9c179e"
             ],
             [
              0.4444444444444444,
              "#bd3786"
             ],
             [
              0.5555555555555556,
              "#d8576b"
             ],
             [
              0.6666666666666666,
              "#ed7953"
             ],
             [
              0.7777777777777778,
              "#fb9f3a"
             ],
             [
              0.8888888888888888,
              "#fdca26"
             ],
             [
              1,
              "#f0f921"
             ]
            ],
            "type": "histogram2dcontour"
           }
          ],
          "mesh3d": [
           {
            "colorbar": {
             "outlinewidth": 0,
             "ticks": ""
            },
            "type": "mesh3d"
           }
          ],
          "parcoords": [
           {
            "line": {
             "colorbar": {
              "outlinewidth": 0,
              "ticks": ""
             }
            },
            "type": "parcoords"
           }
          ],
          "pie": [
           {
            "automargin": true,
            "type": "pie"
           }
          ],
          "scatter": [
           {
            "fillpattern": {
             "fillmode": "overlay",
             "size": 10,
             "solidity": 0.2
            },
            "type": "scatter"
           }
          ],
          "scatter3d": [
           {
            "line": {
             "colorbar": {
              "outlinewidth": 0,
              "ticks": ""
             }
            },
            "marker": {
             "colorbar": {
              "outlinewidth": 0,
              "ticks": ""
             }
            },
            "type": "scatter3d"
           }
          ],
          "scattercarpet": [
           {
            "marker": {
             "colorbar": {
              "outlinewidth": 0,
              "ticks": ""
             }
            },
            "type": "scattercarpet"
           }
          ],
          "scattergeo": [
           {
            "marker": {
             "colorbar": {
              "outlinewidth": 0,
              "ticks": ""
             }
            },
            "type": "scattergeo"
           }
          ],
          "scattergl": [
           {
            "marker": {
             "colorbar": {
              "outlinewidth": 0,
              "ticks": ""
             }
            },
            "type": "scattergl"
           }
          ],
          "scattermapbox": [
           {
            "marker": {
             "colorbar": {
              "outlinewidth": 0,
              "ticks": ""
             }
            },
            "type": "scattermapbox"
           }
          ],
          "scatterpolar": [
           {
            "marker": {
             "colorbar": {
              "outlinewidth": 0,
              "ticks": ""
             }
            },
            "type": "scatterpolar"
           }
          ],
          "scatterpolargl": [
           {
            "marker": {
             "colorbar": {
              "outlinewidth": 0,
              "ticks": ""
             }
            },
            "type": "scatterpolargl"
           }
          ],
          "scatterternary": [
           {
            "marker": {
             "colorbar": {
              "outlinewidth": 0,
              "ticks": ""
             }
            },
            "type": "scatterternary"
           }
          ],
          "surface": [
           {
            "colorbar": {
             "outlinewidth": 0,
             "ticks": ""
            },
            "colorscale": [
             [
              0,
              "#0d0887"
             ],
             [
              0.1111111111111111,
              "#46039f"
             ],
             [
              0.2222222222222222,
              "#7201a8"
             ],
             [
              0.3333333333333333,
              "#9c179e"
             ],
             [
              0.4444444444444444,
              "#bd3786"
             ],
             [
              0.5555555555555556,
              "#d8576b"
             ],
             [
              0.6666666666666666,
              "#ed7953"
             ],
             [
              0.7777777777777778,
              "#fb9f3a"
             ],
             [
              0.8888888888888888,
              "#fdca26"
             ],
             [
              1,
              "#f0f921"
             ]
            ],
            "type": "surface"
           }
          ],
          "table": [
           {
            "cells": {
             "fill": {
              "color": "#EBF0F8"
             },
             "line": {
              "color": "white"
             }
            },
            "header": {
             "fill": {
              "color": "#C8D4E3"
             },
             "line": {
              "color": "white"
             }
            },
            "type": "table"
           }
          ]
         },
         "layout": {
          "annotationdefaults": {
           "arrowcolor": "#2a3f5f",
           "arrowhead": 0,
           "arrowwidth": 1
          },
          "autotypenumbers": "strict",
          "coloraxis": {
           "colorbar": {
            "outlinewidth": 0,
            "ticks": ""
           }
          },
          "colorscale": {
           "diverging": [
            [
             0,
             "#8e0152"
            ],
            [
             0.1,
             "#c51b7d"
            ],
            [
             0.2,
             "#de77ae"
            ],
            [
             0.3,
             "#f1b6da"
            ],
            [
             0.4,
             "#fde0ef"
            ],
            [
             0.5,
             "#f7f7f7"
            ],
            [
             0.6,
             "#e6f5d0"
            ],
            [
             0.7,
             "#b8e186"
            ],
            [
             0.8,
             "#7fbc41"
            ],
            [
             0.9,
             "#4d9221"
            ],
            [
             1,
             "#276419"
            ]
           ],
           "sequential": [
            [
             0,
             "#0d0887"
            ],
            [
             0.1111111111111111,
             "#46039f"
            ],
            [
             0.2222222222222222,
             "#7201a8"
            ],
            [
             0.3333333333333333,
             "#9c179e"
            ],
            [
             0.4444444444444444,
             "#bd3786"
            ],
            [
             0.5555555555555556,
             "#d8576b"
            ],
            [
             0.6666666666666666,
             "#ed7953"
            ],
            [
             0.7777777777777778,
             "#fb9f3a"
            ],
            [
             0.8888888888888888,
             "#fdca26"
            ],
            [
             1,
             "#f0f921"
            ]
           ],
           "sequentialminus": [
            [
             0,
             "#0d0887"
            ],
            [
             0.1111111111111111,
             "#46039f"
            ],
            [
             0.2222222222222222,
             "#7201a8"
            ],
            [
             0.3333333333333333,
             "#9c179e"
            ],
            [
             0.4444444444444444,
             "#bd3786"
            ],
            [
             0.5555555555555556,
             "#d8576b"
            ],
            [
             0.6666666666666666,
             "#ed7953"
            ],
            [
             0.7777777777777778,
             "#fb9f3a"
            ],
            [
             0.8888888888888888,
             "#fdca26"
            ],
            [
             1,
             "#f0f921"
            ]
           ]
          },
          "colorway": [
           "#636efa",
           "#EF553B",
           "#00cc96",
           "#ab63fa",
           "#FFA15A",
           "#19d3f3",
           "#FF6692",
           "#B6E880",
           "#FF97FF",
           "#FECB52"
          ],
          "font": {
           "color": "#2a3f5f"
          },
          "geo": {
           "bgcolor": "white",
           "lakecolor": "white",
           "landcolor": "#E5ECF6",
           "showlakes": true,
           "showland": true,
           "subunitcolor": "white"
          },
          "hoverlabel": {
           "align": "left"
          },
          "hovermode": "closest",
          "mapbox": {
           "style": "light"
          },
          "paper_bgcolor": "white",
          "plot_bgcolor": "#E5ECF6",
          "polar": {
           "angularaxis": {
            "gridcolor": "white",
            "linecolor": "white",
            "ticks": ""
           },
           "bgcolor": "#E5ECF6",
           "radialaxis": {
            "gridcolor": "white",
            "linecolor": "white",
            "ticks": ""
           }
          },
          "scene": {
           "xaxis": {
            "backgroundcolor": "#E5ECF6",
            "gridcolor": "white",
            "gridwidth": 2,
            "linecolor": "white",
            "showbackground": true,
            "ticks": "",
            "zerolinecolor": "white"
           },
           "yaxis": {
            "backgroundcolor": "#E5ECF6",
            "gridcolor": "white",
            "gridwidth": 2,
            "linecolor": "white",
            "showbackground": true,
            "ticks": "",
            "zerolinecolor": "white"
           },
           "zaxis": {
            "backgroundcolor": "#E5ECF6",
            "gridcolor": "white",
            "gridwidth": 2,
            "linecolor": "white",
            "showbackground": true,
            "ticks": "",
            "zerolinecolor": "white"
           }
          },
          "shapedefaults": {
           "line": {
            "color": "#2a3f5f"
           }
          },
          "ternary": {
           "aaxis": {
            "gridcolor": "white",
            "linecolor": "white",
            "ticks": ""
           },
           "baxis": {
            "gridcolor": "white",
            "linecolor": "white",
            "ticks": ""
           },
           "bgcolor": "#E5ECF6",
           "caxis": {
            "gridcolor": "white",
            "linecolor": "white",
            "ticks": ""
           }
          },
          "title": {
           "x": 0.05
          },
          "xaxis": {
           "automargin": true,
           "gridcolor": "white",
           "linecolor": "white",
           "ticks": "",
           "title": {
            "standoff": 15
           },
           "zerolinecolor": "white",
           "zerolinewidth": 2
          },
          "yaxis": {
           "automargin": true,
           "gridcolor": "white",
           "linecolor": "white",
           "ticks": "",
           "title": {
            "standoff": 15
           },
           "zerolinecolor": "white",
           "zerolinewidth": 2
          }
         }
        },
        "title": {
         "text": "<b>OPLS-DA Scores Plot<b> (pareto scaling)",
         "x": 0.5,
         "xanchor": "center",
         "y": 0.95,
         "yanchor": "top"
        },
        "width": 1300,
        "xaxis": {
         "anchor": "y",
         "domain": [
          0,
          1
         ],
         "linecolor": "black",
         "linewidth": 2,
         "showline": true,
         "tickformat": ",.0",
         "title": {
          "text": "t<sub>scores</sub>"
         },
         "zeroline": true,
         "zerolinecolor": "Black",
         "zerolinewidth": 2
        },
        "yaxis": {
         "anchor": "x",
         "domain": [
          0,
          1
         ],
         "linecolor": "black",
         "linewidth": 2,
         "showline": true,
         "tickformat": ",.0",
         "title": {
          "text": "t<sub>orthogonal</sub>"
         },
         "zeroline": true,
         "zerolinecolor": "Black",
         "zerolinewidth": 2
        }
       }
      }
     },
     "metadata": {},
     "output_type": "display_data"
    }
   ],
   "source": [
    "fig.update_layout(autosize=True)\n",
    "fig.show()"
   ]
  },
  {
   "cell_type": "code",
   "execution_count": 7,
   "metadata": {},
   "outputs": [],
   "source": [
    "opls_da_mod.plot_oplsda_scores(color_dict=color_code, marker_size=16).write_html('oplsda_scores.html', full_html=True, include_plotlyjs='cdn')"
   ]
  },
  {
   "cell_type": "code",
   "execution_count": 19,
   "metadata": {},
   "outputs": [
    {
     "name": "stdout",
     "output_type": "stream",
     "text": [
      "HTML file saved as 'responsive_plot.html'\n"
     ]
    }
   ],
   "source": [
    "import plotly.express as px\n",
    "\n",
    "# Create a sample figure\n",
    "#fig = px.scatter(x=[1, 2, 3], y=[4, 5, 6], title=\"Responsive Plot\")\n",
    "\n",
    "# Generate HTML with a div wrapper\n",
    "html_string = fig.to_html(full_html=False, include_plotlyjs=\"cdn\", div_id=\"plot\")\n",
    "\n",
    "# Create the full HTML structure\n",
    "html_content = f\"\"\"\n",
    "<html>\n",
    "<head>\n",
    "    <script src=\"https://cdn.plot.ly/plotly-latest.min.js\"></script>\n",
    "    <style>\n",
    "        /* Make the plot container take full width and height */\n",
    "        #plot-container {{\n",
    "            width: 100%;\n",
    "            height: 100vh; /* Full viewport height */\n",
    "        }}\n",
    "\n",
    "\n",
    "        .plotly-container .svg-container {{\n",
    "            font-size: 2vw;\n",
    "        }}\n",
    "    </style>\n",
    "</head>\n",
    "<body>\n",
    "    <div id=\"plot-container\">{html_string}</div>\n",
    "\n",
    "    <script>\n",
    "        // Function to resize the plot to fit the container\n",
    "        function resizePlot() {{\n",
    "            Plotly.relayout('plot', {{ \n",
    "                width: window.innerWidth, \n",
    "                height: window.innerHeight * 0.8 // Adjust height dynamically\n",
    "            }});\n",
    "        }}\n",
    "\n",
    "        window.addEventListener('resize', resizePlot);\n",
    "        window.onload = resizePlot;\n",
    "        \n",
    "\n",
    "    </script>\n",
    "</body>\n",
    "</html>\n",
    "\"\"\"\n",
    "\n",
    "# Save as an HTML file\n",
    "with open(\"responsive_plot.html\", \"w\") as f:\n",
    "    f.write(html_content)\n",
    "\n",
    "print(\"HTML file saved as 'responsive_plot.html'\")"
   ]
  },
  {
   "cell_type": "code",
   "execution_count": 11,
   "metadata": {},
   "outputs": [
    {
     "name": "stdout",
     "output_type": "stream",
     "text": [
      "HTML file saved as 'responsive_plot_2.html'\n"
     ]
    }
   ],
   "source": [
    "import plotly.express as px\n",
    "\n",
    "# Create a sample figure\n",
    "#fig = px.scatter(x=[1, 2, 3], y=[4, 5, 6], title=\"Auto Font Size Plot\")\n",
    "\n",
    "# Generate HTML without full wrapper\n",
    "html_string = fig.to_html(full_html=False, include_plotlyjs=\"cdn\", div_id=\"plot\")\n",
    "\n",
    "# Create the full HTML structure\n",
    "html_content = f\"\"\"\n",
    "<html>\n",
    "<head>\n",
    "    <script src=\"https://cdn.plot.ly/plotly-latest.min.js\"></script>\n",
    "    <style>\n",
    "        /* Ensure the plot takes full width and height */\n",
    "        #plot-container {{\n",
    "            width: 100%;\n",
    "            height: 100vh;\n",
    "        }}\n",
    "    </style>\n",
    "</head>\n",
    "<body>\n",
    "    <div id=\"plot-container\">{html_string}</div>\n",
    "\n",
    "    <script>\n",
    "        function resizePlot() {{\n",
    "            let width = window.innerWidth;\n",
    "            let height = window.innerHeight;\n",
    "\n",
    "            // Dynamically adjust font size based on window width\n",
    "            let fontSize = Math.max(12, width * 0.02);  // Ensure minimum size of 12px\n",
    "\n",
    "            Plotly.relayout('plot', {{\n",
    "                width: width,\n",
    "                height: height * 0.8,  // Adjust height dynamically\n",
    "                title: {{ font: {{ size: fontSize * 1.5 }} }},  // Scale title font\n",
    "                xaxis: {{ title: {{ font: {{ size: fontSize }} }}, tickfont: {{ size: fontSize * 0.8 }} }},\n",
    "                yaxis: {{ title: {{ font: {{ size: fontSize }} }}, tickfont: {{ size: fontSize * 0.8 }} }}\n",
    "            }});\n",
    "        }}\n",
    "\n",
    "        window.addEventListener('resize', resizePlot);\n",
    "        window.onload = resizePlot;\n",
    "    </script>\n",
    "</body>\n",
    "</html>\n",
    "\"\"\"\n",
    "\n",
    "# Save as an HTML file\n",
    "with open(\"responsive_plot.html\", \"w\") as f:\n",
    "    f.write(html_content)\n",
    "\n",
    "print(\"HTML file saved as 'responsive_plot_2.html'\")"
   ]
  }
 ],
 "metadata": {
  "kernelspec": {
   "display_name": "test-flight",
   "language": "python",
   "name": "python3"
  },
  "language_info": {
   "codemirror_mode": {
    "name": "ipython",
    "version": 3
   },
   "file_extension": ".py",
   "mimetype": "text/x-python",
   "name": "python",
   "nbconvert_exporter": "python",
   "pygments_lexer": "ipython3",
   "version": "3.13.0"
  }
 },
 "nbformat": 4,
 "nbformat_minor": 2
}
