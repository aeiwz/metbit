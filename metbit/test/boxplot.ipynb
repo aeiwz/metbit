{
 "cells": [
  {
   "cell_type": "code",
   "execution_count": null,
   "metadata": {},
   "outputs": [],
   "source": [
    "class univar_stats:\n",
    "    #include packages\n",
    "    import pandas as pd\n",
    "    import numpy as np\n",
    "    import plotly.express as px\n",
    "    import plotly.graph_objects as go\n",
    "    from scipy.stats import ttest_ind, f_oneway, mannwhitneyu\n",
    "    from statsmodels.stats.multitest import multipletests\n",
    "    from itertools import combinations\n",
    "    import warnings\n",
    "    from typing import List, Optional, Dict, Any\n",
    "    import plotly.io as pio\n",
    "    #pio.templates.default = \"plotly_white\"\n",
    "    import plotly.figure_factory as ff\n",
    "    import plotly.express as px\n",
    "    import plotly.graph_objects as go\n",
    "    import statsmodels.api as sm\n",
    "\n",
    "    \n",
    "\n",
    "    def __init__(\n",
    "        self, df, x_col, y_col,\n",
    "        group_order=None, custom_colors=None,\n",
    "        stats_options=None, p_value_threshold=0.05,\n",
    "        annotate_style=\"value\", y_offset_factor=0.35,\n",
    "        show_non_significant=True, correct_p=\"bonferroni\",\n",
    "        title_=None, y_label=None, x_label=None,\n",
    "        fig_height=800, fig_width=600,\n",
    "        plot_type=\"box\", show_axis_lines=True  # ← NEW PARAMETERS\n",
    "    ):\n",
    "        self.df = df\n",
    "        self.x_col = x_col\n",
    "        self.y_col = y_col\n",
    "        self.group_order = group_order\n",
    "        self.custom_colors = custom_colors\n",
    "        self.stats_options = stats_options or [\"t-test\"]\n",
    "        self.p_value_threshold = p_value_threshold\n",
    "        self.annotate_style = annotate_style\n",
    "        self.y_offset_factor = y_offset_factor\n",
    "        self.show_non_significant = show_non_significant\n",
    "        self.correct_p = correct_p\n",
    "        self.title_ = title_ or y_col\n",
    "        self.y_label = y_label or y_col\n",
    "        self.x_label = x_label or x_col\n",
    "        self.fig_height = fig_height\n",
    "        self.fig_width = fig_width\n",
    "        self.plot_type = plot_type\n",
    "        self.show_axis_lines = show_axis_lines\n",
    "\n",
    "\n",
    "    def plot(self):\n",
    "        #import packages\n",
    "        import pandas as pd\n",
    "        import numpy as np\n",
    "        import plotly.express as px\n",
    "        import plotly.graph_objects as go\n",
    "        from scipy.stats import ttest_ind, f_oneway, mannwhitneyu\n",
    "        from statsmodels.stats.multitest import multipletests\n",
    "        from itertools import combinations\n",
    "        from typing import List, Optional, Dict, Any\n",
    "        import plotly.io as pio\n",
    "        #pio.templates.default = \"plotly_white\"\n",
    "        import statsmodels.api as sm\n",
    "        import warnings\n",
    "        warnings.filterwarnings(\"ignore\")\n",
    "\n",
    "        df = self.df\n",
    "        if df.empty:\n",
    "            raise ValueError(\"The DataFrame is empty.\")\n",
    "\n",
    "        grouped = df.groupby(self.x_col)[self.y_col]\n",
    "        group_order = self.group_order or list(grouped.groups.keys())\n",
    "        comparisons = list(combinations(group_order, 2))\n",
    "\n",
    "        y_range = df[self.y_col].max() - df[self.y_col].min()\n",
    "        y_offset = self.y_offset_factor * y_range\n",
    "        max_y = df[self.y_col].max()\n",
    "\n",
    "        p_values, effect_sizes, annotations, lines = [], [], [], []\n",
    "\n",
    "        if \"anova\" in self.stats_options and len(group_order) > 2:\n",
    "            f_stat, anova_p = f_oneway(*(grouped.get_group(g).values for g in group_order))\n",
    "            p_values = [anova_p] * len(comparisons)\n",
    "        else:\n",
    "            for g1, g2 in comparisons:\n",
    "                group1 = grouped.get_group(g1).values\n",
    "                group2 = grouped.get_group(g2).values\n",
    "\n",
    "                if \"t-test\" in self.stats_options:\n",
    "                    _, p_val = ttest_ind(group1, group2)\n",
    "                elif \"nonparametric\" in self.stats_options:\n",
    "                    _, p_val = mannwhitneyu(group1, group2, alternative=\"two-sided\")\n",
    "                else:\n",
    "                    raise ValueError(\"Invalid stats_options.\")\n",
    "\n",
    "                p_values.append(p_val)\n",
    "\n",
    "                if \"effect-size\" in self.stats_options:\n",
    "                    effect_sizes.append(compute_effsize(group1, group2, eftype=\"cohen\"))\n",
    "\n",
    "        if self.correct_p and \"anova\" not in self.stats_options:\n",
    "            _, corrected, _, _ = multipletests(p_values, method=self.correct_p)\n",
    "            p_values = corrected\n",
    "\n",
    "        # Plot selection\n",
    "        if self.plot_type == \"box\":\n",
    "            fig = px.box(\n",
    "                df, x=self.x_col, y=self.y_col, color=self.x_col,\n",
    "                points=\"all\", category_orders={self.x_col: group_order},\n",
    "                color_discrete_map=self.custom_colors\n",
    "            )\n",
    "        elif self.plot_type == \"violin\":\n",
    "            fig = px.violin(\n",
    "                df, x=self.x_col, y=self.y_col, color=self.x_col,\n",
    "                box=True, points=\"all\", category_orders={self.x_col: group_order},\n",
    "                color_discrete_map=self.custom_colors\n",
    "            )\n",
    "        else:\n",
    "            raise ValueError(\"Invalid plot_type. Use 'box' or 'violin'.\")\n",
    "\n",
    "        # Annotations\n",
    "        for i, ((g1, g2), p_val) in enumerate(zip(comparisons, p_values)):\n",
    "            if not self.show_non_significant and p_val > self.p_value_threshold:\n",
    "                continue\n",
    "\n",
    "            y_pos = max_y + 0.15 + (i + 1) * y_offset\n",
    "\n",
    "            if self.annotate_style == \"value\":\n",
    "                p_text = f\"p={p_val:.4f}\" if p_val >= 0.0001 else \"p<0.0001\"\n",
    "            elif self.annotate_style == \"symbol\":\n",
    "                if p_val < 0.001:\n",
    "                    p_text = \"***\"\n",
    "                elif p_val < 0.01:\n",
    "                    p_text = \"**\"\n",
    "                elif p_val < 0.05:\n",
    "                    p_text = \"*\"\n",
    "                else:\n",
    "                    p_text = \"ns\"\n",
    "            else:\n",
    "                raise ValueError(\"Invalid annotate_style.\")\n",
    "\n",
    "            if \"effect-size\" in self.stats_options and \"anova\" not in self.stats_options:\n",
    "                p_text += f\", d={effect_sizes[i]:.2f}\"\n",
    "\n",
    "            annotations.append(dict(\n",
    "                x=(group_order.index(g1) + group_order.index(g2)) / 2,\n",
    "                y=y_pos + y_offset * 0.75,\n",
    "                text=p_text,\n",
    "                showarrow=False,\n",
    "                xref=\"x\", yref=\"y\",\n",
    "                font=dict(size=12),\n",
    "            ))\n",
    "\n",
    "            lines.append(go.Scatter(\n",
    "                x=[g1, g1, g2, g2],\n",
    "                y=[y_pos, y_pos + y_offset * 0.5, y_pos + y_offset * 0.5, y_pos],\n",
    "                mode=\"lines\",\n",
    "                line=dict(color=\"black\", width=1),\n",
    "                hoverinfo=\"skip\"\n",
    "            ))\n",
    "\n",
    "        for line in lines:\n",
    "            fig.add_trace(line)\n",
    "\n",
    "        # Axis styling\n",
    "        axis_line_config = dict(\n",
    "            showline=self.show_axis_lines,\n",
    "            linewidth=2,\n",
    "            linecolor=\"black\"\n",
    "        )\n",
    "\n",
    "        fig.update_layout(\n",
    "            annotations=annotations,\n",
    "            title=dict(text=f\"<b>{self.title_}</b>\", x=0.5, y=0.95, xanchor='center', yanchor='top'),\n",
    "            yaxis_title=self.y_label,\n",
    "            xaxis_title=self.x_label,\n",
    "            legend_title=self.x_col,\n",
    "            width=self.fig_width,\n",
    "            height=self.fig_height,\n",
    "            showlegend=False,\n",
    "            yaxis=dict(tickformat=\".2e\", **axis_line_config),\n",
    "            xaxis=axis_line_config,\n",
    "            paper_bgcolor='rgba(0,0,0,0)',\n",
    "            plot_bgcolor='rgba(0,0,0,0)',\n",
    "        )\n",
    "\n",
    "        return fig"
   ]
  },
  {
   "cell_type": "code",
   "execution_count": 3,
   "metadata": {},
   "outputs": [],
   "source": [
    "import pandas as pd\n",
    "import numpy as np\n",
    "\n",
    "# Seed for reproducibility\n",
    "np.random.seed(42)\n",
    "\n",
    "# Simulate example data\n",
    "data = {\n",
    "    \"treatment\": [\"A\"] * 20 + [\"B\"] * 20 + [\"C\"] * 20,\n",
    "    \"score\": np.concatenate([\n",
    "        np.random.normal(loc=5.0, scale=0.5, size=20),  # Group A\n",
    "        np.random.normal(loc=5.5, scale=0.8, size=20),  # Group B\n",
    "        np.random.normal(loc=6.0, scale=0.5, size=20)   # Group C\n",
    "    ])\n",
    "}\n",
    "\n",
    "df = pd.DataFrame(data)"
   ]
  },
  {
   "cell_type": "code",
   "execution_count": null,
   "metadata": {},
   "outputs": [],
   "source": [
    "plotter = univar_stats(\n",
    "    df,\n",
    "    x_col=\"treatment\",\n",
    "    y_col=\"score\",\n",
    "    stats_options=[\"t-test\", \"effect-size\"],\n",
    "    correct_p=\"bonferroni\",\n",
    "    annotate_style=\"symbol\",\n",
    "    custom_colors={\"A\": \"orange\", \"B\": \"blue\", \"C\": \"green\"},\n",
    "    title_=\"Treatment Effect on Score\",\n",
    "    y_label=\"Score\",\n",
    "    x_label=\"Treatment\",\n",
    "    fig_height=600,\n",
    "    fig_width=800,\n",
    "    show_non_significant=False,\n",
    "    y_offset_factor=0.1,\n",
    "    group_order=[\"B\", \"A\", \"C\"]\n",
    "    # group_order can be omitted if the order in the DataFrame is acceptable\n",
    "    # p_value_threshold can be omitted if the default is acceptable\n",
    "    # stats_options can be omitted if the default is acceptable\n",
    "    # custom_colors can be omitted if the default is acceptable\n",
    ")\n",
    "\n",
    "fig = plotter.box_plot()\n",
    "fig.show()"
   ]
  },
  {
   "cell_type": "code",
   "execution_count": 14,
   "metadata": {},
   "outputs": [
    {
     "data": {
      "application/vnd.plotly.v1+json": {
       "config": {
        "plotlyServerURL": "https://plot.ly"
       },
       "data": [
        {
         "alignmentgroup": "True",
         "boxpoints": "all",
         "hovertemplate": "treatment=%{x}<br>score=%{y}<extra></extra>",
         "legendgroup": "B",
         "marker": {
          "color": "blue"
         },
         "name": "B",
         "notched": false,
         "offsetgroup": "B",
         "orientation": "v",
         "showlegend": true,
         "type": "box",
         "x": [
          "B",
          "B",
          "B",
          "B",
          "B",
          "B",
          "B",
          "B",
          "B",
          "B",
          "B",
          "B",
          "B",
          "B",
          "B",
          "B",
          "B",
          "B",
          "B",
          "B"
         ],
         "x0": " ",
         "xaxis": "x",
         "y": [
          6.672519015137244,
          5.319378959610772,
          5.554022563750339,
          4.360201451029234,
          5.0644938203798535,
          5.588738071767893,
          4.579205138062157,
          5.800558414676537,
          5.019489048064956,
          5.266645000165378,
          5.0186347102164826,
          6.98182254760715,
          5.489202220209653,
          4.6538312568352795,
          6.158035929682551,
          4.523325080023183,
          5.667090876003805,
          3.9322639008961797,
          4.437451160881255,
          5.657488988695299
         ],
         "y0": " ",
         "yaxis": "y"
        },
        {
         "alignmentgroup": "True",
         "boxpoints": "all",
         "hovertemplate": "treatment=%{x}<br>score=%{y}<extra></extra>",
         "legendgroup": "A",
         "marker": {
          "color": "red"
         },
         "name": "A",
         "notched": false,
         "offsetgroup": "A",
         "orientation": "v",
         "showlegend": true,
         "type": "box",
         "x": [
          "A",
          "A",
          "A",
          "A",
          "A",
          "A",
          "A",
          "A",
          "A",
          "A",
          "A",
          "A",
          "A",
          "A",
          "A",
          "A",
          "A",
          "A",
          "A",
          "A"
         ],
         "x0": " ",
         "xaxis": "x",
         "y": [
          5.2483570765056164,
          4.930867849414407,
          5.323844269050346,
          5.761514928204012,
          4.882923312638332,
          4.88293152152541,
          5.789606407753696,
          5.383717364576454,
          4.765262807032524,
          5.2712800217929825,
          4.768291153593768,
          4.767135123214872,
          5.120981135783017,
          4.043359877671101,
          4.137541083743484,
          4.718856235379514,
          4.493584439832788,
          5.157123666297637,
          4.545987962239394,
          4.293848149332354
         ],
         "y0": " ",
         "yaxis": "y"
        },
        {
         "alignmentgroup": "True",
         "boxpoints": "all",
         "hovertemplate": "treatment=%{x}<br>score=%{y}<extra></extra>",
         "legendgroup": "C",
         "marker": {
          "color": "green"
         },
         "name": "C",
         "notched": false,
         "offsetgroup": "C",
         "orientation": "v",
         "showlegend": true,
         "type": "box",
         "x": [
          "C",
          "C",
          "C",
          "C",
          "C",
          "C",
          "C",
          "C",
          "C",
          "C",
          "C",
          "C",
          "C",
          "C",
          "C",
          "C",
          "C",
          "C",
          "C",
          "C"
         ],
         "x0": " ",
         "xaxis": "x",
         "y": [
          6.369233289997705,
          6.085684140594985,
          5.9421758588058795,
          5.849448152205356,
          5.260739004816286,
          5.640077895802646,
          5.769680614520106,
          6.528561113109458,
          6.1718091447842305,
          5.118479922318633,
          6.162041984697398,
          5.807458859791842,
          5.6615389998470205,
          6.305838144420434,
          6.515499761247975,
          6.465640059558099,
          5.580391238388681,
          5.845393812074393,
          6.165631715701782,
          6.48777256356118
         ],
         "y0": " ",
         "yaxis": "y"
        },
        {
         "hoverinfo": "skip",
         "line": {
          "color": "black",
          "width": 1
         },
         "mode": "lines",
         "type": "scatter",
         "x": [
          "B",
          "B",
          "A",
          "A"
         ],
         "y": [
          8.19916807395599,
          8.73284083713041,
          8.73284083713041,
          8.19916807395599
         ]
        },
        {
         "hoverinfo": "skip",
         "line": {
          "color": "black",
          "width": 1
         },
         "mode": "lines",
         "type": "scatter",
         "x": [
          "B",
          "B",
          "C",
          "C"
         ],
         "y": [
          9.26651360030483,
          9.800186363479249,
          9.800186363479249,
          9.26651360030483
         ]
        },
        {
         "hoverinfo": "skip",
         "line": {
          "color": "black",
          "width": 1
         },
         "mode": "lines",
         "type": "scatter",
         "x": [
          "A",
          "A",
          "C",
          "C"
         ],
         "y": [
          10.33385912665367,
          10.86753188982809,
          10.86753188982809,
          10.33385912665367
         ]
        }
       ],
       "layout": {
        "annotations": [
         {
          "font": {
           "size": 12
          },
          "showarrow": false,
          "text": "ns",
          "x": 0.5,
          "xref": "x",
          "y": 8.99967721871762,
          "yref": "y"
         },
         {
          "font": {
           "size": 12
          },
          "showarrow": false,
          "text": "**",
          "x": 1,
          "xref": "x",
          "y": 10.06702274506646,
          "yref": "y"
         },
         {
          "font": {
           "size": 12
          },
          "showarrow": false,
          "text": "***",
          "x": 1.5,
          "xref": "x",
          "y": 11.1343682714153,
          "yref": "y"
         }
        ],
        "boxmode": "overlay",
        "height": 600,
        "legend": {
         "title": {
          "text": "treatment"
         },
         "tracegroupgap": 0
        },
        "margin": {
         "t": 60
        },
        "paper_bgcolor": "rgba(0,0,0,0)",
        "plot_bgcolor": "rgba(0,0,0,0)",
        "showlegend": false,
        "template": {
         "data": {
          "bar": [
           {
            "error_x": {
             "color": "#2a3f5f"
            },
            "error_y": {
             "color": "#2a3f5f"
            },
            "marker": {
             "line": {
              "color": "#E5ECF6",
              "width": 0.5
             },
             "pattern": {
              "fillmode": "overlay",
              "size": 10,
              "solidity": 0.2
             }
            },
            "type": "bar"
           }
          ],
          "barpolar": [
           {
            "marker": {
             "line": {
              "color": "#E5ECF6",
              "width": 0.5
             },
             "pattern": {
              "fillmode": "overlay",
              "size": 10,
              "solidity": 0.2
             }
            },
            "type": "barpolar"
           }
          ],
          "carpet": [
           {
            "aaxis": {
             "endlinecolor": "#2a3f5f",
             "gridcolor": "white",
             "linecolor": "white",
             "minorgridcolor": "white",
             "startlinecolor": "#2a3f5f"
            },
            "baxis": {
             "endlinecolor": "#2a3f5f",
             "gridcolor": "white",
             "linecolor": "white",
             "minorgridcolor": "white",
             "startlinecolor": "#2a3f5f"
            },
            "type": "carpet"
           }
          ],
          "choropleth": [
           {
            "colorbar": {
             "outlinewidth": 0,
             "ticks": ""
            },
            "type": "choropleth"
           }
          ],
          "contour": [
           {
            "colorbar": {
             "outlinewidth": 0,
             "ticks": ""
            },
            "colorscale": [
             [
              0,
              "#0d0887"
             ],
             [
              0.1111111111111111,
              "#46039f"
             ],
             [
              0.2222222222222222,
              "#7201a8"
             ],
             [
              0.3333333333333333,
              "#9c179e"
             ],
             [
              0.4444444444444444,
              "#bd3786"
             ],
             [
              0.5555555555555556,
              "#d8576b"
             ],
             [
              0.6666666666666666,
              "#ed7953"
             ],
             [
              0.7777777777777778,
              "#fb9f3a"
             ],
             [
              0.8888888888888888,
              "#fdca26"
             ],
             [
              1,
              "#f0f921"
             ]
            ],
            "type": "contour"
           }
          ],
          "contourcarpet": [
           {
            "colorbar": {
             "outlinewidth": 0,
             "ticks": ""
            },
            "type": "contourcarpet"
           }
          ],
          "heatmap": [
           {
            "colorbar": {
             "outlinewidth": 0,
             "ticks": ""
            },
            "colorscale": [
             [
              0,
              "#0d0887"
             ],
             [
              0.1111111111111111,
              "#46039f"
             ],
             [
              0.2222222222222222,
              "#7201a8"
             ],
             [
              0.3333333333333333,
              "#9c179e"
             ],
             [
              0.4444444444444444,
              "#bd3786"
             ],
             [
              0.5555555555555556,
              "#d8576b"
             ],
             [
              0.6666666666666666,
              "#ed7953"
             ],
             [
              0.7777777777777778,
              "#fb9f3a"
             ],
             [
              0.8888888888888888,
              "#fdca26"
             ],
             [
              1,
              "#f0f921"
             ]
            ],
            "type": "heatmap"
           }
          ],
          "heatmapgl": [
           {
            "colorbar": {
             "outlinewidth": 0,
             "ticks": ""
            },
            "colorscale": [
             [
              0,
              "#0d0887"
             ],
             [
              0.1111111111111111,
              "#46039f"
             ],
             [
              0.2222222222222222,
              "#7201a8"
             ],
             [
              0.3333333333333333,
              "#9c179e"
             ],
             [
              0.4444444444444444,
              "#bd3786"
             ],
             [
              0.5555555555555556,
              "#d8576b"
             ],
             [
              0.6666666666666666,
              "#ed7953"
             ],
             [
              0.7777777777777778,
              "#fb9f3a"
             ],
             [
              0.8888888888888888,
              "#fdca26"
             ],
             [
              1,
              "#f0f921"
             ]
            ],
            "type": "heatmapgl"
           }
          ],
          "histogram": [
           {
            "marker": {
             "pattern": {
              "fillmode": "overlay",
              "size": 10,
              "solidity": 0.2
             }
            },
            "type": "histogram"
           }
          ],
          "histogram2d": [
           {
            "colorbar": {
             "outlinewidth": 0,
             "ticks": ""
            },
            "colorscale": [
             [
              0,
              "#0d0887"
             ],
             [
              0.1111111111111111,
              "#46039f"
             ],
             [
              0.2222222222222222,
              "#7201a8"
             ],
             [
              0.3333333333333333,
              "#9c179e"
             ],
             [
              0.4444444444444444,
              "#bd3786"
             ],
             [
              0.5555555555555556,
              "#d8576b"
             ],
             [
              0.6666666666666666,
              "#ed7953"
             ],
             [
              0.7777777777777778,
              "#fb9f3a"
             ],
             [
              0.8888888888888888,
              "#fdca26"
             ],
             [
              1,
              "#f0f921"
             ]
            ],
            "type": "histogram2d"
           }
          ],
          "histogram2dcontour": [
           {
            "colorbar": {
             "outlinewidth": 0,
             "ticks": ""
            },
            "colorscale": [
             [
              0,
              "#0d0887"
             ],
             [
              0.1111111111111111,
              "#46039f"
             ],
             [
              0.2222222222222222,
              "#7201a8"
             ],
             [
              0.3333333333333333,
              "#9c179e"
             ],
             [
              0.4444444444444444,
              "#bd3786"
             ],
             [
              0.5555555555555556,
              "#d8576b"
             ],
             [
              0.6666666666666666,
              "#ed7953"
             ],
             [
              0.7777777777777778,
              "#fb9f3a"
             ],
             [
              0.8888888888888888,
              "#fdca26"
             ],
             [
              1,
              "#f0f921"
             ]
            ],
            "type": "histogram2dcontour"
           }
          ],
          "mesh3d": [
           {
            "colorbar": {
             "outlinewidth": 0,
             "ticks": ""
            },
            "type": "mesh3d"
           }
          ],
          "parcoords": [
           {
            "line": {
             "colorbar": {
              "outlinewidth": 0,
              "ticks": ""
             }
            },
            "type": "parcoords"
           }
          ],
          "pie": [
           {
            "automargin": true,
            "type": "pie"
           }
          ],
          "scatter": [
           {
            "fillpattern": {
             "fillmode": "overlay",
             "size": 10,
             "solidity": 0.2
            },
            "type": "scatter"
           }
          ],
          "scatter3d": [
           {
            "line": {
             "colorbar": {
              "outlinewidth": 0,
              "ticks": ""
             }
            },
            "marker": {
             "colorbar": {
              "outlinewidth": 0,
              "ticks": ""
             }
            },
            "type": "scatter3d"
           }
          ],
          "scattercarpet": [
           {
            "marker": {
             "colorbar": {
              "outlinewidth": 0,
              "ticks": ""
             }
            },
            "type": "scattercarpet"
           }
          ],
          "scattergeo": [
           {
            "marker": {
             "colorbar": {
              "outlinewidth": 0,
              "ticks": ""
             }
            },
            "type": "scattergeo"
           }
          ],
          "scattergl": [
           {
            "marker": {
             "colorbar": {
              "outlinewidth": 0,
              "ticks": ""
             }
            },
            "type": "scattergl"
           }
          ],
          "scattermapbox": [
           {
            "marker": {
             "colorbar": {
              "outlinewidth": 0,
              "ticks": ""
             }
            },
            "type": "scattermapbox"
           }
          ],
          "scatterpolar": [
           {
            "marker": {
             "colorbar": {
              "outlinewidth": 0,
              "ticks": ""
             }
            },
            "type": "scatterpolar"
           }
          ],
          "scatterpolargl": [
           {
            "marker": {
             "colorbar": {
              "outlinewidth": 0,
              "ticks": ""
             }
            },
            "type": "scatterpolargl"
           }
          ],
          "scatterternary": [
           {
            "marker": {
             "colorbar": {
              "outlinewidth": 0,
              "ticks": ""
             }
            },
            "type": "scatterternary"
           }
          ],
          "surface": [
           {
            "colorbar": {
             "outlinewidth": 0,
             "ticks": ""
            },
            "colorscale": [
             [
              0,
              "#0d0887"
             ],
             [
              0.1111111111111111,
              "#46039f"
             ],
             [
              0.2222222222222222,
              "#7201a8"
             ],
             [
              0.3333333333333333,
              "#9c179e"
             ],
             [
              0.4444444444444444,
              "#bd3786"
             ],
             [
              0.5555555555555556,
              "#d8576b"
             ],
             [
              0.6666666666666666,
              "#ed7953"
             ],
             [
              0.7777777777777778,
              "#fb9f3a"
             ],
             [
              0.8888888888888888,
              "#fdca26"
             ],
             [
              1,
              "#f0f921"
             ]
            ],
            "type": "surface"
           }
          ],
          "table": [
           {
            "cells": {
             "fill": {
              "color": "#EBF0F8"
             },
             "line": {
              "color": "white"
             }
            },
            "header": {
             "fill": {
              "color": "#C8D4E3"
             },
             "line": {
              "color": "white"
             }
            },
            "type": "table"
           }
          ]
         },
         "layout": {
          "annotationdefaults": {
           "arrowcolor": "#2a3f5f",
           "arrowhead": 0,
           "arrowwidth": 1
          },
          "autotypenumbers": "strict",
          "coloraxis": {
           "colorbar": {
            "outlinewidth": 0,
            "ticks": ""
           }
          },
          "colorscale": {
           "diverging": [
            [
             0,
             "#8e0152"
            ],
            [
             0.1,
             "#c51b7d"
            ],
            [
             0.2,
             "#de77ae"
            ],
            [
             0.3,
             "#f1b6da"
            ],
            [
             0.4,
             "#fde0ef"
            ],
            [
             0.5,
             "#f7f7f7"
            ],
            [
             0.6,
             "#e6f5d0"
            ],
            [
             0.7,
             "#b8e186"
            ],
            [
             0.8,
             "#7fbc41"
            ],
            [
             0.9,
             "#4d9221"
            ],
            [
             1,
             "#276419"
            ]
           ],
           "sequential": [
            [
             0,
             "#0d0887"
            ],
            [
             0.1111111111111111,
             "#46039f"
            ],
            [
             0.2222222222222222,
             "#7201a8"
            ],
            [
             0.3333333333333333,
             "#9c179e"
            ],
            [
             0.4444444444444444,
             "#bd3786"
            ],
            [
             0.5555555555555556,
             "#d8576b"
            ],
            [
             0.6666666666666666,
             "#ed7953"
            ],
            [
             0.7777777777777778,
             "#fb9f3a"
            ],
            [
             0.8888888888888888,
             "#fdca26"
            ],
            [
             1,
             "#f0f921"
            ]
           ],
           "sequentialminus": [
            [
             0,
             "#0d0887"
            ],
            [
             0.1111111111111111,
             "#46039f"
            ],
            [
             0.2222222222222222,
             "#7201a8"
            ],
            [
             0.3333333333333333,
             "#9c179e"
            ],
            [
             0.4444444444444444,
             "#bd3786"
            ],
            [
             0.5555555555555556,
             "#d8576b"
            ],
            [
             0.6666666666666666,
             "#ed7953"
            ],
            [
             0.7777777777777778,
             "#fb9f3a"
            ],
            [
             0.8888888888888888,
             "#fdca26"
            ],
            [
             1,
             "#f0f921"
            ]
           ]
          },
          "colorway": [
           "#636efa",
           "#EF553B",
           "#00cc96",
           "#ab63fa",
           "#FFA15A",
           "#19d3f3",
           "#FF6692",
           "#B6E880",
           "#FF97FF",
           "#FECB52"
          ],
          "font": {
           "color": "#2a3f5f"
          },
          "geo": {
           "bgcolor": "white",
           "lakecolor": "white",
           "landcolor": "#E5ECF6",
           "showlakes": true,
           "showland": true,
           "subunitcolor": "white"
          },
          "hoverlabel": {
           "align": "left"
          },
          "hovermode": "closest",
          "mapbox": {
           "style": "light"
          },
          "paper_bgcolor": "white",
          "plot_bgcolor": "#E5ECF6",
          "polar": {
           "angularaxis": {
            "gridcolor": "white",
            "linecolor": "white",
            "ticks": ""
           },
           "bgcolor": "#E5ECF6",
           "radialaxis": {
            "gridcolor": "white",
            "linecolor": "white",
            "ticks": ""
           }
          },
          "scene": {
           "xaxis": {
            "backgroundcolor": "#E5ECF6",
            "gridcolor": "white",
            "gridwidth": 2,
            "linecolor": "white",
            "showbackground": true,
            "ticks": "",
            "zerolinecolor": "white"
           },
           "yaxis": {
            "backgroundcolor": "#E5ECF6",
            "gridcolor": "white",
            "gridwidth": 2,
            "linecolor": "white",
            "showbackground": true,
            "ticks": "",
            "zerolinecolor": "white"
           },
           "zaxis": {
            "backgroundcolor": "#E5ECF6",
            "gridcolor": "white",
            "gridwidth": 2,
            "linecolor": "white",
            "showbackground": true,
            "ticks": "",
            "zerolinecolor": "white"
           }
          },
          "shapedefaults": {
           "line": {
            "color": "#2a3f5f"
           }
          },
          "ternary": {
           "aaxis": {
            "gridcolor": "white",
            "linecolor": "white",
            "ticks": ""
           },
           "baxis": {
            "gridcolor": "white",
            "linecolor": "white",
            "ticks": ""
           },
           "bgcolor": "#E5ECF6",
           "caxis": {
            "gridcolor": "white",
            "linecolor": "white",
            "ticks": ""
           }
          },
          "title": {
           "x": 0.05
          },
          "xaxis": {
           "automargin": true,
           "gridcolor": "white",
           "linecolor": "white",
           "ticks": "",
           "title": {
            "standoff": 15
           },
           "zerolinecolor": "white",
           "zerolinewidth": 2
          },
          "yaxis": {
           "automargin": true,
           "gridcolor": "white",
           "linecolor": "white",
           "ticks": "",
           "title": {
            "standoff": 15
           },
           "zerolinecolor": "white",
           "zerolinewidth": 2
          }
         }
        },
        "title": {
         "text": "<b>Treatment Effect on Score</b>",
         "x": 0.5,
         "xanchor": "center",
         "y": 0.95,
         "yanchor": "top"
        },
        "width": 800,
        "xaxis": {
         "anchor": "y",
         "categoryarray": [
          "B",
          "A",
          "C"
         ],
         "categoryorder": "array",
         "domain": [
          0,
          1
         ],
         "linecolor": "black",
         "linewidth": 2,
         "showline": true,
         "title": {
          "text": "Treatment"
         }
        },
        "yaxis": {
         "anchor": "x",
         "domain": [
          0,
          1
         ],
         "linecolor": "black",
         "linewidth": 2,
         "showline": true,
         "tickformat": ".2e",
         "title": {
          "text": "Score"
         }
        }
       }
      }
     },
     "metadata": {},
     "output_type": "display_data"
    }
   ],
   "source": [
    "plotter = univar_stats(\n",
    "    df,\n",
    "    x_col=\"treatment\",\n",
    "    y_col=\"score\",\n",
    "    stats_options=[\"t-test\"],\n",
    "    correct_p=\"bonferroni\",\n",
    "    plot_type=\"box\",            # <-- NEW!\n",
    "    show_axis_lines=True,        # <-- NEW!\n",
    "    annotate_style=\"symbol\",\n",
    "    custom_colors={\"A\": \"red\", \"B\": \"blue\", \"C\": \"green\"},\n",
    "    y_offset_factor=0.35,\n",
    "    title_=\"Treatment Effect on Score\",\n",
    "    y_label=\"Score\",\n",
    "    x_label=\"Treatment\",\n",
    "    fig_height=600,\n",
    "    fig_width=800,\n",
    "    group_order=[\"B\", \"A\", \"C\"],  # <-- NEW!\n",
    ")\n",
    "\n",
    "fig = plotter.plot()\n",
    "fig.show()"
   ]
  }
 ],
 "metadata": {
  "kernelspec": {
   "display_name": "Python 3",
   "language": "python",
   "name": "python3"
  },
  "language_info": {
   "codemirror_mode": {
    "name": "ipython",
    "version": 3
   },
   "file_extension": ".py",
   "mimetype": "text/x-python",
   "name": "python",
   "nbconvert_exporter": "python",
   "pygments_lexer": "ipython3",
   "version": "3.12.9"
  }
 },
 "nbformat": 4,
 "nbformat_minor": 2
}
