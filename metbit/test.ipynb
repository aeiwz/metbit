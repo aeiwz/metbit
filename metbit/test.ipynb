{
 "cells": [
  {
   "cell_type": "code",
   "execution_count": null,
   "metadata": {},
   "outputs": [],
   "source": [
    "\n",
    "# Import necessary libraries\n",
    "import numpy as np\n",
    "import pandas as pd\n",
    "\n",
    "import os"
   ]
  },
  {
   "cell_type": "code",
   "execution_count": null,
   "metadata": {},
   "outputs": [],
   "source": [
    "data = pd.read_csv('/Volumes/CAS9/Aeiwz/Documents/Thesis/Analyse/Dataset/U_noesy_pqn.csv')\n",
    "#data.drop(data.loc[data['Group'] == 'CR + INT777 (L)'].index, inplace=True)\n",
    "\n",
    "#data.reset_index(drop=True, inplace=True)\n",
    "X = data.iloc[:, 14:5000]\n",
    "ppm = list(X.columns.astype(float))\n",
    "Y = data['Group']"
   ]
  },
  {
   "cell_type": "code",
   "execution_count": null,
   "metadata": {},
   "outputs": [],
   "source": [
    "from metbit import opls_da, pca\n"
   ]
  },
  {
   "cell_type": "code",
   "execution_count": null,
   "metadata": {},
   "outputs": [],
   "source": [
    "op = opls_da(X=X, y=Y, features_name=ppm, n_components=2, scale='pareto', kfold=3, estimator='opls', random_state=14)"
   ]
  },
  {
   "cell_type": "code",
   "execution_count": null,
   "metadata": {},
   "outputs": [],
   "source": [
    "op.fit()"
   ]
  },
  {
   "cell_type": "markdown",
   "metadata": {},
   "source": []
  },
  {
   "cell_type": "code",
   "execution_count": null,
   "metadata": {},
   "outputs": [],
   "source": [
    "op.permutation_test(n_permutations=10)"
   ]
  },
  {
   "cell_type": "code",
   "execution_count": null,
   "metadata": {},
   "outputs": [],
   "source": [
    "op.vip_scores()"
   ]
  },
  {
   "cell_type": "code",
   "execution_count": null,
   "metadata": {},
   "outputs": [],
   "source": [
    "op.vip_plot()"
   ]
  },
  {
   "cell_type": "code",
   "execution_count": null,
   "metadata": {},
   "outputs": [],
   "source": [
    "op.plot_oplsda_scores()"
   ]
  },
  {
   "cell_type": "code",
   "execution_count": null,
   "metadata": {},
   "outputs": [],
   "source": [
    "op.plot_hist()\n"
   ]
  },
  {
   "cell_type": "code",
   "execution_count": null,
   "metadata": {},
   "outputs": [],
   "source": [
    "op.plot_s_scores()"
   ]
  },
  {
   "cell_type": "code",
   "execution_count": null,
   "metadata": {},
   "outputs": [],
   "source": [
    "op.plot_loading()"
   ]
  },
  {
   "cell_type": "code",
   "execution_count": 1,
   "metadata": {},
   "outputs": [
    {
     "data": {
      "text/html": [
       "<style>#sk-container-id-1 {color: black;}#sk-container-id-1 pre{padding: 0;}#sk-container-id-1 div.sk-toggleable {background-color: white;}#sk-container-id-1 label.sk-toggleable__label {cursor: pointer;display: block;width: 100%;margin-bottom: 0;padding: 0.3em;box-sizing: border-box;text-align: center;}#sk-container-id-1 label.sk-toggleable__label-arrow:before {content: \"▸\";float: left;margin-right: 0.25em;color: #696969;}#sk-container-id-1 label.sk-toggleable__label-arrow:hover:before {color: black;}#sk-container-id-1 div.sk-estimator:hover label.sk-toggleable__label-arrow:before {color: black;}#sk-container-id-1 div.sk-toggleable__content {max-height: 0;max-width: 0;overflow: hidden;text-align: left;background-color: #f0f8ff;}#sk-container-id-1 div.sk-toggleable__content pre {margin: 0.2em;color: black;border-radius: 0.25em;background-color: #f0f8ff;}#sk-container-id-1 input.sk-toggleable__control:checked~div.sk-toggleable__content {max-height: 200px;max-width: 100%;overflow: auto;}#sk-container-id-1 input.sk-toggleable__control:checked~label.sk-toggleable__label-arrow:before {content: \"▾\";}#sk-container-id-1 div.sk-estimator input.sk-toggleable__control:checked~label.sk-toggleable__label {background-color: #d4ebff;}#sk-container-id-1 div.sk-label input.sk-toggleable__control:checked~label.sk-toggleable__label {background-color: #d4ebff;}#sk-container-id-1 input.sk-hidden--visually {border: 0;clip: rect(1px 1px 1px 1px);clip: rect(1px, 1px, 1px, 1px);height: 1px;margin: -1px;overflow: hidden;padding: 0;position: absolute;width: 1px;}#sk-container-id-1 div.sk-estimator {font-family: monospace;background-color: #f0f8ff;border: 1px dotted black;border-radius: 0.25em;box-sizing: border-box;margin-bottom: 0.5em;}#sk-container-id-1 div.sk-estimator:hover {background-color: #d4ebff;}#sk-container-id-1 div.sk-parallel-item::after {content: \"\";width: 100%;border-bottom: 1px solid gray;flex-grow: 1;}#sk-container-id-1 div.sk-label:hover label.sk-toggleable__label {background-color: #d4ebff;}#sk-container-id-1 div.sk-serial::before {content: \"\";position: absolute;border-left: 1px solid gray;box-sizing: border-box;top: 0;bottom: 0;left: 50%;z-index: 0;}#sk-container-id-1 div.sk-serial {display: flex;flex-direction: column;align-items: center;background-color: white;padding-right: 0.2em;padding-left: 0.2em;position: relative;}#sk-container-id-1 div.sk-item {position: relative;z-index: 1;}#sk-container-id-1 div.sk-parallel {display: flex;align-items: stretch;justify-content: center;background-color: white;position: relative;}#sk-container-id-1 div.sk-item::before, #sk-container-id-1 div.sk-parallel-item::before {content: \"\";position: absolute;border-left: 1px solid gray;box-sizing: border-box;top: 0;bottom: 0;left: 50%;z-index: -1;}#sk-container-id-1 div.sk-parallel-item {display: flex;flex-direction: column;z-index: 1;position: relative;background-color: white;}#sk-container-id-1 div.sk-parallel-item:first-child::after {align-self: flex-end;width: 50%;}#sk-container-id-1 div.sk-parallel-item:last-child::after {align-self: flex-start;width: 50%;}#sk-container-id-1 div.sk-parallel-item:only-child::after {width: 0;}#sk-container-id-1 div.sk-dashed-wrapped {border: 1px dashed gray;margin: 0 0.4em 0.5em 0.4em;box-sizing: border-box;padding-bottom: 0.4em;background-color: white;}#sk-container-id-1 div.sk-label label {font-family: monospace;font-weight: bold;display: inline-block;line-height: 1.2em;}#sk-container-id-1 div.sk-label-container {text-align: center;}#sk-container-id-1 div.sk-container {/* jupyter's `normalize.less` sets `[hidden] { display: none; }` but bootstrap.min.css set `[hidden] { display: none !important; }` so we also need the `!important` here to be able to override the default hidden behavior on the sphinx rendered scikit-learn.org. See: https://github.com/scikit-learn/scikit-learn/issues/21755 */display: inline-block !important;position: relative;}#sk-container-id-1 div.sk-text-repr-fallback {display: none;}</style><div id=\"sk-container-id-1\" class=\"sk-top-container\"><div class=\"sk-text-repr-fallback\"><pre>PCA(n_components=2)</pre><b>In a Jupyter environment, please rerun this cell to show the HTML representation or trust the notebook. <br />On GitHub, the HTML representation is unable to render, please try loading this page with nbviewer.org.</b></div><div class=\"sk-container\" hidden><div class=\"sk-item\"><div class=\"sk-estimator sk-toggleable\"><input class=\"sk-toggleable__control sk-hidden--visually\" id=\"sk-estimator-id-1\" type=\"checkbox\" checked><label for=\"sk-estimator-id-1\" class=\"sk-toggleable__label sk-toggleable__label-arrow\">PCA</label><div class=\"sk-toggleable__content\"><pre>PCA(n_components=2)</pre></div></div></div></div></div>"
      ],
      "text/plain": [
       "PCA(n_components=2)"
      ]
     },
     "execution_count": 1,
     "metadata": {},
     "output_type": "execute_result"
    }
   ],
   "source": [
    "import pandas as pd\n",
    "from metbit import opls_da, pca\n",
    "\n",
    "data = pd.read_csv('/Volumes/CAS9/Aeiwz/Documents/Thesis/Analyse/Dataset/U_noesy_pqn.csv')\n",
    "#data.drop(data.loc[data['Group'] == 'CR + INT777 (L)'].index, inplace=True)\n",
    "\n",
    "#data.reset_index(drop=True, inplace=True)\n",
    "X = data.iloc[:, 14:5000]\n",
    "ppm = list(X.columns.astype(float))\n",
    "Y = data['Group']\n",
    "pca_ = pca(X=X,label=Y, features_name=ppm, n_components=2, scale='pareto', random_state=14)\n",
    "pca_.fit()\n",
    "#pca_.plot_pca_scores()"
   ]
  },
  {
   "cell_type": "code",
   "execution_count": 2,
   "metadata": {},
   "outputs": [
    {
     "data": {
      "application/vnd.plotly.v1+json": {
       "config": {
        "plotlyServerURL": "https://plot.ly"
       },
       "data": [
        {
         "error_x": {
          "array": [
           14362.775542180954
          ]
         },
         "error_y": {
          "array": [
           1722.5248727846838
          ]
         },
         "hovertemplate": "label=CR + INT777 (H)<br>Time=1-wk post-op<br>PC1 R<sup>2</sup>X: 36.18 %=%{x}<br>PC2 R<sup>2</sup>X: 10.06 %=%{y}<extra></extra>",
         "legendgroup": "CR + INT777 (H), 1-wk post-op",
         "line": {
          "color": "#636efa",
          "dash": "solid"
         },
         "marker": {
          "line": {
           "color": "DarkSlateGrey",
           "width": 2
          },
          "opacity": 0.7,
          "size": 35,
          "symbol": "circle"
         },
         "mode": "markers+lines",
         "name": "CR + INT777 (H), 1-wk post-op",
         "orientation": "v",
         "showlegend": true,
         "type": "scatter",
         "x": [
          14917.037126693787
         ],
         "xaxis": "x",
         "y": [
          -6434.463431271555
         ],
         "yaxis": "y"
        },
        {
         "error_x": {
          "array": [
           1863.42237679664
          ]
         },
         "error_y": {
          "array": [
           2322.348741801753
          ]
         },
         "hovertemplate": "label=CR + INT777 (H)<br>Time=1-wk pre-op<br>PC1 R<sup>2</sup>X: 36.18 %=%{x}<br>PC2 R<sup>2</sup>X: 10.06 %=%{y}<extra></extra>",
         "legendgroup": "CR + INT777 (H), 1-wk pre-op",
         "line": {
          "color": "#636efa",
          "dash": "solid"
         },
         "marker": {
          "line": {
           "color": "DarkSlateGrey",
           "width": 2
          },
          "opacity": 0.7,
          "size": 35,
          "symbol": "diamond"
         },
         "mode": "markers+lines",
         "name": "CR + INT777 (H), 1-wk pre-op",
         "orientation": "v",
         "showlegend": true,
         "type": "scatter",
         "x": [
          -7044.685135621369
         ],
         "xaxis": "x",
         "y": [
          -496.1482715074977
         ],
         "yaxis": "y"
        },
        {
         "error_x": {
          "array": [
           2388.468623186399
          ]
         },
         "error_y": {
          "array": [
           1103.9341918949183
          ]
         },
         "hovertemplate": "label=CR + INT777 (H)<br>Time=2-wk post-op<br>PC1 R<sup>2</sup>X: 36.18 %=%{x}<br>PC2 R<sup>2</sup>X: 10.06 %=%{y}<extra></extra>",
         "legendgroup": "CR + INT777 (H), 2-wk post-op",
         "line": {
          "color": "#636efa",
          "dash": "solid"
         },
         "marker": {
          "line": {
           "color": "DarkSlateGrey",
           "width": 2
          },
          "opacity": 0.7,
          "size": 35,
          "symbol": "square"
         },
         "mode": "markers+lines",
         "name": "CR + INT777 (H), 2-wk post-op",
         "orientation": "v",
         "showlegend": true,
         "type": "scatter",
         "x": [
          634.666407338088
         ],
         "xaxis": "x",
         "y": [
          3066.883587837293
         ],
         "yaxis": "y"
        },
        {
         "error_x": {
          "array": [
           3480.0962480726494
          ]
         },
         "error_y": {
          "array": [
           1348.2063618425075
          ]
         },
         "hovertemplate": "label=CR + INT777 (H)<br>Time=4-wk post-op<br>PC1 R<sup>2</sup>X: 36.18 %=%{x}<br>PC2 R<sup>2</sup>X: 10.06 %=%{y}<extra></extra>",
         "legendgroup": "CR + INT777 (H), 4-wk post-op",
         "line": {
          "color": "#636efa",
          "dash": "solid"
         },
         "marker": {
          "line": {
           "color": "DarkSlateGrey",
           "width": 2
          },
          "opacity": 0.7,
          "size": 35,
          "symbol": "x"
         },
         "mode": "markers+lines",
         "name": "CR + INT777 (H), 4-wk post-op",
         "orientation": "v",
         "showlegend": true,
         "type": "scatter",
         "x": [
          4016.8270542172627
         ],
         "xaxis": "x",
         "y": [
          795.9691709573632
         ],
         "yaxis": "y"
        },
        {
         "error_x": {
          "array": [
           3111.705014380662
          ]
         },
         "error_y": {
          "array": [
           2342.1968919142055
          ]
         },
         "hovertemplate": "label=CR + INT777 (L)<br>Time=1-wk post-op<br>PC1 R<sup>2</sup>X: 36.18 %=%{x}<br>PC2 R<sup>2</sup>X: 10.06 %=%{y}<extra></extra>",
         "legendgroup": "CR + INT777 (L), 1-wk post-op",
         "line": {
          "color": "#EF553B",
          "dash": "solid"
         },
         "marker": {
          "line": {
           "color": "DarkSlateGrey",
           "width": 2
          },
          "opacity": 0.7,
          "size": 35,
          "symbol": "circle"
         },
         "mode": "markers+lines",
         "name": "CR + INT777 (L), 1-wk post-op",
         "orientation": "v",
         "showlegend": true,
         "type": "scatter",
         "x": [
          -5593.507161964893
         ],
         "xaxis": "x",
         "y": [
          125.2046019287518
         ],
         "yaxis": "y"
        },
        {
         "error_x": {
          "array": [
           1988.7149631295933
          ]
         },
         "error_y": {
          "array": [
           3454.729147599919
          ]
         },
         "hovertemplate": "label=CR + INT777 (L)<br>Time=1-wk pre-op<br>PC1 R<sup>2</sup>X: 36.18 %=%{x}<br>PC2 R<sup>2</sup>X: 10.06 %=%{y}<extra></extra>",
         "legendgroup": "CR + INT777 (L), 1-wk pre-op",
         "line": {
          "color": "#EF553B",
          "dash": "solid"
         },
         "marker": {
          "line": {
           "color": "DarkSlateGrey",
           "width": 2
          },
          "opacity": 0.7,
          "size": 35,
          "symbol": "diamond"
         },
         "mode": "markers+lines",
         "name": "CR + INT777 (L), 1-wk pre-op",
         "orientation": "v",
         "showlegend": true,
         "type": "scatter",
         "x": [
          -4740.71154137661
         ],
         "xaxis": "x",
         "y": [
          1716.7734854393996
         ],
         "yaxis": "y"
        },
        {
         "error_x": {
          "array": [
           4465.563362997486
          ]
         },
         "error_y": {
          "array": [
           2071.537123224936
          ]
         },
         "hovertemplate": "label=CR + INT777 (L)<br>Time=2-wk post-op<br>PC1 R<sup>2</sup>X: 36.18 %=%{x}<br>PC2 R<sup>2</sup>X: 10.06 %=%{y}<extra></extra>",
         "legendgroup": "CR + INT777 (L), 2-wk post-op",
         "line": {
          "color": "#EF553B",
          "dash": "solid"
         },
         "marker": {
          "line": {
           "color": "DarkSlateGrey",
           "width": 2
          },
          "opacity": 0.7,
          "size": 35,
          "symbol": "square"
         },
         "mode": "markers+lines",
         "name": "CR + INT777 (L), 2-wk post-op",
         "orientation": "v",
         "showlegend": true,
         "type": "scatter",
         "x": [
          2525.759563766021
         ],
         "xaxis": "x",
         "y": [
          2747.19876751025
         ],
         "yaxis": "y"
        },
        {
         "error_x": {
          "array": [
           2419.577724688567
          ]
         },
         "error_y": {
          "array": [
           2191.9925928853354
          ]
         },
         "hovertemplate": "label=CR + INT777 (L)<br>Time=4-wk post-op<br>PC1 R<sup>2</sup>X: 36.18 %=%{x}<br>PC2 R<sup>2</sup>X: 10.06 %=%{y}<extra></extra>",
         "legendgroup": "CR + INT777 (L), 4-wk post-op",
         "line": {
          "color": "#EF553B",
          "dash": "solid"
         },
         "marker": {
          "line": {
           "color": "DarkSlateGrey",
           "width": 2
          },
          "opacity": 0.7,
          "size": 35,
          "symbol": "x"
         },
         "mode": "markers+lines",
         "name": "CR + INT777 (L), 4-wk post-op",
         "orientation": "v",
         "showlegend": true,
         "type": "scatter",
         "x": [
          4026.7236914213986
         ],
         "xaxis": "x",
         "y": [
          6150.5560400212835
         ],
         "yaxis": "y"
        },
        {
         "error_x": {
          "array": [
           2779.1782439833078
          ]
         },
         "error_y": {
          "array": [
           2931.381129167854
          ]
         },
         "hovertemplate": "label=sham ad libitum<br>Time=1-wk post-op<br>PC1 R<sup>2</sup>X: 36.18 %=%{x}<br>PC2 R<sup>2</sup>X: 10.06 %=%{y}<extra></extra>",
         "legendgroup": "sham ad libitum, 1-wk post-op",
         "line": {
          "color": "#00cc96",
          "dash": "solid"
         },
         "marker": {
          "line": {
           "color": "DarkSlateGrey",
           "width": 2
          },
          "opacity": 0.7,
          "size": 35,
          "symbol": "circle"
         },
         "mode": "markers+lines",
         "name": "sham ad libitum, 1-wk post-op",
         "orientation": "v",
         "showlegend": true,
         "type": "scatter",
         "x": [
          -1549.2834617296558
         ],
         "xaxis": "x",
         "y": [
          -1215.156547340263
         ],
         "yaxis": "y"
        },
        {
         "error_x": {
          "array": [
           2661.185431334185
          ]
         },
         "error_y": {
          "array": [
           2735.224967922857
          ]
         },
         "hovertemplate": "label=sham ad libitum<br>Time=1-wk pre-op<br>PC1 R<sup>2</sup>X: 36.18 %=%{x}<br>PC2 R<sup>2</sup>X: 10.06 %=%{y}<extra></extra>",
         "legendgroup": "sham ad libitum, 1-wk pre-op",
         "line": {
          "color": "#00cc96",
          "dash": "solid"
         },
         "marker": {
          "line": {
           "color": "DarkSlateGrey",
           "width": 2
          },
          "opacity": 0.7,
          "size": 35,
          "symbol": "diamond"
         },
         "mode": "markers+lines",
         "name": "sham ad libitum, 1-wk pre-op",
         "orientation": "v",
         "showlegend": true,
         "type": "scatter",
         "x": [
          -8725.779023684705
         ],
         "xaxis": "x",
         "y": [
          -735.9014868115229
         ],
         "yaxis": "y"
        },
        {
         "error_x": {
          "array": [
           1146.4582004107867
          ]
         },
         "error_y": {
          "array": [
           2573.790710658152
          ]
         },
         "hovertemplate": "label=sham ad libitum<br>Time=2-wk post-op<br>PC1 R<sup>2</sup>X: 36.18 %=%{x}<br>PC2 R<sup>2</sup>X: 10.06 %=%{y}<extra></extra>",
         "legendgroup": "sham ad libitum, 2-wk post-op",
         "line": {
          "color": "#00cc96",
          "dash": "solid"
         },
         "marker": {
          "line": {
           "color": "DarkSlateGrey",
           "width": 2
          },
          "opacity": 0.7,
          "size": 35,
          "symbol": "square"
         },
         "mode": "markers+lines",
         "name": "sham ad libitum, 2-wk post-op",
         "orientation": "v",
         "showlegend": true,
         "type": "scatter",
         "x": [
          -2727.611675123643
         ],
         "xaxis": "x",
         "y": [
          -6738.247797137245
         ],
         "yaxis": "y"
        },
        {
         "error_x": {
          "array": [
           1420.4007466277537
          ]
         },
         "error_y": {
          "array": [
           3765.6053312380036
          ]
         },
         "hovertemplate": "label=sham ad libitum<br>Time=4-wk post-op<br>PC1 R<sup>2</sup>X: 36.18 %=%{x}<br>PC2 R<sup>2</sup>X: 10.06 %=%{y}<extra></extra>",
         "legendgroup": "sham ad libitum, 4-wk post-op",
         "line": {
          "color": "#00cc96",
          "dash": "solid"
         },
         "marker": {
          "line": {
           "color": "DarkSlateGrey",
           "width": 2
          },
          "opacity": 0.7,
          "size": 35,
          "symbol": "x"
         },
         "mode": "markers+lines",
         "name": "sham ad libitum, 4-wk post-op",
         "orientation": "v",
         "showlegend": true,
         "type": "scatter",
         "x": [
          4260.56415606432
         ],
         "xaxis": "x",
         "y": [
          1017.331880373739
         ],
         "yaxis": "y"
        },
        {
         "line": {
          "color": "#1f77b4",
          "width": 2
         },
         "marker": {
          "line": {
           "color": "DarkSlateGrey",
           "width": 2
          },
          "opacity": 0.7,
          "size": 35
         },
         "mode": "lines",
         "showlegend": false,
         "type": "scatter",
         "x": [
          14917.037126693787,
          -5593.507161964893,
          -1549.2834617296558,
          -7044.685135621369,
          -4740.71154137661,
          -8725.779023684705,
          634.666407338088
         ],
         "y": [
          -6434.463431271555,
          125.2046019287518,
          -1215.156547340263,
          -496.1482715074977,
          1716.7734854393996,
          -735.9014868115229,
          3066.883587837293
         ]
        },
        {
         "line": {
          "color": "#ff7f0e",
          "width": 2
         },
         "marker": {
          "line": {
           "color": "DarkSlateGrey",
           "width": 2
          },
          "opacity": 0.7,
          "size": 35
         },
         "mode": "lines",
         "showlegend": false,
         "type": "scatter",
         "x": [
          -7044.685135621369,
          -4740.71154137661,
          -8725.779023684705,
          634.666407338088,
          2525.759563766021,
          -2727.611675123643,
          4016.8270542172627
         ],
         "y": [
          -496.1482715074977,
          1716.7734854393996,
          -735.9014868115229,
          3066.883587837293,
          2747.19876751025,
          -6738.247797137245,
          795.9691709573632
         ]
        },
        {
         "line": {
          "color": "#2ca02c",
          "width": 2
         },
         "marker": {
          "line": {
           "color": "DarkSlateGrey",
           "width": 2
          },
          "opacity": 0.7,
          "size": 35
         },
         "mode": "lines",
         "showlegend": false,
         "type": "scatter",
         "x": [
          634.666407338088,
          2525.759563766021,
          -2727.611675123643,
          4016.8270542172627,
          4026.7236914213986,
          4260.56415606432
         ],
         "y": [
          3066.883587837293,
          2747.19876751025,
          -6738.247797137245,
          795.9691709573632,
          6150.5560400212835,
          1017.331880373739
         ]
        }
       ],
       "layout": {
        "annotations": [
         {
          "align": "left",
          "font": {
           "color": "black",
           "size": 20
          },
          "showarrow": false,
          "text": "<b>R<sup>2</sup>X (Cum): 46.25%<b>",
          "textangle": 0,
          "x": 1,
          "xref": "paper",
          "y": 0.05,
          "yref": "paper"
         },
         {
          "align": "left",
          "font": {
           "color": "black",
           "size": 20
          },
          "showarrow": false,
          "text": "<b>Q<sup>2</sup>X (Cum): 13.27%<b>",
          "textangle": 0,
          "x": 1,
          "xref": "paper",
          "y": 0.01,
          "yref": "paper"
         }
        ],
        "font": {
         "size": 20
        },
        "height": 900,
        "legend": {
         "title": {
          "text": "label, Time"
         },
         "tracegroupgap": 0
        },
        "paper_bgcolor": "rgba(0,0,0,0)",
        "plot_bgcolor": "rgba(0,0,0,0)",
        "shapes": [
         {
          "path": "M 8458.123001126256, 4758.26812287416L7831.723785141059, 5091.50032050695L7173.788981631207, 5404.230843362369L6486.967861836445, 5695.200436001168L5774.0260119969535, 5963.237466569698L5037.834197313653, 6207.262644547856L4281.356802389956, 6426.293366671093L3507.6398947012435, 6619.4476735269445L2719.798959156211, 6785.9478008943115L1921.0063531387516, 6925.12331152547L1114.4785325444248, 7036.413794760237L303.46310024779393, 7119.371123101905L-508.77427084812405, 7173.661256668521L-1318.9629875240453, 7199.065588253569L-2123.8407057689737, 7195.481823580063L-2920.166467088115, 7162.924393203472L-3704.7337486988486, 7101.524394404983L-4474.383375066265, 7011.529063309007L-5226.016238788022, 6893.300779350579L-5956.605779606044, 6747.315606101263L-6663.210171296487, 6574.161374329176L-7342.98416736563, 6374.535315011958L-7993.190557853296, 6149.241251833705L-8611.211191111288, 5899.1863644707L-9194.557516176008, 5625.377535699039L-9740.88060328487, 5328.917297033067L-10247.980602187412, 5010.999389220098L-10713.81560016584, 4672.903955467748L-11136.509844096858, 4315.992386759064L-11514.361293447455, 3941.701840011519L-11845.848473791408, 3551.539451153351L-12129.636603249808, 3147.0762664191075L-12364.582967186578, 2729.9409163009523L-12549.741519517, 2301.813057628488L-12684.366692101396, 1864.4166101835317L-12767.916396884884, 1419.5128150835876L-12800.054208694648, 968.8931428855082L-12780.650719905372, 514.3720799658239L-12709.78406151807, 57.77982222453983L-12587.739588554125, -399.04509446781617L-12415.008731031321, -854.263197405227L-12192.287015148624, -1306.041483953564L-11920.471262647656, -1752.5608024052187L-11600.655979628054, -2192.023177061006L-11234.128949357737, -2622.6590480436876L-10822.366046824163, -3042.7343966910685L-10367.025295906691, -3450.557727837117L-9869.940193099577, -3844.4868808660167L-9333.112324668742, -4222.935642113357L-8758.703306970307, -4584.380131988725L-8149.026082384455, -4927.36494110098L-7506.535605912823, -5250.508990678171L-6833.818959941141, -5552.511093684335L-6133.5849369716, -5832.155194240419L-5408.653132271454, -6088.315264252136L-4661.942590358076, -6319.959837527642L-3896.460051036907, -6526.156163127868L-3115.2878423215147, -6706.073961225331L-2321.571468986521, -6858.988766347956L-1518.5069467301057, -6984.284844545845L-709.327932946768, -7081.457672734562L102.70729406966518, -7150.115970231535L914.328955062786, -7189.983274305266L1722.2689360605707, -7200.899053393163L2523.273947916933, -7182.819353505495L3314.1186261588477, -7135.816975212596L4091.6185183907482, -7060.08118050265L4852.642906960337, -6955.916930690481L5594.127415253674, -6823.743658445957L6313.086346858199, -6664.093578886678L7006.624707908423, -6477.609546535523L7671.949864204419, -6265.0424667723955L8306.382786164168, -6027.248272203277L8907.368836330073, -5765.184476121717L9472.488055992419, -5479.906316940748L9999.464909508904, -5172.562509120249L10486.177447083628, -4844.3906176992305L10930.665849109939, -4496.71207505822L11331.14031767229, -4130.926859977451L11685.988283430734, -3748.507860416453L11993.78089886855, -3350.994942714049L12253.27879175686, -2939.988751090115L12463.437055669157, -2517.144262416256L12623.409457450723, -2084.164122208029L12732.551844700842, -1642.7917886724106L12790.424739547188, -1194.804512416928L12796.795108268087, -742.006180088756L12751.637299637085, -286.22005075982406L12655.133148211371, 170.7185856939341L12507.671242148199, 626.9697986571713L12309.845358497521, 1080.6964255262913L12062.452072271391, 1530.0714693148882L11766.487548917516, 1973.285455325744L11423.143533112609, 2408.5537172668146L11033.802550027192, 2834.123583472471L10600.032338384672, 3248.281434293744L10123.579537730831, 3649.3596022398133L9606.362655332874, 4035.7430870863886L9050.46434102773, 4405.876058911643L8458.12300112626, 4758.2681228741585 Z",
          "type": "path"
         }
        ],
        "template": {
         "data": {
          "bar": [
           {
            "error_x": {
             "color": "#2a3f5f"
            },
            "error_y": {
             "color": "#2a3f5f"
            },
            "marker": {
             "line": {
              "color": "#E5ECF6",
              "width": 0.5
             },
             "pattern": {
              "fillmode": "overlay",
              "size": 10,
              "solidity": 0.2
             }
            },
            "type": "bar"
           }
          ],
          "barpolar": [
           {
            "marker": {
             "line": {
              "color": "#E5ECF6",
              "width": 0.5
             },
             "pattern": {
              "fillmode": "overlay",
              "size": 10,
              "solidity": 0.2
             }
            },
            "type": "barpolar"
           }
          ],
          "carpet": [
           {
            "aaxis": {
             "endlinecolor": "#2a3f5f",
             "gridcolor": "white",
             "linecolor": "white",
             "minorgridcolor": "white",
             "startlinecolor": "#2a3f5f"
            },
            "baxis": {
             "endlinecolor": "#2a3f5f",
             "gridcolor": "white",
             "linecolor": "white",
             "minorgridcolor": "white",
             "startlinecolor": "#2a3f5f"
            },
            "type": "carpet"
           }
          ],
          "choropleth": [
           {
            "colorbar": {
             "outlinewidth": 0,
             "ticks": ""
            },
            "type": "choropleth"
           }
          ],
          "contour": [
           {
            "colorbar": {
             "outlinewidth": 0,
             "ticks": ""
            },
            "colorscale": [
             [
              0,
              "#0d0887"
             ],
             [
              0.1111111111111111,
              "#46039f"
             ],
             [
              0.2222222222222222,
              "#7201a8"
             ],
             [
              0.3333333333333333,
              "#9c179e"
             ],
             [
              0.4444444444444444,
              "#bd3786"
             ],
             [
              0.5555555555555556,
              "#d8576b"
             ],
             [
              0.6666666666666666,
              "#ed7953"
             ],
             [
              0.7777777777777778,
              "#fb9f3a"
             ],
             [
              0.8888888888888888,
              "#fdca26"
             ],
             [
              1,
              "#f0f921"
             ]
            ],
            "type": "contour"
           }
          ],
          "contourcarpet": [
           {
            "colorbar": {
             "outlinewidth": 0,
             "ticks": ""
            },
            "type": "contourcarpet"
           }
          ],
          "heatmap": [
           {
            "colorbar": {
             "outlinewidth": 0,
             "ticks": ""
            },
            "colorscale": [
             [
              0,
              "#0d0887"
             ],
             [
              0.1111111111111111,
              "#46039f"
             ],
             [
              0.2222222222222222,
              "#7201a8"
             ],
             [
              0.3333333333333333,
              "#9c179e"
             ],
             [
              0.4444444444444444,
              "#bd3786"
             ],
             [
              0.5555555555555556,
              "#d8576b"
             ],
             [
              0.6666666666666666,
              "#ed7953"
             ],
             [
              0.7777777777777778,
              "#fb9f3a"
             ],
             [
              0.8888888888888888,
              "#fdca26"
             ],
             [
              1,
              "#f0f921"
             ]
            ],
            "type": "heatmap"
           }
          ],
          "heatmapgl": [
           {
            "colorbar": {
             "outlinewidth": 0,
             "ticks": ""
            },
            "colorscale": [
             [
              0,
              "#0d0887"
             ],
             [
              0.1111111111111111,
              "#46039f"
             ],
             [
              0.2222222222222222,
              "#7201a8"
             ],
             [
              0.3333333333333333,
              "#9c179e"
             ],
             [
              0.4444444444444444,
              "#bd3786"
             ],
             [
              0.5555555555555556,
              "#d8576b"
             ],
             [
              0.6666666666666666,
              "#ed7953"
             ],
             [
              0.7777777777777778,
              "#fb9f3a"
             ],
             [
              0.8888888888888888,
              "#fdca26"
             ],
             [
              1,
              "#f0f921"
             ]
            ],
            "type": "heatmapgl"
           }
          ],
          "histogram": [
           {
            "marker": {
             "pattern": {
              "fillmode": "overlay",
              "size": 10,
              "solidity": 0.2
             }
            },
            "type": "histogram"
           }
          ],
          "histogram2d": [
           {
            "colorbar": {
             "outlinewidth": 0,
             "ticks": ""
            },
            "colorscale": [
             [
              0,
              "#0d0887"
             ],
             [
              0.1111111111111111,
              "#46039f"
             ],
             [
              0.2222222222222222,
              "#7201a8"
             ],
             [
              0.3333333333333333,
              "#9c179e"
             ],
             [
              0.4444444444444444,
              "#bd3786"
             ],
             [
              0.5555555555555556,
              "#d8576b"
             ],
             [
              0.6666666666666666,
              "#ed7953"
             ],
             [
              0.7777777777777778,
              "#fb9f3a"
             ],
             [
              0.8888888888888888,
              "#fdca26"
             ],
             [
              1,
              "#f0f921"
             ]
            ],
            "type": "histogram2d"
           }
          ],
          "histogram2dcontour": [
           {
            "colorbar": {
             "outlinewidth": 0,
             "ticks": ""
            },
            "colorscale": [
             [
              0,
              "#0d0887"
             ],
             [
              0.1111111111111111,
              "#46039f"
             ],
             [
              0.2222222222222222,
              "#7201a8"
             ],
             [
              0.3333333333333333,
              "#9c179e"
             ],
             [
              0.4444444444444444,
              "#bd3786"
             ],
             [
              0.5555555555555556,
              "#d8576b"
             ],
             [
              0.6666666666666666,
              "#ed7953"
             ],
             [
              0.7777777777777778,
              "#fb9f3a"
             ],
             [
              0.8888888888888888,
              "#fdca26"
             ],
             [
              1,
              "#f0f921"
             ]
            ],
            "type": "histogram2dcontour"
           }
          ],
          "mesh3d": [
           {
            "colorbar": {
             "outlinewidth": 0,
             "ticks": ""
            },
            "type": "mesh3d"
           }
          ],
          "parcoords": [
           {
            "line": {
             "colorbar": {
              "outlinewidth": 0,
              "ticks": ""
             }
            },
            "type": "parcoords"
           }
          ],
          "pie": [
           {
            "automargin": true,
            "type": "pie"
           }
          ],
          "scatter": [
           {
            "fillpattern": {
             "fillmode": "overlay",
             "size": 10,
             "solidity": 0.2
            },
            "type": "scatter"
           }
          ],
          "scatter3d": [
           {
            "line": {
             "colorbar": {
              "outlinewidth": 0,
              "ticks": ""
             }
            },
            "marker": {
             "colorbar": {
              "outlinewidth": 0,
              "ticks": ""
             }
            },
            "type": "scatter3d"
           }
          ],
          "scattercarpet": [
           {
            "marker": {
             "colorbar": {
              "outlinewidth": 0,
              "ticks": ""
             }
            },
            "type": "scattercarpet"
           }
          ],
          "scattergeo": [
           {
            "marker": {
             "colorbar": {
              "outlinewidth": 0,
              "ticks": ""
             }
            },
            "type": "scattergeo"
           }
          ],
          "scattergl": [
           {
            "marker": {
             "colorbar": {
              "outlinewidth": 0,
              "ticks": ""
             }
            },
            "type": "scattergl"
           }
          ],
          "scattermapbox": [
           {
            "marker": {
             "colorbar": {
              "outlinewidth": 0,
              "ticks": ""
             }
            },
            "type": "scattermapbox"
           }
          ],
          "scatterpolar": [
           {
            "marker": {
             "colorbar": {
              "outlinewidth": 0,
              "ticks": ""
             }
            },
            "type": "scatterpolar"
           }
          ],
          "scatterpolargl": [
           {
            "marker": {
             "colorbar": {
              "outlinewidth": 0,
              "ticks": ""
             }
            },
            "type": "scatterpolargl"
           }
          ],
          "scatterternary": [
           {
            "marker": {
             "colorbar": {
              "outlinewidth": 0,
              "ticks": ""
             }
            },
            "type": "scatterternary"
           }
          ],
          "surface": [
           {
            "colorbar": {
             "outlinewidth": 0,
             "ticks": ""
            },
            "colorscale": [
             [
              0,
              "#0d0887"
             ],
             [
              0.1111111111111111,
              "#46039f"
             ],
             [
              0.2222222222222222,
              "#7201a8"
             ],
             [
              0.3333333333333333,
              "#9c179e"
             ],
             [
              0.4444444444444444,
              "#bd3786"
             ],
             [
              0.5555555555555556,
              "#d8576b"
             ],
             [
              0.6666666666666666,
              "#ed7953"
             ],
             [
              0.7777777777777778,
              "#fb9f3a"
             ],
             [
              0.8888888888888888,
              "#fdca26"
             ],
             [
              1,
              "#f0f921"
             ]
            ],
            "type": "surface"
           }
          ],
          "table": [
           {
            "cells": {
             "fill": {
              "color": "#EBF0F8"
             },
             "line": {
              "color": "white"
             }
            },
            "header": {
             "fill": {
              "color": "#C8D4E3"
             },
             "line": {
              "color": "white"
             }
            },
            "type": "table"
           }
          ]
         },
         "layout": {
          "annotationdefaults": {
           "arrowcolor": "#2a3f5f",
           "arrowhead": 0,
           "arrowwidth": 1
          },
          "autotypenumbers": "strict",
          "coloraxis": {
           "colorbar": {
            "outlinewidth": 0,
            "ticks": ""
           }
          },
          "colorscale": {
           "diverging": [
            [
             0,
             "#8e0152"
            ],
            [
             0.1,
             "#c51b7d"
            ],
            [
             0.2,
             "#de77ae"
            ],
            [
             0.3,
             "#f1b6da"
            ],
            [
             0.4,
             "#fde0ef"
            ],
            [
             0.5,
             "#f7f7f7"
            ],
            [
             0.6,
             "#e6f5d0"
            ],
            [
             0.7,
             "#b8e186"
            ],
            [
             0.8,
             "#7fbc41"
            ],
            [
             0.9,
             "#4d9221"
            ],
            [
             1,
             "#276419"
            ]
           ],
           "sequential": [
            [
             0,
             "#0d0887"
            ],
            [
             0.1111111111111111,
             "#46039f"
            ],
            [
             0.2222222222222222,
             "#7201a8"
            ],
            [
             0.3333333333333333,
             "#9c179e"
            ],
            [
             0.4444444444444444,
             "#bd3786"
            ],
            [
             0.5555555555555556,
             "#d8576b"
            ],
            [
             0.6666666666666666,
             "#ed7953"
            ],
            [
             0.7777777777777778,
             "#fb9f3a"
            ],
            [
             0.8888888888888888,
             "#fdca26"
            ],
            [
             1,
             "#f0f921"
            ]
           ],
           "sequentialminus": [
            [
             0,
             "#0d0887"
            ],
            [
             0.1111111111111111,
             "#46039f"
            ],
            [
             0.2222222222222222,
             "#7201a8"
            ],
            [
             0.3333333333333333,
             "#9c179e"
            ],
            [
             0.4444444444444444,
             "#bd3786"
            ],
            [
             0.5555555555555556,
             "#d8576b"
            ],
            [
             0.6666666666666666,
             "#ed7953"
            ],
            [
             0.7777777777777778,
             "#fb9f3a"
            ],
            [
             0.8888888888888888,
             "#fdca26"
            ],
            [
             1,
             "#f0f921"
            ]
           ]
          },
          "colorway": [
           "#636efa",
           "#EF553B",
           "#00cc96",
           "#ab63fa",
           "#FFA15A",
           "#19d3f3",
           "#FF6692",
           "#B6E880",
           "#FF97FF",
           "#FECB52"
          ],
          "font": {
           "color": "#2a3f5f"
          },
          "geo": {
           "bgcolor": "white",
           "lakecolor": "white",
           "landcolor": "#E5ECF6",
           "showlakes": true,
           "showland": true,
           "subunitcolor": "white"
          },
          "hoverlabel": {
           "align": "left"
          },
          "hovermode": "closest",
          "mapbox": {
           "style": "light"
          },
          "paper_bgcolor": "white",
          "plot_bgcolor": "#E5ECF6",
          "polar": {
           "angularaxis": {
            "gridcolor": "white",
            "linecolor": "white",
            "ticks": ""
           },
           "bgcolor": "#E5ECF6",
           "radialaxis": {
            "gridcolor": "white",
            "linecolor": "white",
            "ticks": ""
           }
          },
          "scene": {
           "xaxis": {
            "backgroundcolor": "#E5ECF6",
            "gridcolor": "white",
            "gridwidth": 2,
            "linecolor": "white",
            "showbackground": true,
            "ticks": "",
            "zerolinecolor": "white"
           },
           "yaxis": {
            "backgroundcolor": "#E5ECF6",
            "gridcolor": "white",
            "gridwidth": 2,
            "linecolor": "white",
            "showbackground": true,
            "ticks": "",
            "zerolinecolor": "white"
           },
           "zaxis": {
            "backgroundcolor": "#E5ECF6",
            "gridcolor": "white",
            "gridwidth": 2,
            "linecolor": "white",
            "showbackground": true,
            "ticks": "",
            "zerolinecolor": "white"
           }
          },
          "shapedefaults": {
           "line": {
            "color": "#2a3f5f"
           }
          },
          "ternary": {
           "aaxis": {
            "gridcolor": "white",
            "linecolor": "white",
            "ticks": ""
           },
           "baxis": {
            "gridcolor": "white",
            "linecolor": "white",
            "ticks": ""
           },
           "bgcolor": "#E5ECF6",
           "caxis": {
            "gridcolor": "white",
            "linecolor": "white",
            "ticks": ""
           }
          },
          "title": {
           "x": 0.05
          },
          "xaxis": {
           "automargin": true,
           "gridcolor": "white",
           "linecolor": "white",
           "ticks": "",
           "title": {
            "standoff": 15
           },
           "zerolinecolor": "white",
           "zerolinewidth": 2
          },
          "yaxis": {
           "automargin": true,
           "gridcolor": "white",
           "linecolor": "white",
           "ticks": "",
           "title": {
            "standoff": 15
           },
           "zerolinecolor": "white",
           "zerolinewidth": 2
          }
         }
        },
        "title": {
         "text": "<b>Principle component analysis (pareto)<b>",
         "x": 0.5,
         "xanchor": "center",
         "y": 0.95,
         "yanchor": "top"
        },
        "width": 1300,
        "xaxis": {
         "anchor": "y",
         "domain": [
          0,
          1
         ],
         "linecolor": "black",
         "linewidth": 2,
         "showline": true,
         "tickformat": ".1e",
         "title": {
          "text": "PC1 R<sup>2</sup>X: 36.18 %"
         },
         "zeroline": true,
         "zerolinecolor": "Black",
         "zerolinewidth": 2
        },
        "yaxis": {
         "anchor": "x",
         "domain": [
          0,
          1
         ],
         "linecolor": "black",
         "linewidth": 2,
         "showline": true,
         "tickformat": ".1e",
         "title": {
          "text": "PC2 R<sup>2</sup>X: 10.06 %"
         },
         "zeroline": true,
         "zerolinecolor": "Black",
         "zerolinewidth": 2
        }
       }
      }
     },
     "metadata": {},
     "output_type": "display_data"
    }
   ],
   "source": [
    "pca_.plot_pca_trajectory(time_=data['Time point'])"
   ]
  },
  {
   "cell_type": "code",
   "execution_count": null,
   "metadata": {},
   "outputs": [],
   "source": [
    "r2 =pca_.get_explained_variance()"
   ]
  },
  {
   "cell_type": "code",
   "execution_count": null,
   "metadata": {},
   "outputs": [],
   "source": []
  },
  {
   "cell_type": "code",
   "execution_count": 6,
   "metadata": {},
   "outputs": [],
   "source": [
    "label_dict = dict(zip(['A', 'B', 'C'], data['Group'].unique() ))\n"
   ]
  },
  {
   "cell_type": "code",
   "execution_count": 14,
   "metadata": {},
   "outputs": [
    {
     "ename": "KeyError",
     "evalue": "1",
     "output_type": "error",
     "traceback": [
      "\u001b[0;31m---------------------------------------------------------------------------\u001b[0m",
      "\u001b[0;31mKeyError\u001b[0m                                  Traceback (most recent call last)",
      "Cell \u001b[0;32mIn[14], line 1\u001b[0m\n\u001b[0;32m----> 1\u001b[0m \u001b[43mlabel_dict\u001b[49m\u001b[43m[\u001b[49m\u001b[38;5;241;43m1\u001b[39;49m\u001b[43m]\u001b[49m\n",
      "\u001b[0;31mKeyError\u001b[0m: 1"
     ]
    }
   ],
   "source": [
    "label_dict[1]"
   ]
  },
  {
   "cell_type": "code",
   "execution_count": null,
   "metadata": {},
   "outputs": [],
   "source": [
    "import numpy as np"
   ]
  },
  {
   "cell_type": "code",
   "execution_count": null,
   "metadata": {},
   "outputs": [],
   "source": [
    "np.round(r2.loc[r2.loc[r2['PC']=='PC1'].index, 'Explained variance'].values[0]*100, decimals=2)"
   ]
  },
  {
   "cell_type": "code",
   "execution_count": null,
   "metadata": {},
   "outputs": [],
   "source": [
    "pca_.fit()"
   ]
  },
  {
   "cell_type": "code",
   "execution_count": null,
   "metadata": {},
   "outputs": [],
   "source": [
    "pca_.plot_pca_scores()"
   ]
  },
  {
   "cell_type": "code",
   "execution_count": null,
   "metadata": {},
   "outputs": [],
   "source": [
    "pca_.plot_observe_variance()"
   ]
  },
  {
   "cell_type": "code",
   "execution_count": null,
   "metadata": {},
   "outputs": [],
   "source": [
    "pca_.plot_cumulative_observed()"
   ]
  },
  {
   "cell_type": "code",
   "execution_count": null,
   "metadata": {},
   "outputs": [],
   "source": [
    "pca_.plot_pca_scores()"
   ]
  }
 ],
 "metadata": {
  "kernelspec": {
   "display_name": "aeiwz",
   "language": "python",
   "name": "python3"
  },
  "language_info": {
   "codemirror_mode": {
    "name": "ipython",
    "version": 3
   },
   "file_extension": ".py",
   "mimetype": "text/x-python",
   "name": "python",
   "nbconvert_exporter": "python",
   "pygments_lexer": "ipython3",
   "version": "3.11.7"
  }
 },
 "nbformat": 4,
 "nbformat_minor": 2
}
