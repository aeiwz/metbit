{
 "cells": [
  {
   "cell_type": "code",
   "execution_count": null,
   "metadata": {},
   "outputs": [],
   "source": [
    "\n",
    "# Import necessary libraries\n",
    "import numpy as np\n",
    "import pandas as pd\n",
    "\n",
    "import os"
   ]
  },
  {
   "cell_type": "code",
   "execution_count": null,
   "metadata": {},
   "outputs": [],
   "source": [
    "data = pd.read_csv('/Volumes/CAS9/Aeiwz/Documents/Thesis/Analyse/Dataset/U_noesy_pqn.csv')\n",
    "#data.drop(data.loc[data['Group'] == 'CR + INT777 (L)'].index, inplace=True)\n",
    "\n",
    "#data.reset_index(drop=True, inplace=True)\n",
    "X = data.iloc[:, 14:5000]\n",
    "ppm = list(X.columns.astype(float))\n",
    "Y = data['Group']"
   ]
  },
  {
   "cell_type": "code",
   "execution_count": null,
   "metadata": {},
   "outputs": [],
   "source": [
    "from metbit import opls_da, pca\n"
   ]
  },
  {
   "cell_type": "code",
   "execution_count": null,
   "metadata": {},
   "outputs": [],
   "source": [
    "op = opls_da(X=X, y=Y, features_name=ppm, n_components=2, scale='pareto', kfold=3, estimator='opls', random_state=14)"
   ]
  },
  {
   "cell_type": "code",
   "execution_count": null,
   "metadata": {},
   "outputs": [],
   "source": [
    "op.fit()"
   ]
  },
  {
   "cell_type": "markdown",
   "metadata": {},
   "source": []
  },
  {
   "cell_type": "code",
   "execution_count": null,
   "metadata": {},
   "outputs": [],
   "source": [
    "op.permutation_test(n_permutations=10)"
   ]
  },
  {
   "cell_type": "code",
   "execution_count": null,
   "metadata": {},
   "outputs": [],
   "source": [
    "op.vip_scores()"
   ]
  },
  {
   "cell_type": "code",
   "execution_count": null,
   "metadata": {},
   "outputs": [],
   "source": [
    "op.vip_plot()"
   ]
  },
  {
   "cell_type": "code",
   "execution_count": null,
   "metadata": {},
   "outputs": [],
   "source": [
    "op.plot_oplsda_scores()"
   ]
  },
  {
   "cell_type": "code",
   "execution_count": null,
   "metadata": {},
   "outputs": [],
   "source": [
    "op.plot_hist()\n"
   ]
  },
  {
   "cell_type": "code",
   "execution_count": null,
   "metadata": {},
   "outputs": [],
   "source": [
    "op.plot_s_scores()"
   ]
  },
  {
   "cell_type": "code",
   "execution_count": null,
   "metadata": {},
   "outputs": [],
   "source": [
    "op.plot_loading()"
   ]
  },
  {
   "cell_type": "code",
   "execution_count": 5,
   "metadata": {},
   "outputs": [],
   "source": [
    "time_ = {'1-wk pre-op': 0,\n",
    "         '1-wk post-op': 1,\n",
    "         '2-wk post-op': 2,\n",
    "         '4-wk post-op': 4,}\n",
    "\n",
    "colour_dict = {\n",
    "                \"sham ad libitum\": \"#F55D4D\",        \n",
    "                \"CR + INT777 (H)\": \"#58E6BE\",\n",
    "                \"CR + INT777 (L)\": \"#4E8BF5\",       \n",
    "                }"
   ]
  },
  {
   "cell_type": "code",
   "execution_count": 6,
   "metadata": {},
   "outputs": [
    {
     "data": {
      "application/vnd.plotly.v1+json": {
       "config": {
        "plotlyServerURL": "https://plot.ly"
       },
       "data": [
        {
         "error_x": {
          "array": [
           2830.4590185543902
          ]
         },
         "error_y": {
          "array": [
           1915.9770047463685
          ]
         },
         "hovertemplate": "Group=CR + INT777 (H)<br>Time point=1-wk pre-op<br>PC1 R<sup>2</sup>X: 42.83 %=%{x}<br>PC2 R<sup>2</sup>X: 9.65 %=%{y}<extra></extra>",
         "legendgroup": "CR + INT777 (H), 1-wk pre-op",
         "line": {
          "color": "#F55D4D",
          "dash": "solid"
         },
         "marker": {
          "line": {
           "color": "DarkSlateGrey",
           "width": 2
          },
          "opacity": 0.7,
          "size": 35,
          "symbol": "circle"
         },
         "mode": "lines+markers",
         "name": "CR + INT777 (H), 1-wk pre-op",
         "orientation": "v",
         "showlegend": true,
         "type": "scatter",
         "x": [
          498.0310832434161
         ],
         "xaxis": "x",
         "y": [
          -6415.738821070176
         ],
         "yaxis": "y"
        },
        {
         "error_x": {
          "array": [
           7438.677483063992
          ]
         },
         "error_y": {
          "array": [
           6482.406999573996
          ]
         },
         "hovertemplate": "Group=CR + INT777 (H)<br>Time point=1-wk post-op<br>PC1 R<sup>2</sup>X: 42.83 %=%{x}<br>PC2 R<sup>2</sup>X: 9.65 %=%{y}<extra></extra>",
         "legendgroup": "CR + INT777 (H), 1-wk post-op",
         "line": {
          "color": "#F55D4D",
          "dash": "solid"
         },
         "marker": {
          "line": {
           "color": "DarkSlateGrey",
           "width": 2
          },
          "opacity": 0.7,
          "size": 35,
          "symbol": "diamond"
         },
         "mode": "lines+markers",
         "name": "CR + INT777 (H), 1-wk post-op",
         "orientation": "v",
         "showlegend": true,
         "type": "scatter",
         "x": [
          343.94647171212637
         ],
         "xaxis": "x",
         "y": [
          300.49835845126836
         ],
         "yaxis": "y"
        },
        {
         "error_x": {
          "array": [
           3907.4676944305024
          ]
         },
         "error_y": {
          "array": [
           3756.729001245203
          ]
         },
         "hovertemplate": "Group=CR + INT777 (H)<br>Time point=2-wk post-op<br>PC1 R<sup>2</sup>X: 42.83 %=%{x}<br>PC2 R<sup>2</sup>X: 9.65 %=%{y}<extra></extra>",
         "legendgroup": "CR + INT777 (H), 2-wk post-op",
         "line": {
          "color": "#F55D4D",
          "dash": "solid"
         },
         "marker": {
          "line": {
           "color": "DarkSlateGrey",
           "width": 2
          },
          "opacity": 0.7,
          "size": 35,
          "symbol": "square"
         },
         "mode": "lines+markers",
         "name": "CR + INT777 (H), 2-wk post-op",
         "orientation": "v",
         "showlegend": true,
         "type": "scatter",
         "x": [
          -3433.3650155447303
         ],
         "xaxis": "x",
         "y": [
          -536.9340534013122
         ],
         "yaxis": "y"
        },
        {
         "error_x": {
          "array": [
           1803.6083157087035
          ]
         },
         "error_y": {
          "array": [
           2920.1045991690344
          ]
         },
         "hovertemplate": "Group=CR + INT777 (H)<br>Time point=4-wk post-op<br>PC1 R<sup>2</sup>X: 42.83 %=%{x}<br>PC2 R<sup>2</sup>X: 9.65 %=%{y}<extra></extra>",
         "legendgroup": "CR + INT777 (H), 4-wk post-op",
         "line": {
          "color": "#F55D4D",
          "dash": "solid"
         },
         "marker": {
          "line": {
           "color": "DarkSlateGrey",
           "width": 2
          },
          "opacity": 0.7,
          "size": 35,
          "symbol": "x"
         },
         "mode": "lines+markers",
         "name": "CR + INT777 (H), 4-wk post-op",
         "orientation": "v",
         "showlegend": true,
         "type": "scatter",
         "x": [
          -7194.391789892533
         ],
         "xaxis": "x",
         "y": [
          885.9703575606793
         ],
         "yaxis": "y"
        },
        {
         "error_x": {
          "array": [
           3013.139744790688
          ]
         },
         "error_y": {
          "array": [
           1714.4512262454723
          ]
         },
         "hovertemplate": "Group=sham ad libitum<br>Time point=1-wk pre-op<br>PC1 R<sup>2</sup>X: 42.83 %=%{x}<br>PC2 R<sup>2</sup>X: 9.65 %=%{y}<extra></extra>",
         "legendgroup": "sham ad libitum, 1-wk pre-op",
         "line": {
          "color": "#58E6BE",
          "dash": "solid"
         },
         "marker": {
          "line": {
           "color": "DarkSlateGrey",
           "width": 2
          },
          "opacity": 0.7,
          "size": 35,
          "symbol": "circle"
         },
         "mode": "lines+markers",
         "name": "sham ad libitum, 1-wk pre-op",
         "orientation": "v",
         "showlegend": true,
         "type": "scatter",
         "x": [
          -1937.355784308994
         ],
         "xaxis": "x",
         "y": [
          -422.14403656645356
         ],
         "yaxis": "y"
        },
        {
         "error_x": {
          "array": [
           2969.706879644388
          ]
         },
         "error_y": {
          "array": [
           3529.285077748532
          ]
         },
         "hovertemplate": "Group=sham ad libitum<br>Time point=1-wk post-op<br>PC1 R<sup>2</sup>X: 42.83 %=%{x}<br>PC2 R<sup>2</sup>X: 9.65 %=%{y}<extra></extra>",
         "legendgroup": "sham ad libitum, 1-wk post-op",
         "line": {
          "color": "#58E6BE",
          "dash": "solid"
         },
         "marker": {
          "line": {
           "color": "DarkSlateGrey",
           "width": 2
          },
          "opacity": 0.7,
          "size": 35,
          "symbol": "diamond"
         },
         "mode": "lines+markers",
         "name": "sham ad libitum, 1-wk post-op",
         "orientation": "v",
         "showlegend": true,
         "type": "scatter",
         "x": [
          3371.0112398692304
         ],
         "xaxis": "x",
         "y": [
          1931.3705397452607
         ],
         "yaxis": "y"
        },
        {
         "error_x": {
          "array": [
           14617.92232433748
          ]
         },
         "error_y": {
          "array": [
           2601.4398385958966
          ]
         },
         "hovertemplate": "Group=sham ad libitum<br>Time point=2-wk post-op<br>PC1 R<sup>2</sup>X: 42.83 %=%{x}<br>PC2 R<sup>2</sup>X: 9.65 %=%{y}<extra></extra>",
         "legendgroup": "sham ad libitum, 2-wk post-op",
         "line": {
          "color": "#58E6BE",
          "dash": "solid"
         },
         "marker": {
          "line": {
           "color": "DarkSlateGrey",
           "width": 2
          },
          "opacity": 0.7,
          "size": 35,
          "symbol": "square"
         },
         "mode": "lines+markers",
         "name": "sham ad libitum, 2-wk post-op",
         "orientation": "v",
         "showlegend": true,
         "type": "scatter",
         "x": [
          12329.344865589952
         ],
         "xaxis": "x",
         "y": [
          5234.257073689343
         ],
         "yaxis": "y"
        },
        {
         "error_x": {
          "array": [
           10374.09545036167
          ]
         },
         "error_y": {
          "array": [
           2661.4918844523195
          ]
         },
         "hovertemplate": "Group=sham ad libitum<br>Time point=4-wk post-op<br>PC1 R<sup>2</sup>X: 42.83 %=%{x}<br>PC2 R<sup>2</sup>X: 9.65 %=%{y}<extra></extra>",
         "legendgroup": "sham ad libitum, 4-wk post-op",
         "line": {
          "color": "#58E6BE",
          "dash": "solid"
         },
         "marker": {
          "line": {
           "color": "DarkSlateGrey",
           "width": 2
          },
          "opacity": 0.7,
          "size": 35,
          "symbol": "x"
         },
         "mode": "lines+markers",
         "name": "sham ad libitum, 4-wk post-op",
         "orientation": "v",
         "showlegend": true,
         "type": "scatter",
         "x": [
          -2147.832803607178
         ],
         "xaxis": "x",
         "y": [
          -1048.3473228608386
         ],
         "yaxis": "y"
        },
        {
         "line": {
          "color": "#F55D4D",
          "width": 2
         },
         "marker": {
          "line": {
           "color": "DarkSlateGrey",
           "width": 2
          },
          "opacity": 0.7,
          "size": 35
         },
         "mode": "lines",
         "showlegend": false,
         "type": "scatter",
         "x": [
          498.0310832434161,
          343.94647171212637,
          -3433.3650155447303,
          -7194.391789892533
         ],
         "y": [
          -6415.738821070176,
          300.49835845126836,
          -536.9340534013122,
          885.9703575606793
         ]
        },
        {
         "line": {
          "color": "#58E6BE",
          "width": 2
         },
         "marker": {
          "line": {
           "color": "DarkSlateGrey",
           "width": 2
          },
          "opacity": 0.7,
          "size": 35
         },
         "mode": "lines",
         "showlegend": false,
         "type": "scatter",
         "x": [
          -1937.355784308994,
          3371.0112398692304,
          12329.344865589952,
          -2147.832803607178
         ],
         "y": [
          -422.14403656645356,
          1931.3705397452607,
          5234.257073689343,
          -1048.3473228608386
         ]
        }
       ],
       "layout": {
        "annotations": [
         {
          "align": "left",
          "font": {
           "color": "black",
           "size": 20
          },
          "showarrow": false,
          "text": "<b>R<sup>2</sup>X (Cum): 52.49%<b>",
          "textangle": 0,
          "x": 1,
          "xref": "paper",
          "y": 0.05,
          "yref": "paper"
         },
         {
          "align": "left",
          "font": {
           "color": "black",
           "size": 20
          },
          "showarrow": false,
          "text": "<b>Q<sup>2</sup>X (Cum): 58.9%<b>",
          "textangle": 0,
          "x": 1,
          "xref": "paper",
          "y": 0.01,
          "yref": "paper"
         }
        ],
        "font": {
         "size": 20
        },
        "height": 900,
        "legend": {
         "title": {
          "text": "Group, Time point"
         },
         "tracegroupgap": 0
        },
        "paper_bgcolor": "rgba(0,0,0,0)",
        "plot_bgcolor": "rgba(0,0,0,0)",
        "shapes": [
         {
          "path": "M 10073.928835364139, 5540.1712835490425L9694.377169092157, 5731.752883520707L9276.710455140292, 5900.218966945865L8822.61048995276, 6044.89118036562L8333.905773817616, 6165.186979837686L7812.564148141455, 6260.621976635241L7260.684871646593, 6330.811887709368L6680.490167397132, 6375.474083061267L6074.316274690969, 6394.428723793497L5444.604041848741, 6387.599486257751L4793.889097779088, 6355.013869383249L4124.7916418959985, 6296.803083948254L3440.005893500535, 6213.201524240581L2742.2892431106225, 6104.545824234521L2034.4511494226379, 5971.273502084646L1319.341826612816, 5813.921198394618L599.8407675307362, 5633.122515354884L-121.1548510020965, 5429.605465450273L-840.7418341007603, 5204.189540010679L-1556.0226589580575, 4957.782409408698L-2264.1171421461995, 4691.376268191407L-2962.174037098922, 4406.043839863097L-3647.382515075084, 4102.934057406345L-4316.983483373934, 3783.2674369343945L-4968.280695227629, 3448.3311631035444L-5598.651606635318, 3099.473906074842L-6205.557936422252, 2738.100390895346L-6786.555887002187, 2365.665741166154L-7339.305984687741, 1983.6696197732367L-7861.582499925238, 1593.6501902742916L-8351.28240952206, 1197.1779232569847L-8806.433864778792, 795.8492726081774L-9225.204131427985, 391.280247157588L-9605.906969408199, -14.900096419413487L-9947.009422757576, -421.05621323805985L-10247.137992286473, -825.5526559661979L-10505.084166173903, -1226.760660193455L-10719.809286218111, -1623.0647028906774L-10890.448730146574, -2012.869007550963L-11016.315393144727, -2394.6039698184472L-11096.902454584524, -2766.7324777310537L-11131.885418812246, -3127.7561011278576L-11121.123421777975, -3476.221125298476L-11064.659798245386, -3810.7244045791385L-10962.721907297957, -4129.919012325021L-10815.72021684419, -4432.519664508486L-10624.246650808218, -4717.3078951042025L-10389.072205661058, -4983.136962421794L-10111.143845889968, -5228.936466629885L-9791.58069090666, -5453.716659878431L-9431.66950874843, -5656.572431663991L-9032.85953471742, -5836.6869533902645L-8596.756635821555, -5993.334967448558L-8125.116844514891, -6125.885707574198L-7619.839287774692, -6233.805438719658L-7082.95853998739, -6316.659606217213L-6516.636430435604, -6374.114585577209L-5923.153338374643, -6405.939025876141L-5304.899010750073, -6412.004781325165L-4664.362939530234, -6392.287427267958L-4004.1243374007036, -6346.86635853019L-3326.8417521851666, -6275.924469724586L-2635.2423618116086, -6179.747418798868L-1932.1109929293766, -6058.7224767920225L-1220.2789073951164, -5913.336968430512L-502.6124017805844, -5744.1763098436L217.9987341920459, -5551.921651299213L938.652853813404, -5337.34713445223L1656.4481372941636, -5101.316775149254L2368.494276369123, -4844.780984341751L3071.924112548482, -4568.7727411165915L3763.905182153106, -4274.403433253862L4441.651121646113, -3962.858382060508L5102.43288733537, -3635.3920694998L5743.589744269264, -3293.323086835223L6362.53998007722, -2938.028825128858L6956.791300614278, -2570.939928973698L7523.9508655499385, -2193.5345357928204L8061.734923491642, -1807.3323239016777L8567.978007845577, -1413.8883932999024L9040.641656386404, -1014.787003832438L9477.82261942514, -611.6351959343162L9877.76052352391, -206.05631964603631L10238.84495989851, 200.31650204413307L10559.621968966163, 605.8469492099991L10838.7998949276, 1008.9020938702768L11075.254586809075, 1407.858975213208L11268.033925021598, 1801.1111346869761L11416.361655210454, 2187.07508464128L11519.640513957522, 2564.1966844732306L11577.454633750254, 2930.957398603012L11589.571217533376, 3285.880411080737L11555.941476100466, 3627.5365722030238L11476.700824550873, 3954.5501531944524L11352.168337020888, 4265.604385781766L11182.845461884834, 4559.446764354991L10969.414002599417, 4834.894089365454L10712.73337232189, 5090.837231652749L10413.837133356548, 5326.245598516427L10073.928835364139, 5540.171283549042 Z",
          "type": "path"
         }
        ],
        "template": {
         "data": {
          "bar": [
           {
            "error_x": {
             "color": "#2a3f5f"
            },
            "error_y": {
             "color": "#2a3f5f"
            },
            "marker": {
             "line": {
              "color": "#E5ECF6",
              "width": 0.5
             },
             "pattern": {
              "fillmode": "overlay",
              "size": 10,
              "solidity": 0.2
             }
            },
            "type": "bar"
           }
          ],
          "barpolar": [
           {
            "marker": {
             "line": {
              "color": "#E5ECF6",
              "width": 0.5
             },
             "pattern": {
              "fillmode": "overlay",
              "size": 10,
              "solidity": 0.2
             }
            },
            "type": "barpolar"
           }
          ],
          "carpet": [
           {
            "aaxis": {
             "endlinecolor": "#2a3f5f",
             "gridcolor": "white",
             "linecolor": "white",
             "minorgridcolor": "white",
             "startlinecolor": "#2a3f5f"
            },
            "baxis": {
             "endlinecolor": "#2a3f5f",
             "gridcolor": "white",
             "linecolor": "white",
             "minorgridcolor": "white",
             "startlinecolor": "#2a3f5f"
            },
            "type": "carpet"
           }
          ],
          "choropleth": [
           {
            "colorbar": {
             "outlinewidth": 0,
             "ticks": ""
            },
            "type": "choropleth"
           }
          ],
          "contour": [
           {
            "colorbar": {
             "outlinewidth": 0,
             "ticks": ""
            },
            "colorscale": [
             [
              0,
              "#0d0887"
             ],
             [
              0.1111111111111111,
              "#46039f"
             ],
             [
              0.2222222222222222,
              "#7201a8"
             ],
             [
              0.3333333333333333,
              "#9c179e"
             ],
             [
              0.4444444444444444,
              "#bd3786"
             ],
             [
              0.5555555555555556,
              "#d8576b"
             ],
             [
              0.6666666666666666,
              "#ed7953"
             ],
             [
              0.7777777777777778,
              "#fb9f3a"
             ],
             [
              0.8888888888888888,
              "#fdca26"
             ],
             [
              1,
              "#f0f921"
             ]
            ],
            "type": "contour"
           }
          ],
          "contourcarpet": [
           {
            "colorbar": {
             "outlinewidth": 0,
             "ticks": ""
            },
            "type": "contourcarpet"
           }
          ],
          "heatmap": [
           {
            "colorbar": {
             "outlinewidth": 0,
             "ticks": ""
            },
            "colorscale": [
             [
              0,
              "#0d0887"
             ],
             [
              0.1111111111111111,
              "#46039f"
             ],
             [
              0.2222222222222222,
              "#7201a8"
             ],
             [
              0.3333333333333333,
              "#9c179e"
             ],
             [
              0.4444444444444444,
              "#bd3786"
             ],
             [
              0.5555555555555556,
              "#d8576b"
             ],
             [
              0.6666666666666666,
              "#ed7953"
             ],
             [
              0.7777777777777778,
              "#fb9f3a"
             ],
             [
              0.8888888888888888,
              "#fdca26"
             ],
             [
              1,
              "#f0f921"
             ]
            ],
            "type": "heatmap"
           }
          ],
          "heatmapgl": [
           {
            "colorbar": {
             "outlinewidth": 0,
             "ticks": ""
            },
            "colorscale": [
             [
              0,
              "#0d0887"
             ],
             [
              0.1111111111111111,
              "#46039f"
             ],
             [
              0.2222222222222222,
              "#7201a8"
             ],
             [
              0.3333333333333333,
              "#9c179e"
             ],
             [
              0.4444444444444444,
              "#bd3786"
             ],
             [
              0.5555555555555556,
              "#d8576b"
             ],
             [
              0.6666666666666666,
              "#ed7953"
             ],
             [
              0.7777777777777778,
              "#fb9f3a"
             ],
             [
              0.8888888888888888,
              "#fdca26"
             ],
             [
              1,
              "#f0f921"
             ]
            ],
            "type": "heatmapgl"
           }
          ],
          "histogram": [
           {
            "marker": {
             "pattern": {
              "fillmode": "overlay",
              "size": 10,
              "solidity": 0.2
             }
            },
            "type": "histogram"
           }
          ],
          "histogram2d": [
           {
            "colorbar": {
             "outlinewidth": 0,
             "ticks": ""
            },
            "colorscale": [
             [
              0,
              "#0d0887"
             ],
             [
              0.1111111111111111,
              "#46039f"
             ],
             [
              0.2222222222222222,
              "#7201a8"
             ],
             [
              0.3333333333333333,
              "#9c179e"
             ],
             [
              0.4444444444444444,
              "#bd3786"
             ],
             [
              0.5555555555555556,
              "#d8576b"
             ],
             [
              0.6666666666666666,
              "#ed7953"
             ],
             [
              0.7777777777777778,
              "#fb9f3a"
             ],
             [
              0.8888888888888888,
              "#fdca26"
             ],
             [
              1,
              "#f0f921"
             ]
            ],
            "type": "histogram2d"
           }
          ],
          "histogram2dcontour": [
           {
            "colorbar": {
             "outlinewidth": 0,
             "ticks": ""
            },
            "colorscale": [
             [
              0,
              "#0d0887"
             ],
             [
              0.1111111111111111,
              "#46039f"
             ],
             [
              0.2222222222222222,
              "#7201a8"
             ],
             [
              0.3333333333333333,
              "#9c179e"
             ],
             [
              0.4444444444444444,
              "#bd3786"
             ],
             [
              0.5555555555555556,
              "#d8576b"
             ],
             [
              0.6666666666666666,
              "#ed7953"
             ],
             [
              0.7777777777777778,
              "#fb9f3a"
             ],
             [
              0.8888888888888888,
              "#fdca26"
             ],
             [
              1,
              "#f0f921"
             ]
            ],
            "type": "histogram2dcontour"
           }
          ],
          "mesh3d": [
           {
            "colorbar": {
             "outlinewidth": 0,
             "ticks": ""
            },
            "type": "mesh3d"
           }
          ],
          "parcoords": [
           {
            "line": {
             "colorbar": {
              "outlinewidth": 0,
              "ticks": ""
             }
            },
            "type": "parcoords"
           }
          ],
          "pie": [
           {
            "automargin": true,
            "type": "pie"
           }
          ],
          "scatter": [
           {
            "fillpattern": {
             "fillmode": "overlay",
             "size": 10,
             "solidity": 0.2
            },
            "type": "scatter"
           }
          ],
          "scatter3d": [
           {
            "line": {
             "colorbar": {
              "outlinewidth": 0,
              "ticks": ""
             }
            },
            "marker": {
             "colorbar": {
              "outlinewidth": 0,
              "ticks": ""
             }
            },
            "type": "scatter3d"
           }
          ],
          "scattercarpet": [
           {
            "marker": {
             "colorbar": {
              "outlinewidth": 0,
              "ticks": ""
             }
            },
            "type": "scattercarpet"
           }
          ],
          "scattergeo": [
           {
            "marker": {
             "colorbar": {
              "outlinewidth": 0,
              "ticks": ""
             }
            },
            "type": "scattergeo"
           }
          ],
          "scattergl": [
           {
            "marker": {
             "colorbar": {
              "outlinewidth": 0,
              "ticks": ""
             }
            },
            "type": "scattergl"
           }
          ],
          "scattermapbox": [
           {
            "marker": {
             "colorbar": {
              "outlinewidth": 0,
              "ticks": ""
             }
            },
            "type": "scattermapbox"
           }
          ],
          "scatterpolar": [
           {
            "marker": {
             "colorbar": {
              "outlinewidth": 0,
              "ticks": ""
             }
            },
            "type": "scatterpolar"
           }
          ],
          "scatterpolargl": [
           {
            "marker": {
             "colorbar": {
              "outlinewidth": 0,
              "ticks": ""
             }
            },
            "type": "scatterpolargl"
           }
          ],
          "scatterternary": [
           {
            "marker": {
             "colorbar": {
              "outlinewidth": 0,
              "ticks": ""
             }
            },
            "type": "scatterternary"
           }
          ],
          "surface": [
           {
            "colorbar": {
             "outlinewidth": 0,
             "ticks": ""
            },
            "colorscale": [
             [
              0,
              "#0d0887"
             ],
             [
              0.1111111111111111,
              "#46039f"
             ],
             [
              0.2222222222222222,
              "#7201a8"
             ],
             [
              0.3333333333333333,
              "#9c179e"
             ],
             [
              0.4444444444444444,
              "#bd3786"
             ],
             [
              0.5555555555555556,
              "#d8576b"
             ],
             [
              0.6666666666666666,
              "#ed7953"
             ],
             [
              0.7777777777777778,
              "#fb9f3a"
             ],
             [
              0.8888888888888888,
              "#fdca26"
             ],
             [
              1,
              "#f0f921"
             ]
            ],
            "type": "surface"
           }
          ],
          "table": [
           {
            "cells": {
             "fill": {
              "color": "#EBF0F8"
             },
             "line": {
              "color": "white"
             }
            },
            "header": {
             "fill": {
              "color": "#C8D4E3"
             },
             "line": {
              "color": "white"
             }
            },
            "type": "table"
           }
          ]
         },
         "layout": {
          "annotationdefaults": {
           "arrowcolor": "#2a3f5f",
           "arrowhead": 0,
           "arrowwidth": 1
          },
          "autotypenumbers": "strict",
          "coloraxis": {
           "colorbar": {
            "outlinewidth": 0,
            "ticks": ""
           }
          },
          "colorscale": {
           "diverging": [
            [
             0,
             "#8e0152"
            ],
            [
             0.1,
             "#c51b7d"
            ],
            [
             0.2,
             "#de77ae"
            ],
            [
             0.3,
             "#f1b6da"
            ],
            [
             0.4,
             "#fde0ef"
            ],
            [
             0.5,
             "#f7f7f7"
            ],
            [
             0.6,
             "#e6f5d0"
            ],
            [
             0.7,
             "#b8e186"
            ],
            [
             0.8,
             "#7fbc41"
            ],
            [
             0.9,
             "#4d9221"
            ],
            [
             1,
             "#276419"
            ]
           ],
           "sequential": [
            [
             0,
             "#0d0887"
            ],
            [
             0.1111111111111111,
             "#46039f"
            ],
            [
             0.2222222222222222,
             "#7201a8"
            ],
            [
             0.3333333333333333,
             "#9c179e"
            ],
            [
             0.4444444444444444,
             "#bd3786"
            ],
            [
             0.5555555555555556,
             "#d8576b"
            ],
            [
             0.6666666666666666,
             "#ed7953"
            ],
            [
             0.7777777777777778,
             "#fb9f3a"
            ],
            [
             0.8888888888888888,
             "#fdca26"
            ],
            [
             1,
             "#f0f921"
            ]
           ],
           "sequentialminus": [
            [
             0,
             "#0d0887"
            ],
            [
             0.1111111111111111,
             "#46039f"
            ],
            [
             0.2222222222222222,
             "#7201a8"
            ],
            [
             0.3333333333333333,
             "#9c179e"
            ],
            [
             0.4444444444444444,
             "#bd3786"
            ],
            [
             0.5555555555555556,
             "#d8576b"
            ],
            [
             0.6666666666666666,
             "#ed7953"
            ],
            [
             0.7777777777777778,
             "#fb9f3a"
            ],
            [
             0.8888888888888888,
             "#fdca26"
            ],
            [
             1,
             "#f0f921"
            ]
           ]
          },
          "colorway": [
           "#636efa",
           "#EF553B",
           "#00cc96",
           "#ab63fa",
           "#FFA15A",
           "#19d3f3",
           "#FF6692",
           "#B6E880",
           "#FF97FF",
           "#FECB52"
          ],
          "font": {
           "color": "#2a3f5f"
          },
          "geo": {
           "bgcolor": "white",
           "lakecolor": "white",
           "landcolor": "#E5ECF6",
           "showlakes": true,
           "showland": true,
           "subunitcolor": "white"
          },
          "hoverlabel": {
           "align": "left"
          },
          "hovermode": "closest",
          "mapbox": {
           "style": "light"
          },
          "paper_bgcolor": "white",
          "plot_bgcolor": "#E5ECF6",
          "polar": {
           "angularaxis": {
            "gridcolor": "white",
            "linecolor": "white",
            "ticks": ""
           },
           "bgcolor": "#E5ECF6",
           "radialaxis": {
            "gridcolor": "white",
            "linecolor": "white",
            "ticks": ""
           }
          },
          "scene": {
           "xaxis": {
            "backgroundcolor": "#E5ECF6",
            "gridcolor": "white",
            "gridwidth": 2,
            "linecolor": "white",
            "showbackground": true,
            "ticks": "",
            "zerolinecolor": "white"
           },
           "yaxis": {
            "backgroundcolor": "#E5ECF6",
            "gridcolor": "white",
            "gridwidth": 2,
            "linecolor": "white",
            "showbackground": true,
            "ticks": "",
            "zerolinecolor": "white"
           },
           "zaxis": {
            "backgroundcolor": "#E5ECF6",
            "gridcolor": "white",
            "gridwidth": 2,
            "linecolor": "white",
            "showbackground": true,
            "ticks": "",
            "zerolinecolor": "white"
           }
          },
          "shapedefaults": {
           "line": {
            "color": "#2a3f5f"
           }
          },
          "ternary": {
           "aaxis": {
            "gridcolor": "white",
            "linecolor": "white",
            "ticks": ""
           },
           "baxis": {
            "gridcolor": "white",
            "linecolor": "white",
            "ticks": ""
           },
           "bgcolor": "#E5ECF6",
           "caxis": {
            "gridcolor": "white",
            "linecolor": "white",
            "ticks": ""
           }
          },
          "title": {
           "x": 0.05
          },
          "xaxis": {
           "automargin": true,
           "gridcolor": "white",
           "linecolor": "white",
           "ticks": "",
           "title": {
            "standoff": 15
           },
           "zerolinecolor": "white",
           "zerolinewidth": 2
          },
          "yaxis": {
           "automargin": true,
           "gridcolor": "white",
           "linecolor": "white",
           "ticks": "",
           "title": {
            "standoff": 15
           },
           "zerolinecolor": "white",
           "zerolinewidth": 2
          }
         }
        },
        "title": {
         "text": "<b>Principle component analysis (pareto)<b>",
         "x": 0.5,
         "xanchor": "center",
         "y": 0.95,
         "yanchor": "top"
        },
        "width": 1300,
        "xaxis": {
         "anchor": "y",
         "domain": [
          0,
          1
         ],
         "linecolor": "black",
         "linewidth": 2,
         "showline": true,
         "tickformat": ".1e",
         "title": {
          "text": "PC1 R<sup>2</sup>X: 42.83 %"
         },
         "zeroline": true,
         "zerolinecolor": "Black",
         "zerolinewidth": 2
        },
        "yaxis": {
         "anchor": "x",
         "domain": [
          0,
          1
         ],
         "linecolor": "black",
         "linewidth": 2,
         "showline": true,
         "tickformat": ".1e",
         "title": {
          "text": "PC2 R<sup>2</sup>X: 9.65 %"
         },
         "zeroline": true,
         "zerolinecolor": "Black",
         "zerolinewidth": 2
        }
       }
      }
     },
     "metadata": {},
     "output_type": "display_data"
    }
   ],
   "source": [
    "import pandas as pd\n",
    "from metbit import opls_da, pca\n",
    "\n",
    "data = pd.read_csv('/Volumes/CAS9/Aeiwz/Documents/Thesis/Analyse/Dataset/U_noesy_pqn.csv')\n",
    "data.drop(data.loc[data['Group'] == 'CR + INT777 (L)'].index, inplace=True)\n",
    "\n",
    "#data.reset_index(drop=True, inplace=True)\n",
    "X = data.iloc[:, 14:5000]\n",
    "ppm = list(X.columns.astype(float))\n",
    "Y = data['Group']\n",
    "pca_ = pca(X=X,label=Y, features_name=ppm, n_components=2, scale='pareto', random_state=14)\n",
    "pca_.fit()\n",
    "#pca_.plot_pca_scores()\n",
    "\n",
    "pca_.plot_pca_trajectory(time_=data['Time point'],time_in_number=time_, color_dict=colour_dict)"
   ]
  },
  {
   "cell_type": "code",
   "execution_count": null,
   "metadata": {},
   "outputs": [],
   "source": []
  },
  {
   "cell_type": "code",
   "execution_count": null,
   "metadata": {},
   "outputs": [],
   "source": [
    "df_scores_1 = data[['Group', 'Time point']]\n",
    "df_scores_1['PC1'] = pca_.scores_[:, 0]\n",
    "df_scores_1['PC2'] = pca_.scores_[:, 1]"
   ]
  },
  {
   "cell_type": "code",
   "execution_count": null,
   "metadata": {},
   "outputs": [],
   "source": [
    "df_scores_1"
   ]
  },
  {
   "cell_type": "code",
   "execution_count": null,
   "metadata": {},
   "outputs": [],
   "source": [
    "mean_ = df_scores_1.groupby(['Group', 'Time point']).mean()"
   ]
  },
  {
   "cell_type": "code",
   "execution_count": null,
   "metadata": {},
   "outputs": [],
   "source": [
    "mean_.sort_index(level=0, ascending=False)"
   ]
  },
  {
   "cell_type": "code",
   "execution_count": null,
   "metadata": {},
   "outputs": [],
   "source": [
    "mean_.sort_values(by=['Group', 'Time point'], ascending=True, inplace=True)"
   ]
  },
  {
   "cell_type": "code",
   "execution_count": null,
   "metadata": {},
   "outputs": [],
   "source": [
    "mean_.reset_index(inplace=True) "
   ]
  },
  {
   "cell_type": "code",
   "execution_count": null,
   "metadata": {},
   "outputs": [],
   "source": [
    "\n",
    "        for i in range(len(n_group)):\n",
    "            # create a new trace for the connecting line\n",
    "            fig.add_trace(go.Scatter(\n",
    "                x=df_scores_point.loc[i*len(n_group):(i+1)*len(n_group), pc[0]], # x-coordinates of the line\n",
    "                y=df_scores_point.loc[i*len(n_group):(i+1)*len(n_group), pc[1]], # y-coordinates of the line\n",
    "                mode='lines', # specify the trace type as lines\n",
    "                line=dict(color=color_dict[n_group[i]], width=2), # set the color and width of the line\n",
    "                showlegend=False # hide the trace from the legend\n",
    "            ))"
   ]
  },
  {
   "cell_type": "code",
   "execution_count": null,
   "metadata": {},
   "outputs": [],
   "source": [
    "#Get index\n",
    "a = 0\n",
    "b = 3\n",
    "\n",
    "\n",
    "a = [1,3,4,5]\n",
    "\n"
   ]
  },
  {
   "cell_type": "code",
   "execution_count": null,
   "metadata": {},
   "outputs": [],
   "source": [
    "mean_.loc[mean_['Group'] == mean_['Group'].unique()[0]].index"
   ]
  },
  {
   "cell_type": "code",
   "execution_count": null,
   "metadata": {},
   "outputs": [],
   "source": [
    "\n",
    "# what if I wnt to stape up for 0:3 and 4:7 and 8:11 and 12:15\n",
    "indexx1 = []\n",
    "indexx2 = []\n",
    "for i in range(len(n_group)):\n",
    "    indexx1.append(mean_.loc[list(mean_.loc[mean_['Group'] == mean_['Group'].unique()[i]].index), 'PC1'])\n",
    "    #indexx2.append(mean_.loc[, 'PC2'])"
   ]
  },
  {
   "cell_type": "code",
   "execution_count": null,
   "metadata": {},
   "outputs": [],
   "source": [
    "indexx1"
   ]
  },
  {
   "cell_type": "code",
   "execution_count": null,
   "metadata": {},
   "outputs": [],
   "source": []
  },
  {
   "cell_type": "code",
   "execution_count": null,
   "metadata": {},
   "outputs": [],
   "source": [
    "r2 =pca_.get_explained_variance()"
   ]
  },
  {
   "cell_type": "code",
   "execution_count": null,
   "metadata": {},
   "outputs": [],
   "source": [
    "import plotly.express as px"
   ]
  },
  {
   "cell_type": "code",
   "execution_count": null,
   "metadata": {},
   "outputs": [],
   "source": [
    "color_dict = {i: px.colors.qualitative.Plotly[i] for i in range(len(data['Group'].unique()))}\n",
    "\n",
    "#Change {0: '#636EFA', 1: '#EF553B', 2: '#00CC96'} to {'Group1': '#636EFA', 'Group2': '#EF553B', 'Group3': '#00CC96'}\n",
    "color_dict = {data['Group'].unique()[i]: list(color_dict.values())[i] for i in range(len(data['Group'].unique()))}"
   ]
  },
  {
   "cell_type": "code",
   "execution_count": null,
   "metadata": {},
   "outputs": [],
   "source": [
    "color_dict"
   ]
  },
  {
   "cell_type": "code",
   "execution_count": null,
   "metadata": {},
   "outputs": [],
   "source": []
  },
  {
   "cell_type": "code",
   "execution_count": null,
   "metadata": {},
   "outputs": [],
   "source": [
    "label_dict = dict(zip(['A', 'B', 'C'], data['Group'].unique() ))\n"
   ]
  },
  {
   "cell_type": "code",
   "execution_count": null,
   "metadata": {},
   "outputs": [],
   "source": [
    "label_dict[1]"
   ]
  },
  {
   "cell_type": "code",
   "execution_count": null,
   "metadata": {},
   "outputs": [],
   "source": []
  },
  {
   "cell_type": "code",
   "execution_count": null,
   "metadata": {},
   "outputs": [],
   "source": [
    "import numpy as np"
   ]
  },
  {
   "cell_type": "code",
   "execution_count": null,
   "metadata": {},
   "outputs": [],
   "source": [
    "np.round(r2.loc[r2.loc[r2['PC']=='PC1'].index, 'Explained variance'].values[0]*100, decimals=2)"
   ]
  },
  {
   "cell_type": "code",
   "execution_count": null,
   "metadata": {},
   "outputs": [],
   "source": [
    "pca_.fit()"
   ]
  },
  {
   "cell_type": "code",
   "execution_count": null,
   "metadata": {},
   "outputs": [],
   "source": [
    "pca_.plot_pca_scores()"
   ]
  },
  {
   "cell_type": "code",
   "execution_count": null,
   "metadata": {},
   "outputs": [],
   "source": [
    "pca_.plot_observe_variance()"
   ]
  },
  {
   "cell_type": "code",
   "execution_count": null,
   "metadata": {},
   "outputs": [],
   "source": [
    "pca_.plot_cumulative_observed()"
   ]
  },
  {
   "cell_type": "code",
   "execution_count": null,
   "metadata": {},
   "outputs": [],
   "source": [
    "pca_.plot_pca_scores()"
   ]
  },
  {
   "cell_type": "code",
   "execution_count": null,
   "metadata": {},
   "outputs": [],
   "source": [
    "from metbit import opls_da, pca"
   ]
  }
 ],
 "metadata": {
  "kernelspec": {
   "display_name": "aeiwz",
   "language": "python",
   "name": "python3"
  },
  "language_info": {
   "codemirror_mode": {
    "name": "ipython",
    "version": 3
   },
   "file_extension": ".py",
   "mimetype": "text/x-python",
   "name": "python",
   "nbconvert_exporter": "python",
   "pygments_lexer": "ipython3",
   "version": "3.11.7"
  }
 },
 "nbformat": 4,
 "nbformat_minor": 2
}
