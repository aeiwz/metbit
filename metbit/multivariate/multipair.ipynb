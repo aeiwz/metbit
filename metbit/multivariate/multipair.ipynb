{
 "cells": [
  {
   "cell_type": "code",
   "execution_count": 1,
   "metadata": {},
   "outputs": [],
   "source": [
    "my_list = ['a/s','a/s','a/s','a','a', 'b','b','b','b','b','b','b', 'c','c','c','c','c','c','c', 'd','d','d','d','d','d','d', 'e','e','e','e','e','e', 'f', 'f', 'f', 'f', 'f', 'f', 'f']  # Your list\n",
    "\n"
   ]
  },
  {
   "cell_type": "code",
   "execution_count": 2,
   "metadata": {},
   "outputs": [],
   "source": [
    "import pandas as pd\n",
    "\n",
    "meta = pd.DataFrame({\"label\": my_list, \"pair\": my_list})"
   ]
  },
  {
   "cell_type": "code",
   "execution_count": null,
   "metadata": {},
   "outputs": [],
   "source": [
    "\n",
    "def unipair(meta, column_name):\n",
    "    import pandas as pd\n",
    "    import numpy as np\n",
    "    \n",
    "    #check meta is a dataframe\n",
    "    if not isinstance(meta, pd.DataFrame):\n",
    "        raise ValueError(\"meta should be a pandas dataframe\")\n",
    "    #check column_name is a string\n",
    "    if not isinstance(column_name, str):\n",
    "        raise ValueError(\"column_name should be a string\")\n",
    "    \n",
    "\n",
    "    df = meta.copy()\n",
    "    y = df[column_name].unique()\n",
    "    pairs = []\n",
    "    for i in range(len(y)):\n",
    "        for j in range(i+1, len(y)):\n",
    "            pairs.append([y[i], y[j]])\n",
    "    \n",
    "    index_ = []\n",
    "    for i in range(len(pairs)):\n",
    "        inside_index = []\n",
    "        for j in range(2):\n",
    "            inside_index.append(list((df.loc[df['label'] == pairs[i][j]]).index))\n",
    "        index_list = [inside_index[0] + inside_index[1]]\n",
    "        index_.append(index_list[0])\n",
    "    pairs\n",
    "    index_\n",
    "    names = []\n",
    "    for i in range(len(pairs)):\n",
    "        \n",
    "        names.append(str(pairs[i][0]) + \"_vs_\" + str(pairs[i][1]))\n",
    "        #check names if contain / replace with _ \n",
    "        names[i] = names[i].replace('/', '_')\n",
    "    return index_, names"
   ]
  },
  {
   "cell_type": "code",
   "execution_count": null,
   "metadata": {},
   "outputs": [],
   "source": [
    "group = unipair(meta, \"pair\")"
   ]
  },
  {
   "cell_type": "code",
   "execution_count": null,
   "metadata": {},
   "outputs": [],
   "source": [
    "group"
   ]
  },
  {
   "cell_type": "code",
   "execution_count": null,
   "metadata": {},
   "outputs": [],
   "source": [
    "df = meta.copy()"
   ]
  },
  {
   "cell_type": "code",
   "execution_count": null,
   "metadata": {},
   "outputs": [],
   "source": [
    "df"
   ]
  },
  {
   "cell_type": "code",
   "execution_count": null,
   "metadata": {},
   "outputs": [],
   "source": [
    "\n",
    "y = df['label'].unique()\n",
    "y"
   ]
  },
  {
   "cell_type": "code",
   "execution_count": null,
   "metadata": {},
   "outputs": [],
   "source": [
    "pairs = []\n",
    "for i in range(len(y)):\n",
    "    for j in range(i+1, len(y)):\n",
    "        pairs.append([y[i], y[j]])"
   ]
  },
  {
   "cell_type": "code",
   "execution_count": null,
   "metadata": {},
   "outputs": [],
   "source": [
    "pairs"
   ]
  },
  {
   "cell_type": "code",
   "execution_count": null,
   "metadata": {},
   "outputs": [],
   "source": [
    "pairs[7][1]"
   ]
  },
  {
   "cell_type": "code",
   "execution_count": null,
   "metadata": {},
   "outputs": [],
   "source": []
  },
  {
   "cell_type": "code",
   "execution_count": null,
   "metadata": {},
   "outputs": [],
   "source": [
    "index_[2]"
   ]
  },
  {
   "cell_type": "code",
   "execution_count": null,
   "metadata": {},
   "outputs": [],
   "source": [
    "df_list = [meta, meta, meta, meta]"
   ]
  },
  {
   "cell_type": "code",
   "execution_count": null,
   "metadata": {},
   "outputs": [],
   "source": [
    "#create object contain dataframe\n",
    "class Dataframe:\n",
    "    def __init__(self, df):\n",
    "        self.df = df\n",
    "        self.df = self.df[0]\n",
    "        \n",
    "    def unipair(self, column_name):\n",
    "        import pandas as pd\n",
    "        import numpy as np\n",
    "        \n",
    "        df = self.df.copy()\n",
    "        y = df[column_name].unique()\n",
    "        pairs = []\n",
    "        for i in range(len(y)):\n",
    "            for j in range(i+1, len(y)):\n",
    "                pairs.append([y[i], y[j]])\n",
    "        \n",
    "        index_ = []\n",
    "        for i in range(len(pairs)):\n",
    "            inside_index = []\n",
    "            for j in range(2):\n",
    "                inside_index.append(list((df.loc[df['label'] == pairs[i][j]]).index))\n",
    "            index_list = [inside_index[0] + inside_index[1]]\n",
    "            index_.append(index_list[0])\n",
    "        return index_\n",
    "    \n",
    "    def update(self, index_):\n",
    "        self.df = self.df.drop(index_)\n",
    "        return self.df"
   ]
  },
  {
   "cell_type": "code",
   "execution_count": null,
   "metadata": {},
   "outputs": [],
   "source": [
    "data = Dataframe(df_list)"
   ]
  },
  {
   "cell_type": "code",
   "execution_count": 4,
   "metadata": {},
   "outputs": [],
   "source": [
    "from unipair import Unipair"
   ]
  },
  {
   "cell_type": "code",
   "execution_count": 5,
   "metadata": {},
   "outputs": [],
   "source": [
    "index_ = Unipair(meta=meta, column_name=\"pair\")"
   ]
  },
  {
   "cell_type": "code",
   "execution_count": 7,
   "metadata": {},
   "outputs": [],
   "source": [
    "dataset = index_.get_dataset()"
   ]
  },
  {
   "cell_type": "code",
   "execution_count": 21,
   "metadata": {},
   "outputs": [
    {
     "data": {
      "text/html": [
       "<div>\n",
       "<style scoped>\n",
       "    .dataframe tbody tr th:only-of-type {\n",
       "        vertical-align: middle;\n",
       "    }\n",
       "\n",
       "    .dataframe tbody tr th {\n",
       "        vertical-align: top;\n",
       "    }\n",
       "\n",
       "    .dataframe thead th {\n",
       "        text-align: right;\n",
       "    }\n",
       "</style>\n",
       "<table border=\"1\" class=\"dataframe\">\n",
       "  <thead>\n",
       "    <tr style=\"text-align: right;\">\n",
       "      <th></th>\n",
       "      <th>label</th>\n",
       "      <th>pair</th>\n",
       "    </tr>\n",
       "  </thead>\n",
       "  <tbody>\n",
       "    <tr>\n",
       "      <th>0</th>\n",
       "      <td>a/s</td>\n",
       "      <td>a/s</td>\n",
       "    </tr>\n",
       "    <tr>\n",
       "      <th>1</th>\n",
       "      <td>a/s</td>\n",
       "      <td>a/s</td>\n",
       "    </tr>\n",
       "    <tr>\n",
       "      <th>2</th>\n",
       "      <td>a/s</td>\n",
       "      <td>a/s</td>\n",
       "    </tr>\n",
       "    <tr>\n",
       "      <th>5</th>\n",
       "      <td>b</td>\n",
       "      <td>b</td>\n",
       "    </tr>\n",
       "    <tr>\n",
       "      <th>6</th>\n",
       "      <td>b</td>\n",
       "      <td>b</td>\n",
       "    </tr>\n",
       "    <tr>\n",
       "      <th>7</th>\n",
       "      <td>b</td>\n",
       "      <td>b</td>\n",
       "    </tr>\n",
       "    <tr>\n",
       "      <th>8</th>\n",
       "      <td>b</td>\n",
       "      <td>b</td>\n",
       "    </tr>\n",
       "    <tr>\n",
       "      <th>9</th>\n",
       "      <td>b</td>\n",
       "      <td>b</td>\n",
       "    </tr>\n",
       "    <tr>\n",
       "      <th>10</th>\n",
       "      <td>b</td>\n",
       "      <td>b</td>\n",
       "    </tr>\n",
       "    <tr>\n",
       "      <th>11</th>\n",
       "      <td>b</td>\n",
       "      <td>b</td>\n",
       "    </tr>\n",
       "  </tbody>\n",
       "</table>\n",
       "</div>"
      ],
      "text/plain": [
       "   label pair\n",
       "0    a/s  a/s\n",
       "1    a/s  a/s\n",
       "2    a/s  a/s\n",
       "5      b    b\n",
       "6      b    b\n",
       "7      b    b\n",
       "8      b    b\n",
       "9      b    b\n",
       "10     b    b\n",
       "11     b    b"
      ]
     },
     "execution_count": 21,
     "metadata": {},
     "output_type": "execute_result"
    }
   ],
   "source": [
    "dataset[1]"
   ]
  },
  {
   "cell_type": "code",
   "execution_count": null,
   "metadata": {},
   "outputs": [],
   "source": [
    "df_list = []\n",
    "for i in index_[0]:\n",
    "    df_ = meta.loc[i]\n",
    "    df_list.append(df_)"
   ]
  },
  {
   "cell_type": "code",
   "execution_count": null,
   "metadata": {},
   "outputs": [],
   "source": [
    "df_list[2]"
   ]
  }
 ],
 "metadata": {
  "kernelspec": {
   "display_name": "Python 3",
   "language": "python",
   "name": "python3"
  },
  "language_info": {
   "codemirror_mode": {
    "name": "ipython",
    "version": 3
   },
   "file_extension": ".py",
   "mimetype": "text/x-python",
   "name": "python",
   "nbconvert_exporter": "python",
   "pygments_lexer": "ipython3",
   "version": "3.11.7"
  }
 },
 "nbformat": 4,
 "nbformat_minor": 2
}
