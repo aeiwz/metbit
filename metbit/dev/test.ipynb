{
 "cells": [
  {
   "cell_type": "code",
   "execution_count": 2,
   "metadata": {},
   "outputs": [],
   "source": [
    "from glob import glob\n",
    "import os"
   ]
  },
  {
   "cell_type": "code",
   "execution_count": 3,
   "metadata": {},
   "outputs": [],
   "source": [
    "working_dir = '/Users/aeiwz/Github/metbit/metbit/test'\n",
    "\n",
    "\n",
    "#Create path to store the OPLS-DA plots and data\n",
    "os.makedirs(working_dir, exist_ok=True)\n",
    "os.makedirs(working_dir+'/element', exist_ok=True)\n",
    "os.makedirs(working_dir+'/element/plots/hist_plot', exist_ok=True)\n",
    "os.makedirs(working_dir+'/element/plots/Lingress', exist_ok=True)\n",
    "os.makedirs(working_dir+'/element/plots/loading_plot', exist_ok=True)\n",
    "os.makedirs(working_dir+'/element/plots/s_plot', exist_ok=True)\n",
    "os.makedirs(working_dir+'/element/plots/score_plot', exist_ok=True)\n",
    "os.makedirs(working_dir+'/element/plots/VIP_score_plot', exist_ok=True)\n",
    "os.makedirs(working_dir+'/element/data/Permutation_scores', exist_ok=True)\n",
    "os.makedirs(working_dir+'/element/data/OPLS_scores', exist_ok=True)\n",
    "os.makedirs(working_dir+'/element/data/Loading_scores', exist_ok=True)\n",
    "os.makedirs(working_dir+'/element/data/VIP_scores', exist_ok=True)\n",
    "os.mkdir(working_dir+'/main')"
   ]
  },
  {
   "cell_type": "code",
   "execution_count": 20,
   "metadata": {},
   "outputs": [
    {
     "data": {
      "text/plain": [
       "{'Loading_scores': '/Users/aeiwz/Github/metbit/metbit/test/element/data/Loading_scores/',\n",
       " 'VIP_scores': '/Users/aeiwz/Github/metbit/metbit/test/element/data/VIP_scores/',\n",
       " 'OPLS_scores': '/Users/aeiwz/Github/metbit/metbit/test/element/data/OPLS_scores/',\n",
       " 'Permutation_scores': '/Users/aeiwz/Github/metbit/metbit/test/element/data/Permutation_scores/',\n",
       " 'VIP_score_plot': '/Users/aeiwz/Github/metbit/metbit/test/element/plots/VIP_score_plot/',\n",
       " 'Lingress': '/Users/aeiwz/Github/metbit/metbit/test/element/plots/Lingress/',\n",
       " 'score_plot': '/Users/aeiwz/Github/metbit/metbit/test/element/plots/score_plot/',\n",
       " 's_plot': '/Users/aeiwz/Github/metbit/metbit/test/element/plots/s_plot/',\n",
       " 'hist_plot': '/Users/aeiwz/Github/metbit/metbit/test/element/plots/hist_plot/',\n",
       " 'loading_plot': '/Users/aeiwz/Github/metbit/metbit/test/element/plots/loading_plot/'}"
      ]
     },
     "execution_count": 20,
     "metadata": {},
     "output_type": "execute_result"
    }
   ],
   "source": [
    "dir = glob(working_dir + '/element/*/*/')\n",
    "\n",
    "#Create dictionary to store the path\n",
    "path = {}\n",
    "for i in dir:\n",
    "    path[i.split('/')[-2]] = i\n",
    "\n"
   ]
  },
  {
   "cell_type": "code",
   "execution_count": 281,
   "metadata": {},
   "outputs": [],
   "source": [
    "def project_name_generator():\n",
    "    #random project name\n",
    "    #get random time\n",
    "    import random\n",
    "    import time\n",
    "    # Get local time\n",
    "    current_time = time.localtime()\n",
    "    # Set format for time\n",
    "    time_format = time.strftime('%Y-%m-%d %H:%M:%S', current_time)\n",
    "    project_names = [\n",
    "                    \"QuantumQuest\",\n",
    "                    \"NebulaNet\",\n",
    "                    \"StellarSync\",\n",
    "                    \"AeroPulse\",\n",
    "                    \"CyberCircuit\",\n",
    "                    \"TerraTrack\",\n",
    "                    \"HoloHive\",\n",
    "                    \"PyroPixel\",\n",
    "                    \"LunarLoom\",\n",
    "                    \"ZenithZero\",\n",
    "                    \"BlazeBeacon\",\n",
    "                    \"AquaArise\",\n",
    "                    \"EchoEclipse\",\n",
    "                    \"FusionForge\",\n",
    "                    \"OrbitOpus\",\n",
    "                    \"PrismPortal\",\n",
    "                    \"NimbusNexus\",\n",
    "                    \"AstroArc\",\n",
    "                    \"VoltVoyage\",\n",
    "                    \"OmniOrbit\",\n",
    "                    \"PulsePioneer\",\n",
    "                    \"VortexVoyage\",\n",
    "                    \"GalacticGrid\",\n",
    "                    \"SolarSpectrum\",\n",
    "                    \"Satternlite\",\n",
    "                    \"StarSpectrum\",\n",
    "                    \"SpaceSpectrum\",\n",
    "                    \"GalacticSpectrum\"\n",
    "                    ]\n",
    "\n",
    "    project_name = time_format + '_' + random.choice(project_names)\n",
    "    return project_name\n"
   ]
  },
  {
   "cell_type": "code",
   "execution_count": 284,
   "metadata": {},
   "outputs": [],
   "source": [
    "\n",
    "class lazypair:\n",
    "\n",
    "\n",
    "    def __init__(self, dataset, column_name):\n",
    "        \n",
    "        meta = dataset\n",
    "        self.meta = meta\n",
    "        self.column_name = column_name\n",
    "        \n",
    "\n",
    "        \"\"\"\n",
    "        This function takes in a dataframe and a column name and returns the index of the dataframe and the names of the pairs\n",
    "        of the unique values in the column.\n",
    "        Parameters\n",
    "        ----------\n",
    "        meta: pandas dataframe\n",
    "            The dataframe to be used.\n",
    "        column_name: str\n",
    "        Unipair(meta, column_name).indexing()\n",
    "        \n",
    "        \"\"\"\n",
    "        import pandas as pd\n",
    "        import numpy as np\n",
    "        \n",
    "        #check unique values in the column\n",
    "        if meta[column_name].nunique() < 3:\n",
    "            raise ValueError(\"Group should contain at least 3 groups\")\n",
    "        else:\n",
    "            pass\n",
    "        #check meta is a dataframe\n",
    "        if not isinstance(meta, pd.DataFrame):\n",
    "            raise ValueError(\"meta should be a pandas dataframe\")\n",
    "        #check column_name is a string\n",
    "        if not isinstance(column_name, str):\n",
    "            raise ValueError(\"column_name should be a string\")\n",
    "        \n",
    "\n",
    "        df = meta\n",
    "        y = df[column_name].unique()\n",
    "        pairs = []\n",
    "        for i in range(len(y)):\n",
    "            for j in range(i+1, len(y)):\n",
    "                pairs.append([y[i], y[j]])\n",
    "        \n",
    "        index_ = []\n",
    "        for i in range(len(pairs)):\n",
    "            inside_index = []\n",
    "            for j in range(2):\n",
    "                inside_index.append(list((df.loc[df[column_name] == pairs[i][j]]).index))\n",
    "            index_list = [inside_index[0] + inside_index[1]]\n",
    "            index_.append(index_list[0])\n",
    "        pairs\n",
    "        index_\n",
    "        names = []\n",
    "        for i in range(len(pairs)):\n",
    "            \n",
    "            names.append(str(pairs[i][0]) + \"_vs_\" + str(pairs[i][1]))\n",
    "            #check names if contain / replace with _ \n",
    "            names[i] = names[i].replace('/', '_')\n",
    "            \n",
    "        del df\n",
    "        del y\n",
    "        \n",
    "        self.index_ = index_\n",
    "        self.names = names\n",
    "        \n",
    "        \n",
    "        \n",
    "\n",
    "    def get_index(self):\n",
    "        index_ = self.index_\n",
    "        return index_\n",
    "    \n",
    "    def get_name(self):\n",
    "        names = self.names\n",
    "        return names\n",
    "    \n",
    "    def get_meta(self):\n",
    "        meta = self.meta\n",
    "        column_name = self.column_name\n",
    "        return meta[column_name]\n",
    "    \n",
    "    def get_column_name(self):\n",
    "        column_name = self.column_name\n",
    "        return column_name\n",
    "    \n",
    "    def get_dataset(self):\n",
    "        df = self.meta\n",
    "        index_ = self.index_\n",
    "        list_of_df = []\n",
    "        for i in range(len(index_)):\n",
    "            list_of_df.append(df.loc[index_[i]])\n",
    "        \n",
    "        #Create object attribute\n",
    "        self.list_of_df = list_of_df\n",
    "        return list_of_df"
   ]
  },
  {
   "cell_type": "code",
   "execution_count": 158,
   "metadata": {},
   "outputs": [
    {
     "data": {
      "text/plain": [
       "'CyberCircuit 2024-06-25 11:12:48'"
      ]
     },
     "execution_count": 158,
     "metadata": {},
     "output_type": "execute_result"
    }
   ],
   "source": [
    "project_name_generator()"
   ]
  },
  {
   "cell_type": "code",
   "execution_count": 287,
   "metadata": {},
   "outputs": [],
   "source": [
    "class lazy_opls_da:\n",
    "\n",
    "    \n",
    "    import os\n",
    "    from glob import glob\n",
    "    import pandas as pd\n",
    "    import numpy as np\n",
    "    import random\n",
    "    from metbit import opls_da\n",
    "\n",
    "    from metbit import project_name_generator\n",
    "    \n",
    "\n",
    "    def __init__(self, data: pd.DataFrame, groups: list, working_dir: str, n_components: int = 2, scaling: str = 'pareto', \n",
    "                    estimator: str = 'opls', kfold: int = 3, random_state: int = 94, auto_ncomp: bool = True,  \n",
    "                    permutation: bool = True, \n",
    "                    VIP: bool = True, \n",
    "                    linear_regression: bool = True) -> None:\n",
    "\n",
    "        self.groups = groups\n",
    "        self.n_components = n_components\n",
    "        self.working_dir = working_dir\n",
    "\n",
    "        self.random_state = random_state        \n",
    "        self.estimator = estimator\n",
    "        self.scale = scaling\n",
    "        self.kfold = kfold\n",
    "        self.auto_ncomp = auto_ncomp\n",
    "        \n",
    "\n",
    "        data['Class'] = groups\n",
    "        self.data = data\n",
    "\n",
    "        self.permutation = permutation\n",
    "        if permutation == True:\n",
    "            self.n_permutataion = int(input('Enter the number of permutation: '))\n",
    "            self.n_jobs = int(input('Enter the number of jobs: '))\n",
    "        else:\n",
    "            pass\n",
    "        \n",
    "        self.VIP = VIP\n",
    "        if VIP == True:\n",
    "            self.VIP_threshold = float(input('Enter the VIP threshold: '))\n",
    "\n",
    "        self.linear_regression = linear_regression\n",
    "        if linear_regression == True:\n",
    "            self.FC_threshold = float(input('Enter the fold change threshold: '))\n",
    "            self.p_val_threshold = float(input('Enter the p-value threshold: '))\n",
    "\n",
    "        \"\"\"\n",
    "        This function takes in a dataframe and a list of y values and returns the project_name model.\n",
    "        Parameters\n",
    "        ----------\n",
    "        data: pandas dataframe\n",
    "            The dataframe to be used.\n",
    "        y: list\n",
    "            The list of y values.\n",
    "        n_components: int\n",
    "            The number of components to use.\n",
    "        lazy_opls_da(data, y, n_components).fit()\n",
    "        \"\"\"\n",
    "        \n",
    "        project_name = project_name_generator()\n",
    "        \n",
    "\n",
    "        #Remove last / from working_dir\n",
    "        if working_dir[-1] == '/':\n",
    "            working_dir = working_dir[:-1]\n",
    "        else:\n",
    "            working_dir = working_dir\n",
    "\n",
    "        #Replace \\ with / for windows\n",
    "        working_dir = working_dir.replace('\\\\', '/')\n",
    "\n",
    "\n",
    "        if os.path.exists(working_dir + '/' + project_name + '/element'):\n",
    "            print('Directory already exist')\n",
    "        else:\n",
    "            folder_name_plot = ['loading_plot', 's_plot', 'score_plot']\n",
    "            folder_name_data = []\n",
    "            if permutation == True:\n",
    "                folder_name_plot.append('hist_plot')\n",
    "            else:\n",
    "                pass\n",
    "            if VIP == True:\n",
    "                folder_name_plot.append('VIP_score_plot')\n",
    "                folder_name_data.append('VIP_scores')\n",
    "            else:\n",
    "                pass\n",
    "            if linear_regression == True:\n",
    "                folder_name_plot.append('Volcano_plot')\n",
    "                folder_name_data.append('Lingress_data')\n",
    "            else:\n",
    "                pass\n",
    "\n",
    "\n",
    "\n",
    "            os.makedirs(working_dir+'/' + project_name + '/element', exist_ok=True)\n",
    "            for i in folder_name_plot:\n",
    "                os.makedirs(working_dir+'/' + project_name + '/element/plots/' + i, exist_ok=True)\n",
    "            for i in folder_name_data:\n",
    "                os.makedirs(working_dir+'/' + project_name + '/element/data/' + i, exist_ok=True)\n",
    "\n",
    "            os.makedirs(working_dir+'/' + project_name + '/main')\n",
    "\n",
    "        #Create dictionary to store the path\n",
    "        dir = glob(working_dir + '/' + project_name + '/element/*/*/')\n",
    "\n",
    "        #Create dictionary to store the path\n",
    "        path = {}\n",
    "        for i in dir:\n",
    "            path[i.split('/')[-2]] = i\n",
    "\n",
    "        self.color_map = color_map\n",
    "        self.path = path\n",
    "\n",
    "        #Print summary model as table text format\n",
    "        Summary = f\"\"\"\n",
    "        Project Name: {project_name}\n",
    "        Number of groups: {len(data['Class'].unique())}\n",
    "        Number of samples: {len(data)}\n",
    "        Number of features: {len(data.columns) - 1}\n",
    "        Number of components: {n_components}\n",
    "        Estimator: {estimator}\n",
    "        Scaling: {scaling}\n",
    "        Kfold: {kfold}\n",
    "        Random state: {random_state}\n",
    "        Auto ncomp: {auto_ncomp}\n",
    "        Working directory: {working_dir}\n",
    "        Permutation: {permutation}\n",
    "        VIP: {VIP}\n",
    "        Linear regression: {linear_regression}\n",
    "        \"\"\"\n",
    "\n",
    "        return print(Summary)\n",
    "\n",
    "\n",
    "\n",
    "    def fit(self, marker_color: dict = None) -> None:\n",
    "\n",
    "        from metbit import opls_da\n",
    "        from lingress import lin_regression\n",
    "        from metbit import lazypair\n",
    "\n",
    "     \n",
    "        data = self.data\n",
    "        n_components = self.n_components\n",
    "        path = self.path\n",
    "        color_map = self.color_map\n",
    "        scale = self.scale\n",
    "\n",
    "        marker_color = marker_color\n",
    "\n",
    "\n",
    "        #Create object attribute\n",
    "        lazy = lazypair(data, 'Class')\n",
    "        data_list = lazy.get_dataset()\n",
    "        name_save = lazy.get_name()\n",
    "\n",
    "        for i in range(len(data_list)):\n",
    "            \n",
    "            df = data_list[i]\n",
    "            name = name_save[i]\n",
    "\n",
    "            X = df.drop('Class', axis=1)\n",
    "            y = df['Class']\n",
    "            feature_names = X.columns\n",
    "            # Check if feature names can be converted to float\n",
    "            try:\n",
    "                feature_names = feature_names(float).tolist()\n",
    "            except:\n",
    "                feature_names = feature_names.tolist()\n",
    "\n",
    "            #OPLS-DA\n",
    "            oplsda_mod = opls_da(X=X, y=y, features_name = feature_names, n_components=n_components, scale=scale, estimator=self.estimator, kfold=self.kfold, random_state=self.random_state, auto_ncomp = self.auto_ncomp)\n",
    "            oplsda_mod.fit()\n",
    "\n",
    "            #Score plot\n",
    "            oplsda_mod.plot_oplsda_scores(color_dict=marker_color).write_html(path['score_plot'] + name + '_score_plot.html')\n",
    "            oplsda_mod.plot_oplsda_scores(color_dict=marker_color).write_image(path['score_plot'] + name + '_score_plot.png')\n",
    "\n",
    "            #Loading plot\n",
    "            oplsda_mod.plot_loading().write_html(path['loading_plot'] + name + '_loading_plot.html')\n",
    "            oplsda_mod.plot_loading().write_image(path['loading_plot'] + name + '_loading_plot.png')\n",
    "\n",
    "            #S plot\n",
    "            oplsda_mod.plot_s_scores().write_html(path['s_plot'] + name + '_s_plot.html')\n",
    "            oplsda_mod.plot_s_scores().write_image(path['s_plot'] + name + '_s_plot.png')\n",
    "\n",
    "            #VIP score plot\n",
    "            if self.VIP == True:\n",
    "                oplsda_mod.vip_scores()\n",
    "                oplsda_mod.get_vip_scores().to_csv(path['VIP_scores'] + name + '_VIP_scores.csv')\n",
    "                oplsda_mod.vip_plot(threshold=self.VIP_threshold).write_html(path['VIP_score_plot'] + name + '_VIP_score_plot.html')\n",
    "                oplsda_mod.vip_plot(threshold=self.VIP_threshold).write_image(path['VIP_score_plot'] + name + '_VIP_score_plot.png')\n",
    "            else:\n",
    "                pass\n",
    "\n",
    "            #Permutation test\n",
    "            if self.permutation == True:\n",
    "                oplsda_mod.permutation_test(n_permutations=self.n_permutataion, n_jobs=self.n_jobs)\n",
    "                oplsda_mod.plot_hist().write_html(path['hist_plot'] + name + '_hist_plot.html')\n",
    "                oplsda_mod.plot_hist().write_image(path['hist_plot'] + name + '_hist_plot.png')\n",
    "            else:\n",
    "                pass\n",
    "\n",
    "            #Linear regression\n",
    "            if self.linear_regression == True:\n",
    "                lin_ = lin_regression(x=X, target=y, label=y, features_name=feature_names)\n",
    "                lin_.create_dataset()\n",
    "                lin_.fit_model(adj_method='fdr_bh')\n",
    "                lin_.volcano_plot(fc_cut_off=self.FC_threshold, p_val_cut_off=self.p_val_threshold).write_html(path['Volcano_plot'] + name + '_Volcano_plot.html')\n",
    "                lin_.volcano_plot(fc_cut_off=self.FC_threshold, p_val_cut_off=self.p_val_threshold).write_image(path['Volcano_plot'] + name + '_Volcano_plot.png')\n",
    "                lin_.report().to_csv(path['Lingress_data'] + name + '_Lingress_data.csv', index=False)\n",
    "            else:\n",
    "                pass\n",
    "        \n",
    "        return print('Model has been fitted successfully')\n",
    "\n"
   ]
  },
  {
   "cell_type": "code",
   "execution_count": 243,
   "metadata": {},
   "outputs": [
    {
     "data": {
      "text/html": [
       "<div>\n",
       "<style scoped>\n",
       "    .dataframe tbody tr th:only-of-type {\n",
       "        vertical-align: middle;\n",
       "    }\n",
       "\n",
       "    .dataframe tbody tr th {\n",
       "        vertical-align: top;\n",
       "    }\n",
       "\n",
       "    .dataframe thead th {\n",
       "        text-align: right;\n",
       "    }\n",
       "</style>\n",
       "<table border=\"1\" class=\"dataframe\">\n",
       "  <thead>\n",
       "    <tr style=\"text-align: right;\">\n",
       "      <th></th>\n",
       "      <th>SepalLength</th>\n",
       "      <th>SepalWidth</th>\n",
       "      <th>PetalLength</th>\n",
       "      <th>PetalWidth</th>\n",
       "      <th>Name</th>\n",
       "    </tr>\n",
       "  </thead>\n",
       "  <tbody>\n",
       "    <tr>\n",
       "      <th>0</th>\n",
       "      <td>5.1</td>\n",
       "      <td>3.5</td>\n",
       "      <td>1.4</td>\n",
       "      <td>0.2</td>\n",
       "      <td>Iris-setosa</td>\n",
       "    </tr>\n",
       "    <tr>\n",
       "      <th>1</th>\n",
       "      <td>4.9</td>\n",
       "      <td>3.0</td>\n",
       "      <td>1.4</td>\n",
       "      <td>0.2</td>\n",
       "      <td>Iris-setosa</td>\n",
       "    </tr>\n",
       "    <tr>\n",
       "      <th>2</th>\n",
       "      <td>4.7</td>\n",
       "      <td>3.2</td>\n",
       "      <td>1.3</td>\n",
       "      <td>0.2</td>\n",
       "      <td>Iris-setosa</td>\n",
       "    </tr>\n",
       "    <tr>\n",
       "      <th>3</th>\n",
       "      <td>4.6</td>\n",
       "      <td>3.1</td>\n",
       "      <td>1.5</td>\n",
       "      <td>0.2</td>\n",
       "      <td>Iris-setosa</td>\n",
       "    </tr>\n",
       "    <tr>\n",
       "      <th>4</th>\n",
       "      <td>5.0</td>\n",
       "      <td>3.6</td>\n",
       "      <td>1.4</td>\n",
       "      <td>0.2</td>\n",
       "      <td>Iris-setosa</td>\n",
       "    </tr>\n",
       "    <tr>\n",
       "      <th>...</th>\n",
       "      <td>...</td>\n",
       "      <td>...</td>\n",
       "      <td>...</td>\n",
       "      <td>...</td>\n",
       "      <td>...</td>\n",
       "    </tr>\n",
       "    <tr>\n",
       "      <th>145</th>\n",
       "      <td>6.7</td>\n",
       "      <td>3.0</td>\n",
       "      <td>5.2</td>\n",
       "      <td>2.3</td>\n",
       "      <td>Iris-virginica</td>\n",
       "    </tr>\n",
       "    <tr>\n",
       "      <th>146</th>\n",
       "      <td>6.3</td>\n",
       "      <td>2.5</td>\n",
       "      <td>5.0</td>\n",
       "      <td>1.9</td>\n",
       "      <td>Iris-virginica</td>\n",
       "    </tr>\n",
       "    <tr>\n",
       "      <th>147</th>\n",
       "      <td>6.5</td>\n",
       "      <td>3.0</td>\n",
       "      <td>5.2</td>\n",
       "      <td>2.0</td>\n",
       "      <td>Iris-virginica</td>\n",
       "    </tr>\n",
       "    <tr>\n",
       "      <th>148</th>\n",
       "      <td>6.2</td>\n",
       "      <td>3.4</td>\n",
       "      <td>5.4</td>\n",
       "      <td>2.3</td>\n",
       "      <td>Iris-virginica</td>\n",
       "    </tr>\n",
       "    <tr>\n",
       "      <th>149</th>\n",
       "      <td>5.9</td>\n",
       "      <td>3.0</td>\n",
       "      <td>5.1</td>\n",
       "      <td>1.8</td>\n",
       "      <td>Iris-virginica</td>\n",
       "    </tr>\n",
       "  </tbody>\n",
       "</table>\n",
       "<p>150 rows × 5 columns</p>\n",
       "</div>"
      ],
      "text/plain": [
       "     SepalLength  SepalWidth  PetalLength  PetalWidth            Name\n",
       "0            5.1         3.5          1.4         0.2     Iris-setosa\n",
       "1            4.9         3.0          1.4         0.2     Iris-setosa\n",
       "2            4.7         3.2          1.3         0.2     Iris-setosa\n",
       "3            4.6         3.1          1.5         0.2     Iris-setosa\n",
       "4            5.0         3.6          1.4         0.2     Iris-setosa\n",
       "..           ...         ...          ...         ...             ...\n",
       "145          6.7         3.0          5.2         2.3  Iris-virginica\n",
       "146          6.3         2.5          5.0         1.9  Iris-virginica\n",
       "147          6.5         3.0          5.2         2.0  Iris-virginica\n",
       "148          6.2         3.4          5.4         2.3  Iris-virginica\n",
       "149          5.9         3.0          5.1         1.8  Iris-virginica\n",
       "\n",
       "[150 rows x 5 columns]"
      ]
     },
     "execution_count": 243,
     "metadata": {},
     "output_type": "execute_result"
    }
   ],
   "source": [
    "df = pd.read_csv('https://raw.githubusercontent.com/plotly/datasets/master/iris.csv')\n",
    "df"
   ]
  },
  {
   "cell_type": "code",
   "execution_count": 244,
   "metadata": {},
   "outputs": [],
   "source": [
    "data = df.drop('Name', axis=1)\n",
    "groups = df['Name']"
   ]
  },
  {
   "cell_type": "code",
   "execution_count": 288,
   "metadata": {},
   "outputs": [
    {
     "name": "stdout",
     "output_type": "stream",
     "text": [
      "\n",
      "        Project Name: 2024-06-25 16:46:49_SpaceSpectrum\n",
      "        Number of groups: 3\n",
      "        Number of samples: 150\n",
      "        Number of features: 4\n",
      "        Number of components: 2\n",
      "        Estimator: opls\n",
      "        Scaling: pareto\n",
      "        Kfold: 3\n",
      "        Random state: 94\n",
      "        Auto ncomp: True\n",
      "        Working directory: /Users/aeiwz/Github/metbit/metbit/test\n",
      "        Permutation: True\n",
      "        VIP: True\n",
      "        Linear regression: True\n",
      "        \n",
      "OPLS-DA model is fitted in 0.020121097564697266 seconds\n"
     ]
    },
    {
     "name": "stderr",
     "output_type": "stream",
     "text": [
      "[Parallel(n_jobs=1)]: Done   1 tasks      | elapsed:    0.0s\n",
      "[Parallel(n_jobs=1)]: Done   4 tasks      | elapsed:    0.0s\n",
      "[Parallel(n_jobs=1)]: Done   7 tasks      | elapsed:    0.0s\n",
      "[Parallel(n_jobs=1)]: Done  12 tasks      | elapsed:    0.0s\n",
      "[Parallel(n_jobs=1)]: Done  17 tasks      | elapsed:    0.1s\n",
      "[Parallel(n_jobs=1)]: Done  24 tasks      | elapsed:    0.1s\n",
      "[Parallel(n_jobs=1)]: Done  31 tasks      | elapsed:    0.1s\n",
      "[Parallel(n_jobs=1)]: Done  40 tasks      | elapsed:    0.1s\n",
      "[Parallel(n_jobs=1)]: Done  49 tasks      | elapsed:    0.1s\n"
     ]
    },
    {
     "name": "stdout",
     "output_type": "stream",
     "text": [
      "Permutation test is performed in 0.15579795837402344 seconds\n"
     ]
    },
    {
     "name": "stderr",
     "output_type": "stream",
     "text": [
      "Creating data frame: 100%|██████████| 4/4 [00:00<00:00, 147168.56it/s]\n",
      "Features processed:   4%|▍         | 4/100 [00:00<00:00, 334.23it/s]"
     ]
    },
    {
     "name": "stdout",
     "output_type": "stream",
     "text": [
      "adjustment p-value with Benjamini/Hochberg (non-negative) Done\n",
      "OPLS-DA model is fitted in 0.002131938934326172 seconds\n"
     ]
    },
    {
     "name": "stderr",
     "output_type": "stream",
     "text": [
      "\n",
      "[Parallel(n_jobs=1)]: Done   1 tasks      | elapsed:    0.0s\n",
      "[Parallel(n_jobs=1)]: Done   4 tasks      | elapsed:    0.0s\n",
      "[Parallel(n_jobs=1)]: Done   7 tasks      | elapsed:    0.0s\n",
      "[Parallel(n_jobs=1)]: Done  12 tasks      | elapsed:    0.0s\n",
      "[Parallel(n_jobs=1)]: Done  17 tasks      | elapsed:    0.0s\n",
      "[Parallel(n_jobs=1)]: Done  24 tasks      | elapsed:    0.1s\n",
      "[Parallel(n_jobs=1)]: Done  31 tasks      | elapsed:    0.1s\n",
      "[Parallel(n_jobs=1)]: Done  40 tasks      | elapsed:    0.1s\n",
      "[Parallel(n_jobs=1)]: Done  49 tasks      | elapsed:    0.1s\n"
     ]
    },
    {
     "name": "stdout",
     "output_type": "stream",
     "text": [
      "Permutation test is performed in 0.144212007522583 seconds\n"
     ]
    },
    {
     "name": "stderr",
     "output_type": "stream",
     "text": [
      "Creating data frame: 100%|██████████| 4/4 [00:00<00:00, 143395.01it/s]\n",
      "Features processed:   4%|▍         | 4/100 [00:00<00:00, 588.90it/s]"
     ]
    },
    {
     "name": "stdout",
     "output_type": "stream",
     "text": [
      "adjustment p-value with Benjamini/Hochberg (non-negative) Done\n",
      "OPLS-DA model is fitted in 0.002429962158203125 seconds\n"
     ]
    },
    {
     "name": "stderr",
     "output_type": "stream",
     "text": [
      "\n",
      "[Parallel(n_jobs=1)]: Done   1 tasks      | elapsed:    0.0s\n",
      "[Parallel(n_jobs=1)]: Done   4 tasks      | elapsed:    0.0s\n",
      "[Parallel(n_jobs=1)]: Done   7 tasks      | elapsed:    0.0s\n",
      "[Parallel(n_jobs=1)]: Done  12 tasks      | elapsed:    0.0s\n",
      "[Parallel(n_jobs=1)]: Done  17 tasks      | elapsed:    0.0s\n",
      "[Parallel(n_jobs=1)]: Done  24 tasks      | elapsed:    0.1s\n",
      "[Parallel(n_jobs=1)]: Done  31 tasks      | elapsed:    0.1s\n",
      "[Parallel(n_jobs=1)]: Done  40 tasks      | elapsed:    0.1s\n",
      "[Parallel(n_jobs=1)]: Done  49 tasks      | elapsed:    0.1s\n"
     ]
    },
    {
     "name": "stdout",
     "output_type": "stream",
     "text": [
      "Permutation test is performed in 0.14325213432312012 seconds\n"
     ]
    },
    {
     "name": "stderr",
     "output_type": "stream",
     "text": [
      "Creating data frame: 100%|██████████| 4/4 [00:00<00:00, 153919.41it/s]\n",
      "Features processed:   4%|▍         | 4/100 [00:00<00:00, 522.12it/s]"
     ]
    },
    {
     "name": "stdout",
     "output_type": "stream",
     "text": [
      "adjustment p-value with Benjamini/Hochberg (non-negative) Done\n",
      "Model has been fitted successfully\n"
     ]
    },
    {
     "name": "stderr",
     "output_type": "stream",
     "text": [
      "\n"
     ]
    }
   ],
   "source": [
    "lazy_opls_da(data=data, groups=groups, working_dir='/Users/aeiwz/Github/metbit/metbit/test').fit()"
   ]
  },
  {
   "cell_type": "code",
   "execution_count": null,
   "metadata": {},
   "outputs": [],
   "source": []
  },
  {
   "cell_type": "code",
   "execution_count": 200,
   "metadata": {},
   "outputs": [
    {
     "data": {
      "image/png": "[encoded data removed]",
      "text/plain": [
       "<Figure size 1200x200 with 1 Axes>"
      ]
     },
     "metadata": {},
     "output_type": "display_data"
    }
   ],
   "source": [
    "import matplotlib.pyplot as plt\n",
    "import numpy as np\n",
    "import matplotlib.colors as mcolors\n",
    "\n",
    "# List of 32 different color codes in HEX format\n",
    "colors = [\n",
    "     \"#FFB6C1\", \"#FFD700\", \"#FFA07A\", \"#FA8072\", \"#F08080\", \"#E9967A\", \"#FF8C00\",\n",
    "    \"#FFA500\", \"#FFD700\", \"#DAA520\", \"#BDB76B\", \"#9ACD32\", \"#7FFF00\", \"#32CD32\",\n",
    "    \"#00FF7F\", \"#20B2AA\", \"#00CED1\", \"#AFEEEE\", \"#87CEEB\", \"#ADD8E6\", \"#B0E0E6\",\n",
    "    \"#87CEFA\", \"#4682B4\", \"#6495ED\", \"#4169E1\", \"#0000FF\", \"#191970\", \"#7B68EE\",\n",
    "    \"#8A2BE2\", \"#9932CC\", \"#BA55D3\", \"#FF69B4\"\n",
    "]\n",
    "\n",
    "# Convert HEX colors to RGB\n",
    "rgb_colors = [mcolors.to_rgb(c) for c in colors]\n",
    "\n",
    "# Create an image with the colors\n",
    "image = np.array([rgb_colors])\n",
    "\n",
    "# Plotting the colors\n",
    "fig, ax = plt.subplots(figsize=(12, 2))\n",
    "ax.imshow(image.reshape(1, len(colors), 3), aspect='auto')\n",
    "ax.axis('off')  # Turn off axis\n",
    "plt.show()\n"
   ]
  },
  {
   "cell_type": "code",
   "execution_count": 227,
   "metadata": {},
   "outputs": [],
   "source": [
    "colors = [\n",
    "     \"#FFB6C1\", \"#FFD700\", \"#FFA07A\", \"#FA8072\", \"#F08080\", \"#E9967A\", \"#FF8C00\",\n",
    "    \"#FFA500\", \"#FFD700\", \"#DAA520\", \"#BDB76B\", \"#9ACD32\", \"#7FFF00\", \"#32CD32\",\n",
    "    \"#00FF7F\", \"#20B2AA\", \"#00CED1\", \"#AFEEEE\", \"#87CEEB\", \"#ADD8E6\", \"#B0E0E6\",\n",
    "    \"#87CEFA\", \"#4682B4\", \"#6495ED\", \"#4169E1\", \"#0000FF\", \"#191970\", \"#7B68EE\",\n",
    "    \"#8A2BE2\", \"#9932CC\", \"#BA55D3\", \"#FF69B4\"\n",
    "]\n",
    "\n",
    "import random\n",
    "\n",
    "color_map = {}\n",
    "for i in range(23):\n",
    "    color_map[i] = str(random.sample(colors, 1)).removeprefix(\"['\").removesuffix(\"']\")"
   ]
  },
  {
   "cell_type": "code",
   "execution_count": 228,
   "metadata": {},
   "outputs": [
    {
     "data": {
      "text/plain": [
       "{0: '#DAA520',\n",
       " 1: '#87CEEB',\n",
       " 2: '#BA55D3',\n",
       " 3: '#FF69B4',\n",
       " 4: '#9ACD32',\n",
       " 5: '#FFD700',\n",
       " 6: '#20B2AA',\n",
       " 7: '#87CEFA',\n",
       " 8: '#ADD8E6',\n",
       " 9: '#9ACD32',\n",
       " 10: '#6495ED',\n",
       " 11: '#7FFF00',\n",
       " 12: '#00CED1',\n",
       " 13: '#AFEEEE',\n",
       " 14: '#B0E0E6',\n",
       " 15: '#FFD700',\n",
       " 16: '#AFEEEE',\n",
       " 17: '#AFEEEE',\n",
       " 18: '#8A2BE2',\n",
       " 19: '#BDB76B',\n",
       " 20: '#6495ED',\n",
       " 21: '#9ACD32',\n",
       " 22: '#87CEFA'}"
      ]
     },
     "execution_count": 228,
     "metadata": {},
     "output_type": "execute_result"
    }
   ],
   "source": [
    "color_map\n"
   ]
  },
  {
   "cell_type": "code",
   "execution_count": 231,
   "metadata": {},
   "outputs": [
    {
     "data": {
      "image/png": "[encoded data removed]",
      "text/plain": [
       "<Figure size 1000x600 with 1 Axes>"
      ]
     },
     "metadata": {},
     "output_type": "display_data"
    }
   ],
   "source": [
    "import matplotlib.pyplot as plt\n",
    "import matplotlib.patches as mpatches\n",
    "import random\n",
    "\n",
    "# Define the colors and their corresponding names\n",
    "colors = [\n",
    "    \"#FFB6C1\", \"#FFD700\", \"#FFA07A\", \"#FA8072\", \"#F08080\", \"#E9967A\", \"#FF8C00\",\n",
    "    \"#FFA500\", \"#FFD700\", \"#DAA520\", \"#BDB76B\", \"#9ACD32\", \"#7FFF00\", \"#32CD32\",\n",
    "    \"#00FF7F\", \"#20B2AA\", \"#00CED1\", \"#AFEEEE\", \"#87CEEB\", \"#ADD8E6\", \"#B0E0E6\",\n",
    "    \"#87CEFA\", \"#4682B4\", \"#6495ED\", \"#4169E1\", \"#0000FF\", \"#191970\", \"#7B68EE\",\n",
    "    \"#8A2BE2\", \"#9932CC\", \"#BA55D3\", \"#FF69B4\"\n",
    "]\n",
    "\n",
    "# Generate color map\n",
    "color_map = {}\n",
    "for i in range(23):\n",
    "    color_map[i] = str(random.sample(colors, 1)).removeprefix(\"['\").removesuffix(\"']\")\n",
    "\n",
    "# Plot the color map using rectangles and texts directly\n",
    "fig, ax = plt.subplots(figsize=(10, 6))\n",
    "\n",
    "# Plot the color blocks and labels\n",
    "for i, (index, color) in enumerate(color_map.items()):\n",
    "    ax.add_patch(mpatches.Rectangle((0, i), 1, 1, color=color))\n",
    "    plt.text(0.5, i + 0.5, f\"{index}: {color}\", ha='center', va='center', fontsize=12, color=\"black\" if color not in [\"#000000\", \"#191970\"] else \"white\")\n",
    "\n",
    "# Set limits and remove axes\n",
    "ax.set_xlim(0, 1)\n",
    "ax.set_ylim(0, len(color_map))\n",
    "ax.axis('off')\n",
    "plt.gca().invert_yaxis()\n",
    "\n",
    "plt.show()\n",
    "\n"
   ]
  },
  {
   "cell_type": "code",
   "execution_count": 210,
   "metadata": {},
   "outputs": [
    {
     "data": {
      "text/plain": [
       "23"
      ]
     },
     "execution_count": 210,
     "metadata": {},
     "output_type": "execute_result"
    }
   ],
   "source": [
    "len(unique_color)"
   ]
  },
  {
   "cell_type": "code",
   "execution_count": 171,
   "metadata": {},
   "outputs": [],
   "source": [
    "import pandas as pd\n",
    "import numpy as np"
   ]
  },
  {
   "cell_type": "code",
   "execution_count": 182,
   "metadata": {},
   "outputs": [
    {
     "data": {
      "text/plain": [
       "<__main__.lazy_opls_da at 0x126eeaba0>"
      ]
     },
     "execution_count": 182,
     "metadata": {},
     "output_type": "execute_result"
    }
   ],
   "source": [
    "data = pd.DataFrame(np.random.rand(100, 10))\n",
    "y = np.random.randint(0, 2, 100)\n",
    "n_components = 2\n",
    "\n",
    "lazy_opls_da(data, y, n_components, working_dir, permutation=False, VIP=False, linear_regression=False)"
   ]
  },
  {
   "cell_type": "code",
   "execution_count": 178,
   "metadata": {},
   "outputs": [],
   "source": [
    "\n",
    "dir = glob('/Users/aeiwz/Github/metbit/metbit/test/QuantumQuest 2024-06-25 11:29:53' + '/element/*/*/')\n",
    "\n",
    "#Create dictionary to store the path\n",
    "path = {}\n",
    "for i in dir:\n",
    "    path[i.split('/')[-2]] = i"
   ]
  },
  {
   "cell_type": "code",
   "execution_count": 179,
   "metadata": {},
   "outputs": [
    {
     "data": {
      "text/plain": [
       "{'Loading_scores': '/Users/aeiwz/Github/metbit/metbit/test/QuantumQuest 2024-06-25 11:29:53/element/data/Loading_scores/',\n",
       " 'VIP_scores': '/Users/aeiwz/Github/metbit/metbit/test/QuantumQuest 2024-06-25 11:29:53/element/data/VIP_scores/',\n",
       " 'OPLS_scores': '/Users/aeiwz/Github/metbit/metbit/test/QuantumQuest 2024-06-25 11:29:53/element/data/OPLS_scores/',\n",
       " 'Permutation_scores': '/Users/aeiwz/Github/metbit/metbit/test/QuantumQuest 2024-06-25 11:29:53/element/data/Permutation_scores/',\n",
       " 'Lingress_data': '/Users/aeiwz/Github/metbit/metbit/test/QuantumQuest 2024-06-25 11:29:53/element/data/Lingress_data/',\n",
       " 'VIP_score_plot': '/Users/aeiwz/Github/metbit/metbit/test/QuantumQuest 2024-06-25 11:29:53/element/plots/VIP_score_plot/',\n",
       " 'Lingress': '/Users/aeiwz/Github/metbit/metbit/test/QuantumQuest 2024-06-25 11:29:53/element/plots/Lingress/',\n",
       " 'score_plot': '/Users/aeiwz/Github/metbit/metbit/test/QuantumQuest 2024-06-25 11:29:53/element/plots/score_plot/',\n",
       " 's_plot': '/Users/aeiwz/Github/metbit/metbit/test/QuantumQuest 2024-06-25 11:29:53/element/plots/s_plot/',\n",
       " 'hist_plot': '/Users/aeiwz/Github/metbit/metbit/test/QuantumQuest 2024-06-25 11:29:53/element/plots/hist_plot/',\n",
       " 'loading_plot': '/Users/aeiwz/Github/metbit/metbit/test/QuantumQuest 2024-06-25 11:29:53/element/plots/loading_plot/'}"
      ]
     },
     "execution_count": 179,
     "metadata": {},
     "output_type": "execute_result"
    }
   ],
   "source": [
    "path"
   ]
  }
 ],
 "metadata": {
  "kernelspec": {
   "display_name": "Python 3",
   "language": "python",
   "name": "python3"
  },
  "language_info": {
   "codemirror_mode": {
    "name": "ipython",
    "version": 3
   },
   "file_extension": ".py",
   "mimetype": "text/x-python",
   "name": "python",
   "nbconvert_exporter": "python",
   "pygments_lexer": "ipython3",
   "version": "3.12.3"
  }
 },
 "nbformat": 4,
 "nbformat_minor": 2
}
